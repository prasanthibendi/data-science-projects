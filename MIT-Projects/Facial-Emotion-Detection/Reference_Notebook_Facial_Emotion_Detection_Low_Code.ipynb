{
  "cells": [
    {
      "cell_type": "markdown",
      "metadata": {
        "id": "bg-DvjFCyXSr"
      },
      "source": [
        "# **Facial Emotion Detection**"
      ]
    },
    {
      "cell_type": "markdown",
      "metadata": {
        "id": "DYdEI31whyE-"
      },
      "source": [
        "## **Problem Definition**\n",
        "\n",
        "**The context:** Why is this problem important to solve?<br>\n",
        "**The objectives:** What is the intended goal?<br>\n",
        "**The key questions:** What are the key questions that need to be answered?<br>\n",
        "**The problem formulation:** What are we trying to solve using data science?\n",
        "\n",
        "\n",
        "\n",
        "## **About the dataset**\n",
        "\n",
        "The data set consists of 3 folders, i.e., 'test', 'train', and 'validation'.\n",
        "Each of these folders has four subfolders:\n",
        "\n",
        "**‘happy’**: Images of people who have happy facial expressions.<br>\n",
        "**‘sad’**: Images of people with sad or upset facial expressions.<br>\n",
        "**‘surprise’**: Images of people who have shocked or surprised facial expressions.<br>\n",
        "**‘neutral’**: Images of people showing no prominent emotion in their facial expression at all.<br>\n"
      ]
    },
    {
      "cell_type": "markdown",
      "metadata": {
        "id": "entENKtxK-g-"
      },
      "source": [
        "## **Important Notes**\n",
        "\n",
        "- This notebook can be considered a guide to refer to while solving the problem. The evaluation will be as per the Rubric shared for each Milestone. Unlike previous courses, it does not follow the pattern of the graded questions in different sections. This notebook would give you a direction on what steps need to be taken to get a feasible solution to the problem. Please note that this is just one way of doing this. **There can be other 'creative' ways to solve the problem, and we encourage you to feel free and explore them as an 'optional' exercise**.\n",
        "\n",
        "- In the notebook, there are markdown cells called Observations and Insights. It is a good practice to provide observations and extract insights from the outputs.\n",
        "\n",
        "- The naming convention for different variables can vary. **Please consider the code provided in this notebook as a sample code.**\n",
        "\n",
        "- All the outputs in the notebook are just for reference and can be different if you follow a different approach.\n",
        "\n",
        "- There are sections called **Think About It** in the notebook that will help you get a better understanding of the reasoning behind a particular technique/step. Interested learners can take alternative approaches if they want to explore different techniques."
      ]
    },
    {
      "cell_type": "markdown",
      "metadata": {
        "id": "HDM89XHyCxrA"
      },
      "source": [
        "## **Mounting the Drive**\n",
        "\n",
        "**NOTE:**  Please use Google Colab from your browser for this notebook. **Google.colab is NOT a library that can be downloaded locally on your device.**"
      ]
    },
    {
      "cell_type": "code",
      "execution_count": 4,
      "metadata": {
        "colab": {
          "base_uri": "https://localhost:8080/"
        },
        "id": "JQi_degJC3dm",
        "outputId": "db035703-aba0-468b-8146-c82a9980bcdf"
      },
      "outputs": [
        {
          "output_type": "stream",
          "name": "stdout",
          "text": [
            "Mounted at /content/drive\n"
          ]
        }
      ],
      "source": [
        "# Mounting the drive\n",
        "from google.colab import drive\n",
        "drive.mount('/content/drive')"
      ]
    },
    {
      "cell_type": "markdown",
      "metadata": {
        "id": "UC8-yLUUCcWh"
      },
      "source": [
        "## **Importing the Libraries**"
      ]
    },
    {
      "cell_type": "code",
      "execution_count": 5,
      "metadata": {
        "id": "30fd2144"
      },
      "outputs": [],
      "source": [
        "import zipfile\n",
        "import matplotlib.pyplot as plt\n",
        "import numpy as np\n",
        "import pandas as pd\n",
        "import seaborn as sns\n",
        "\n",
        "import os\n",
        "\n",
        "# Importing Deep Learning Libraries\n",
        "\n",
        "from tensorflow.keras.preprocessing.image import load_img, img_to_array\n",
        "from tensorflow.keras.preprocessing.image import ImageDataGenerator\n",
        "from tensorflow.keras.layers import Dense, Input, Dropout, GlobalAveragePooling2D, Flatten, Conv2D, BatchNormalization, Activation, MaxPooling2D, LeakyReLU\n",
        "from tensorflow.keras.models import Model, Sequential\n",
        "from tensorflow.keras.optimizers import Adam, SGD, RMSprop"
      ]
    },
    {
      "cell_type": "markdown",
      "metadata": {
        "id": "nCqJk2XpCnJi"
      },
      "source": [
        "### **Let us load the data**"
      ]
    },
    {
      "cell_type": "markdown",
      "metadata": {
        "id": "_syvBdMlDTsr"
      },
      "source": [
        "**Note:**\n",
        "- You must download the dataset from the link provided on Olympus and upload the same on your Google drive before executing the code in the next cell.\n",
        "- In case of any error, please make sure that the path of the file is correct as the path may be different for you."
      ]
    },
    {
      "cell_type": "code",
      "execution_count": 6,
      "metadata": {
        "id": "sMfr4tK04C0o"
      },
      "outputs": [],
      "source": [
        "# Storing the path of the data file from the Google drive\n",
        "path = '/content/drive/MyDrive/Facial_emotion_images.zip'\n",
        "\n",
        "# The data is provided as a zip file so we need to extract the files from the zip file\n",
        "with zipfile.ZipFile(path, 'r') as zip_ref:\n",
        "    zip_ref.extractall()"
      ]
    },
    {
      "cell_type": "code",
      "execution_count": 7,
      "metadata": {
        "id": "4e89d1c7"
      },
      "outputs": [],
      "source": [
        "picture_size = 48\n",
        "folder_path = \"Facial_emotion_images/\""
      ]
    },
    {
      "cell_type": "markdown",
      "metadata": {
        "id": "YpkYTD705Eky"
      },
      "source": [
        "## **Visualizing our Classes**\n",
        "\n",
        "Let's look at our classes.\n",
        "\n",
        "**Write down your observation for each class. What do you think can be a unique feature of each emotion, that separates it from the remaining classes?**"
      ]
    },
    {
      "cell_type": "markdown",
      "metadata": {
        "id": "Mb59IxA35WF-"
      },
      "source": [
        "### **Happy**"
      ]
    },
    {
      "cell_type": "code",
      "execution_count": null,
      "metadata": {
        "colab": {
          "base_uri": "https://localhost:8080/",
          "height": 680
        },
        "id": "6f89821c",
        "outputId": "4791caf6-13b5-4a0e-895f-51e089a87353"
      },
      "outputs": [
        {
          "data": {
            "image/png": "[encoded data removed]",
            "text/plain": [
              "<Figure size 800x800 with 9 Axes>"
            ]
          },
          "metadata": {},
          "output_type": "display_data"
        }
      ],
      "source": [
        "expression = 'happy'\n",
        "\n",
        "plt.figure(figsize= (8,8))\n",
        "for i in range(1, 10, 1):\n",
        "    plt.subplot(3, 3, i)\n",
        "\n",
        "    img = load_img(folder_path + \"train/\" + expression + \"/\" +\n",
        "                  os.listdir(folder_path + \"train/\" + expression)[i], target_size = (picture_size, picture_size))\n",
        "    plt.imshow(img)\n",
        "\n",
        "plt.show()"
      ]
    },
    {
      "cell_type": "markdown",
      "metadata": {
        "id": "RWYioRFM5jMJ"
      },
      "source": [
        "**Observations and Insights:__**"
      ]
    },
    {
      "cell_type": "markdown",
      "metadata": {
        "id": "28ZzJwIK6HTH"
      },
      "source": [
        "### **Sad**"
      ]
    },
    {
      "cell_type": "code",
      "execution_count": null,
      "metadata": {
        "colab": {
          "base_uri": "https://localhost:8080/",
          "height": 680
        },
        "id": "4n0oXebe6b0g",
        "outputId": "a86204dd-651b-4274-84f4-1bef74088094"
      },
      "outputs": [
        {
          "data": {
            "image/png": "[encoded data removed]",
            "text/plain": [
              "<Figure size 800x800 with 9 Axes>"
            ]
          },
          "metadata": {},
          "output_type": "display_data"
        }
      ],
      "source": [
        "# Write your code to visualize images from the class 'sad'.\n",
        "expression = 'sad'\n",
        "\n",
        "plt.figure(figsize= (8,8))\n",
        "for i in range(1, 10, 1):\n",
        "    plt.subplot(3, 3, i)\n",
        "\n",
        "    img = load_img(folder_path + \"train/\" + expression + \"/\" +\n",
        "                  os.listdir(folder_path + \"train/\" + expression)[i], target_size = (picture_size, picture_size))\n",
        "    plt.imshow(img)\n",
        "\n",
        "plt.show()"
      ]
    },
    {
      "cell_type": "markdown",
      "metadata": {
        "id": "5BpviSLK6mLO"
      },
      "source": [
        "**Observations and Insights:__**"
      ]
    },
    {
      "cell_type": "markdown",
      "metadata": {
        "id": "8D3nRj8x7gjK"
      },
      "source": [
        "### **Neutral**"
      ]
    },
    {
      "cell_type": "code",
      "execution_count": null,
      "metadata": {
        "colab": {
          "base_uri": "https://localhost:8080/",
          "height": 680
        },
        "id": "M9bRAog_7qPl",
        "outputId": "41a9a842-75e7-4673-dbbb-5386f6f0628a"
      },
      "outputs": [
        {
          "data": {
            "image/png": "[encoded data removed]",
            "text/plain": [
              "<Figure size 800x800 with 9 Axes>"
            ]
          },
          "metadata": {},
          "output_type": "display_data"
        }
      ],
      "source": [
        "# Write your code to visualize images from the class 'neutral'.\n",
        "expression = 'neutral'\n",
        "\n",
        "plt.figure(figsize= (8,8))\n",
        "for i in range(1, 10, 1):\n",
        "    plt.subplot(3, 3, i)\n",
        "\n",
        "    img = load_img(folder_path + \"train/\" + expression + \"/\" +\n",
        "                  os.listdir(folder_path + \"train/\" + expression)[i], target_size = (picture_size, picture_size))\n",
        "    plt.imshow(img)\n",
        "\n",
        "plt.show()"
      ]
    },
    {
      "cell_type": "markdown",
      "metadata": {
        "id": "AjvfkXFE70Wa"
      },
      "source": [
        "**Observations and Insights:__**"
      ]
    },
    {
      "cell_type": "markdown",
      "metadata": {
        "id": "avUJfLm08cgt"
      },
      "source": [
        "### **Surprised**"
      ]
    },
    {
      "cell_type": "code",
      "execution_count": null,
      "metadata": {
        "colab": {
          "base_uri": "https://localhost:8080/",
          "height": 680
        },
        "id": "tDrkuxNm8mWE",
        "outputId": "42789e04-ce73-49bb-a17a-e0021daaba53"
      },
      "outputs": [
        {
          "data": {
            "image/png": "[encoded data removed]",
            "text/plain": [
              "<Figure size 800x800 with 9 Axes>"
            ]
          },
          "metadata": {},
          "output_type": "display_data"
        }
      ],
      "source": [
        "# Write your code to visualize images from the class 'surprise'.\n",
        "expression = 'surprise'\n",
        "\n",
        "plt.figure(figsize= (8,8))\n",
        "for i in range(1, 10, 1):\n",
        "    plt.subplot(3, 3, i)\n",
        "\n",
        "    img = load_img(folder_path + \"train/\" + expression + \"/\" +\n",
        "                  os.listdir(folder_path + \"train/\" + expression)[i], target_size = (picture_size, picture_size))\n",
        "    plt.imshow(img)\n",
        "\n",
        "plt.show()"
      ]
    },
    {
      "cell_type": "markdown",
      "metadata": {
        "id": "RTnBsUNH_djf"
      },
      "source": [
        "**Observations and Insights:__**"
      ]
    },
    {
      "cell_type": "markdown",
      "metadata": {
        "id": "ZZMfyOH4-YSp"
      },
      "source": [
        "## **Checking Distribution of Classes**"
      ]
    },
    {
      "cell_type": "code",
      "execution_count": null,
      "metadata": {
        "colab": {
          "base_uri": "https://localhost:8080/"
        },
        "id": "m7rCOsTl-HbZ",
        "outputId": "427355c8-e098-428a-9525-7a59ae79e0c9"
      },
      "outputs": [
        {
          "name": "stdout",
          "output_type": "stream",
          "text": [
            "Number of images in the class 'happy':    3976\n",
            "Number of images in the class 'sad':    3982\n",
            "Number of images in the class 'sad':    3978\n",
            "Number of images in the class 'sad':    3173\n"
          ]
        }
      ],
      "source": [
        "# Getting count of images in each folder within our training path\n",
        "num_happy = len(os.listdir(folder_path + \"train/happy\"))\n",
        "print(\"Number of images in the class 'happy':   \", num_happy)\n",
        "\n",
        "num_sad = len(os.listdir(folder_path + \"train/sad\"))\n",
        "print(\"Number of images in the class 'sad':   \", num_sad)\n",
        "\n",
        "num_neutral = len(os.listdir(folder_path + \"train/neutral\"))\n",
        "print(\"Number of images in the class 'sad':   \", num_neutral)\n",
        "\n",
        "num_surprise = len(os.listdir(folder_path + \"train/surprise\"))\n",
        "print(\"Number of images in the class 'sad':   \", num_surprise)"
      ]
    },
    {
      "cell_type": "code",
      "execution_count": null,
      "metadata": {
        "colab": {
          "base_uri": "https://localhost:8080/",
          "height": 444
        },
        "id": "WSa0LTav_wEQ",
        "outputId": "22956aee-38b6-4fde-9919-a5013511c551"
      },
      "outputs": [
        {
          "data": {
            "image/png": "[encoded data removed]",
            "text/plain": [
              "<Figure size 1000x500 with 1 Axes>"
            ]
          },
          "metadata": {},
          "output_type": "display_data"
        }
      ],
      "source": [
        "# Code to plot histogram\n",
        "plt.figure(figsize = (10, 5))\n",
        "\n",
        "data = {'Happy': num_happy, 'Sad': num_sad, 'Neutral': num_neutral, 'Surprise' : num_surprise}\n",
        "\n",
        "df = pd.Series(data)\n",
        "\n",
        "plt.bar(range(len(df)), df.values, align = 'center')\n",
        "\n",
        "plt.xticks(range(len(df)), df.index.values, size = 'small')\n",
        "\n",
        "plt.show()"
      ]
    },
    {
      "cell_type": "markdown",
      "metadata": {
        "id": "reZRpnmv8qPL"
      },
      "source": [
        "**Observations and Insights:__**"
      ]
    },
    {
      "cell_type": "markdown",
      "metadata": {
        "id": "mfJnIxXC80uZ"
      },
      "source": [
        "**Think About It:**\n",
        "* Are the classes equally distributed? If not, do you think the imbalance is too high? Will it be a problem as we progress?\n",
        "* Are there any Exploratory Data Analysis tasks that we can do here? Would they provide any meaningful insights?"
      ]
    },
    {
      "cell_type": "markdown",
      "metadata": {
        "id": "J7NKTPgdEsgt"
      },
      "source": [
        "## **Creating our Data Loaders**\n",
        "\n",
        "In this section, we are creating data loaders that we will use as inputs to our Neural Network. A sample of the required code has been given with respect to the training data. Please create the data loaders for validation and test set accordingly.\n",
        "\n",
        "**You have two options for the color_mode. You can set it to color_mode = 'rgb' or color_mode = 'grayscale'. You will need to try out both and see for yourself which one gives better performance.**"
      ]
    },
    {
      "cell_type": "code",
      "execution_count": null,
      "metadata": {
        "colab": {
          "base_uri": "https://localhost:8080/"
        },
        "id": "d97fee2d",
        "outputId": "e3eb3c09-14a4-4fcb-b3d6-ea1e6bd8d2e1"
      },
      "outputs": [
        {
          "output_type": "stream",
          "name": "stdout",
          "text": [
            "Found 15109 images belonging to 4 classes.\n",
            "Found 4977 images belonging to 4 classes.\n",
            "Found 128 images belonging to 4 classes.\n",
            "Found 15109 images belonging to 4 classes.\n",
            "Found 4977 images belonging to 4 classes.\n",
            "Found 128 images belonging to 4 classes.\n"
          ]
        }
      ],
      "source": [
        "batch_size  = 32\n",
        "img_size = 48\n",
        "\n",
        "datagen_train = ImageDataGenerator(horizontal_flip = True,\n",
        "                                   brightness_range=(0.,2.),\n",
        "                                   rescale=1./255,\n",
        "                                   shear_range=0.3)\n",
        "\n",
        "train_set = datagen_train.flow_from_directory(folder_path + \"train\",\n",
        "                                              target_size = (img_size, img_size),\n",
        "                                              color_mode = 'grayscale',\n",
        "                                              batch_size = batch_size,\n",
        "                                              class_mode = 'categorical',\n",
        "                                              shuffle = True)\n",
        "\n",
        "\n",
        "datagen_validation = ImageDataGenerator(horizontal_flip = True,\n",
        "                                        brightness_range=(0.,2.),\n",
        "                                        rescale=1./255,\n",
        "                                        shear_range=0.3)\n",
        "\n",
        "validation_set = datagen_validation.flow_from_directory(folder_path + \"validation\",\n",
        "                                                        target_size = (img_size, img_size),\n",
        "                                                        color_mode = 'grayscale',\n",
        "                                                        batch_size = batch_size,\n",
        "                                                        class_mode = 'categorical',\n",
        "                                                        shuffle = True)\n",
        "\n",
        "\n",
        "datagen_test = ImageDataGenerator(horizontal_flip = True,\n",
        "                                  brightness_range=(0.,2.),\n",
        "                                  rescale=1./255,\n",
        "                                  shear_range=0.3)\n",
        "\n",
        "test_set = datagen_test.flow_from_directory(folder_path + \"test\",\n",
        "                                            target_size = (img_size, img_size),\n",
        "                                            color_mode = 'grayscale',\n",
        "                                            batch_size = batch_size,\n",
        "                                            class_mode = 'categorical',\n",
        "                                            shuffle = True)\n",
        "\n",
        "rgb_datagen_train = ImageDataGenerator(horizontal_flip = True,\n",
        "                                       brightness_range=(0.,2.),\n",
        "                                       rescale=1./255,\n",
        "                                       shear_range=0.3)\n",
        "\n",
        "rgb_train_set = rgb_datagen_train.flow_from_directory(folder_path + \"train\",\n",
        "                                                      target_size = (img_size, img_size),\n",
        "                                                      color_mode = 'rgb',\n",
        "                                                      batch_size = batch_size,\n",
        "                                                      class_mode = 'categorical',\n",
        "                                                      shuffle = True)\n",
        "\n",
        "\n",
        "rgb_datagen_validation = ImageDataGenerator(horizontal_flip = True,\n",
        "                                            brightness_range=(0.,2.),\n",
        "                                            rescale=1./255,\n",
        "                                            shear_range=0.3)\n",
        "\n",
        "rgb_validation_set = rgb_datagen_validation.flow_from_directory(folder_path + \"validation\",\n",
        "                                                                target_size = (img_size, img_size),\n",
        "                                                                color_mode = 'rgb',\n",
        "                                                                batch_size = batch_size,\n",
        "                                                                class_mode = 'categorical',\n",
        "                                                                shuffle = True)\n",
        "\n",
        "\n",
        "rgb_datagen_test = ImageDataGenerator(horizontal_flip = True,\n",
        "                                      brightness_range=(0.,2.),\n",
        "                                      rescale=1./255,\n",
        "                                      shear_range=0.3)\n",
        "\n",
        "rgb_test_set = rgb_datagen_test.flow_from_directory(folder_path + \"test\",\n",
        "                                                    target_size = (img_size, img_size),\n",
        "                                                    color_mode = 'rgb',\n",
        "                                                    batch_size = batch_size,\n",
        "                                                    class_mode = 'categorical',\n",
        "                                                    shuffle = True)"
      ]
    },
    {
      "cell_type": "markdown",
      "metadata": {
        "id": "_qGpQC3q1avy"
      },
      "source": [
        "## **Model Building**"
      ]
    },
    {
      "cell_type": "markdown",
      "metadata": {
        "id": "OSl8GqRdAcGq"
      },
      "source": [
        "**Think About It:**\n",
        "* Are Convolutional Neural Networks the right approach? Should we have gone with Artificial Neural Networks instead?\n",
        "* What are the advantages of CNNs over ANNs and are they applicable here?"
      ]
    },
    {
      "cell_type": "markdown",
      "metadata": {
        "id": "0feec0a7"
      },
      "source": [
        "### **Creating the Base Neural Network**"
      ]
    },
    {
      "cell_type": "markdown",
      "metadata": {
        "id": "J5XDAnGWJJSc"
      },
      "source": [
        "Our Base Neural network will be a fairly simple model architecture.\n",
        "\n",
        "* We want our Base Neural Network architecture to have 3 convolutional blocks.\n",
        "* Each convolutional block must contain one Conv2D layer followed by a maxpooling layer and one Dropout layer. We can play around with the dropout ratio.\n",
        "* Add first Conv2D layer with **64 filters** and a **kernel size of 2**. Use the 'same' padding and provide the **input_shape = (48, 48, 3) if you are using 'rgb' color mode in your dataloader or else input shape = (48, 48, 1) if you're using 'grayscale' colormode**. Use **'relu' activation**.\n",
        "* Add MaxPooling2D layer with **pool size = 2**.\n",
        "* Add a Dropout layer with a dropout ratio of 0.2.\n",
        "* Add a second Conv2D layer with **32 filters** and a **kernel size of 2**. Use the **'same' padding** and **'relu' activation.**\n",
        "* Follow this up with a similar Maxpooling2D layer like above and a Dropout layer with 0.2 Dropout ratio to complete your second Convolutional Block.\n",
        "* Add a third Conv2D layer with **32 filters** and a **kernel size of 2**. Use the **'same' padding** and **'relu' activation.** Once again, follow it up with a Maxpooling2D layer and a Dropout layer to complete your third Convolutional block.\n",
        "* After adding your convolutional blocks, add your Flatten layer.\n",
        "* Add your first Dense layer with **512 neurons**. Use **'relu' activation function**.\n",
        "* Add a Dropout layer with dropout ratio of 0.4.\n",
        "* Add your final Dense Layer with 4 neurons and **'softmax' activation function**\n",
        "* Print your model summary"
      ]
    },
    {
      "cell_type": "code",
      "execution_count": null,
      "metadata": {
        "colab": {
          "base_uri": "https://localhost:8080/"
        },
        "id": "151077af",
        "outputId": "d2a1e4df-4201-47e9-d544-508e9ef9bad4"
      },
      "outputs": [
        {
          "name": "stdout",
          "output_type": "stream",
          "text": [
            "Summary of model1 with grayscale setting: \n",
            "Model: \"sequential\"\n",
            "_________________________________________________________________\n",
            " Layer (type)                Output Shape              Param #   \n",
            "=================================================================\n",
            " conv2d_8 (Conv2D)           (None, 48, 48, 64)        320       \n",
            "                                                                 \n",
            " max_pooling2d_8 (MaxPooling  (None, 24, 24, 64)       0         \n",
            " 2D)                                                             \n",
            "                                                                 \n",
            " dropout (Dropout)           (None, 24, 24, 64)        0         \n",
            "                                                                 \n",
            " conv2d_9 (Conv2D)           (None, 24, 24, 32)        8224      \n",
            "                                                                 \n",
            " max_pooling2d_9 (MaxPooling  (None, 12, 12, 32)       0         \n",
            " 2D)                                                             \n",
            "                                                                 \n",
            " dropout_1 (Dropout)         (None, 12, 12, 32)        0         \n",
            "                                                                 \n",
            " conv2d_10 (Conv2D)          (None, 12, 12, 32)        4128      \n",
            "                                                                 \n",
            " max_pooling2d_10 (MaxPoolin  (None, 6, 6, 32)         0         \n",
            " g2D)                                                            \n",
            "                                                                 \n",
            " dropout_2 (Dropout)         (None, 6, 6, 32)          0         \n",
            "                                                                 \n",
            " flatten_2 (Flatten)         (None, 1152)              0         \n",
            "                                                                 \n",
            " dense_6 (Dense)             (None, 512)               590336    \n",
            "                                                                 \n",
            " dropout_3 (Dropout)         (None, 512)               0         \n",
            "                                                                 \n",
            " dense_7 (Dense)             (None, 4)                 2052      \n",
            "                                                                 \n",
            "=================================================================\n",
            "Total params: 605,060\n",
            "Trainable params: 605,060\n",
            "Non-trainable params: 0\n",
            "_________________________________________________________________\n",
            "Summary of model1 with rgb setting: \n",
            "Model: \"sequential_1\"\n",
            "_________________________________________________________________\n",
            " Layer (type)                Output Shape              Param #   \n",
            "=================================================================\n",
            " conv2d_11 (Conv2D)          (None, 48, 48, 64)        832       \n",
            "                                                                 \n",
            " max_pooling2d_11 (MaxPoolin  (None, 24, 24, 64)       0         \n",
            " g2D)                                                            \n",
            "                                                                 \n",
            " dropout_4 (Dropout)         (None, 24, 24, 64)        0         \n",
            "                                                                 \n",
            " conv2d_12 (Conv2D)          (None, 24, 24, 32)        8224      \n",
            "                                                                 \n",
            " max_pooling2d_12 (MaxPoolin  (None, 12, 12, 32)       0         \n",
            " g2D)                                                            \n",
            "                                                                 \n",
            " dropout_5 (Dropout)         (None, 12, 12, 32)        0         \n",
            "                                                                 \n",
            " conv2d_13 (Conv2D)          (None, 12, 12, 32)        4128      \n",
            "                                                                 \n",
            " max_pooling2d_13 (MaxPoolin  (None, 6, 6, 32)         0         \n",
            " g2D)                                                            \n",
            "                                                                 \n",
            " dropout_6 (Dropout)         (None, 6, 6, 32)          0         \n",
            "                                                                 \n",
            " flatten_3 (Flatten)         (None, 1152)              0         \n",
            "                                                                 \n",
            " dense_8 (Dense)             (None, 512)               590336    \n",
            "                                                                 \n",
            " dropout_7 (Dropout)         (None, 512)               0         \n",
            "                                                                 \n",
            " dense_9 (Dense)             (None, 4)                 2052      \n",
            "                                                                 \n",
            "=================================================================\n",
            "Total params: 605,572\n",
            "Trainable params: 605,572\n",
            "Non-trainable params: 0\n",
            "_________________________________________________________________\n"
          ]
        }
      ],
      "source": [
        "def build_base_model(color_mode='grayscale'):\n",
        "  input_shape = (48, 48, 1) if color_mode == 'grayscale' else (48, 48, 3)\n",
        "\n",
        "  # Initializing a Sequential Model\n",
        "  model = Sequential()\n",
        "\n",
        "  # Add the first Convolutional block\n",
        "  model.add(Conv2D(64, kernel_size=(2, 2), padding='same', activation='relu', input_shape=input_shape))\n",
        "  model.add(MaxPooling2D(pool_size=(2, 2)))\n",
        "  model.add(Dropout(0.2))\n",
        "\n",
        "  # Add the second Convolutional block\n",
        "  model.add(Conv2D(32, kernel_size=(2, 2), padding='same', activation='relu'))\n",
        "  model.add(MaxPooling2D(pool_size=(2, 2)))\n",
        "  model.add(Dropout(0.2))\n",
        "\n",
        "  # Add the third Convolutional block\n",
        "  model.add(Conv2D(32, kernel_size=(2, 2), padding='same', activation='relu'))\n",
        "  model.add(MaxPooling2D(pool_size=(2, 2)))\n",
        "  model.add(Dropout(0.2))\n",
        "\n",
        "  # Add the Flatten layer\n",
        "  model.add(Flatten())\n",
        "\n",
        "  # Add the first Dense layer\n",
        "  model.add(Dense(512, activation='relu'))\n",
        "  model.add(Dropout(0.4))\n",
        "\n",
        "  # Add the Final layer\n",
        "  model.add(Dense(4, activation='softmax'))\n",
        "\n",
        "  return model\n",
        "\n",
        "model1 = build_base_model()\n",
        "print('Summary of model1 with grayscale setting: ')\n",
        "model1.summary()\n",
        "\n",
        "model1_rgb = build_base_model('rgb')\n",
        "print('Summary of model1 with rgb setting: ')\n",
        "model1_rgb.summary()"
      ]
    },
    {
      "cell_type": "markdown",
      "metadata": {
        "id": "vgOwCHZxqAlG"
      },
      "source": [
        "### **Compiling and Training the Model**"
      ]
    },
    {
      "cell_type": "code",
      "execution_count": null,
      "metadata": {
        "id": "87b29701"
      },
      "outputs": [],
      "source": [
        "from keras.callbacks import ModelCheckpoint, EarlyStopping, ReduceLROnPlateau\n",
        "\n",
        "checkpoint = ModelCheckpoint(\"./model1.h5\", monitor='val_acc', verbose=1, save_best_only=True, mode='max')\n",
        "\n",
        "early_stopping = EarlyStopping(monitor = 'val_loss',\n",
        "                          min_delta = 0,\n",
        "                          patience = 3,\n",
        "                          verbose = 1,\n",
        "                          restore_best_weights = True\n",
        "                          )\n",
        "\n",
        "reduce_learningrate = ReduceLROnPlateau(monitor = 'val_loss',\n",
        "                              factor = 0.2,\n",
        "                              patience = 3,\n",
        "                              verbose = 1,\n",
        "                              min_delta = 0.0001)\n",
        "\n",
        "callbacks_list = [early_stopping, checkpoint, reduce_learningrate]\n",
        "\n",
        "epochs = 20"
      ]
    },
    {
      "cell_type": "markdown",
      "metadata": {
        "id": "0btjerFpQDHC"
      },
      "source": [
        "### **grayscale**"
      ]
    },
    {
      "cell_type": "code",
      "execution_count": null,
      "metadata": {
        "id": "IccRagCP9iNb"
      },
      "outputs": [],
      "source": [
        "# Write your code to compile your model1. Use categorical crossentropy as your loss function, Adam Optimizer with 0.001 learning rate, and set your metrics to 'accuracy'.\n",
        "import tensorflow as tf\n",
        "\n",
        "optimizer = tf.keras.optimizers.Adam(learning_rate=0.001)\n",
        "model1.compile(optimizer=optimizer, loss='categorical_crossentropy', metrics=['accuracy'])"
      ]
    },
    {
      "cell_type": "code",
      "execution_count": null,
      "metadata": {
        "colab": {
          "base_uri": "https://localhost:8080/"
        },
        "id": "37b93a84",
        "outputId": "6eda879b-5994-475c-c3db-652b7f1e06ef"
      },
      "outputs": [
        {
          "name": "stdout",
          "output_type": "stream",
          "text": [
            "Epoch 1/20\n",
            "473/473 [==============================] - 99s 206ms/step - loss: 1.3649 - accuracy: 0.3011 - val_loss: 1.2756 - val_accuracy: 0.4137\n",
            "Epoch 2/20\n",
            "473/473 [==============================] - 95s 201ms/step - loss: 1.2260 - accuracy: 0.4458 - val_loss: 1.1283 - val_accuracy: 0.5274\n",
            "Epoch 3/20\n",
            "473/473 [==============================] - 100s 210ms/step - loss: 1.1369 - accuracy: 0.4952 - val_loss: 1.0807 - val_accuracy: 0.5282\n",
            "Epoch 4/20\n",
            "473/473 [==============================] - 97s 206ms/step - loss: 1.0866 - accuracy: 0.5224 - val_loss: 1.0097 - val_accuracy: 0.5720\n",
            "Epoch 5/20\n",
            "473/473 [==============================] - 97s 206ms/step - loss: 1.0532 - accuracy: 0.5426 - val_loss: 0.9948 - val_accuracy: 0.5750\n",
            "Epoch 6/20\n",
            "473/473 [==============================] - 105s 222ms/step - loss: 1.0270 - accuracy: 0.5536 - val_loss: 0.9656 - val_accuracy: 0.5911\n",
            "Epoch 7/20\n",
            "473/473 [==============================] - 96s 202ms/step - loss: 1.0113 - accuracy: 0.5632 - val_loss: 0.9553 - val_accuracy: 0.5893\n",
            "Epoch 8/20\n",
            "473/473 [==============================] - 94s 199ms/step - loss: 0.9862 - accuracy: 0.5781 - val_loss: 0.9298 - val_accuracy: 0.6154\n",
            "Epoch 9/20\n",
            "473/473 [==============================] - 96s 204ms/step - loss: 0.9679 - accuracy: 0.5841 - val_loss: 0.9102 - val_accuracy: 0.6243\n",
            "Epoch 10/20\n",
            "473/473 [==============================] - 97s 204ms/step - loss: 0.9563 - accuracy: 0.5904 - val_loss: 0.9043 - val_accuracy: 0.6255\n",
            "Epoch 11/20\n",
            "473/473 [==============================] - 121s 256ms/step - loss: 0.9482 - accuracy: 0.5979 - val_loss: 0.8733 - val_accuracy: 0.6411\n",
            "Epoch 12/20\n",
            "473/473 [==============================] - 96s 204ms/step - loss: 0.9355 - accuracy: 0.5999 - val_loss: 0.8673 - val_accuracy: 0.6418\n",
            "Epoch 13/20\n",
            "473/473 [==============================] - 97s 204ms/step - loss: 0.9243 - accuracy: 0.6059 - val_loss: 0.8803 - val_accuracy: 0.6329\n",
            "Epoch 14/20\n",
            "473/473 [==============================] - 97s 205ms/step - loss: 0.9111 - accuracy: 0.6114 - val_loss: 0.8515 - val_accuracy: 0.6516\n",
            "Epoch 15/20\n",
            "473/473 [==============================] - 97s 204ms/step - loss: 0.8997 - accuracy: 0.6219 - val_loss: 0.8710 - val_accuracy: 0.6367\n",
            "Epoch 16/20\n",
            "473/473 [==============================] - 95s 201ms/step - loss: 0.8905 - accuracy: 0.6217 - val_loss: 0.8389 - val_accuracy: 0.6452\n",
            "Epoch 17/20\n",
            "473/473 [==============================] - 97s 206ms/step - loss: 0.8873 - accuracy: 0.6278 - val_loss: 0.8416 - val_accuracy: 0.6540\n",
            "Epoch 18/20\n",
            "473/473 [==============================] - 97s 205ms/step - loss: 0.8775 - accuracy: 0.6299 - val_loss: 0.8389 - val_accuracy: 0.6610\n",
            "Epoch 19/20\n",
            "473/473 [==============================] - 95s 202ms/step - loss: 0.8722 - accuracy: 0.6301 - val_loss: 0.8130 - val_accuracy: 0.6711\n",
            "Epoch 20/20\n",
            "473/473 [==============================] - 96s 203ms/step - loss: 0.8689 - accuracy: 0.6359 - val_loss: 0.8251 - val_accuracy: 0.6610\n"
          ]
        }
      ],
      "source": [
        "# Write your code to fit your model1. Use train_set as your training data and validation_set as your validation data. Train your model for 20 epochs.\n",
        "\n",
        "history = model1.fit(train_set, epochs=20, validation_data=validation_set)"
      ]
    },
    {
      "cell_type": "markdown",
      "metadata": {
        "id": "3CoTG9rxQVJm"
      },
      "source": [
        "### **rgb**"
      ]
    },
    {
      "cell_type": "code",
      "execution_count": null,
      "metadata": {
        "id": "UmFmBR5q3lPB"
      },
      "outputs": [],
      "source": [
        "# Write your code to compile your model1. Use categorical crossentropy as your loss function, Adam Optimizer with 0.001 learning rate, and set your metrics to 'accuracy'.\n",
        "import tensorflow as tf\n",
        "\n",
        "optimizer = tf.keras.optimizers.Adam(learning_rate=0.001)\n",
        "model1_rgb.compile(optimizer=optimizer, loss='categorical_crossentropy', metrics=['accuracy'])"
      ]
    },
    {
      "cell_type": "code",
      "execution_count": null,
      "metadata": {
        "colab": {
          "background_save": true,
          "base_uri": "https://localhost:8080/"
        },
        "id": "b5uh_5xKQf9m",
        "outputId": "30c7e8d7-8484-48ed-a9c5-e7023b8d58d7"
      },
      "outputs": [
        {
          "name": "stdout",
          "output_type": "stream",
          "text": [
            "Epoch 1/20\n",
            "473/473 [==============================] - 114s 239ms/step - loss: 1.3698 - accuracy: 0.2971 - val_loss: 1.3077 - val_accuracy: 0.3524\n",
            "Epoch 2/20\n",
            "473/473 [==============================] - 105s 221ms/step - loss: 1.2698 - accuracy: 0.4014 - val_loss: 1.1975 - val_accuracy: 0.4836\n",
            "Epoch 3/20\n",
            "473/473 [==============================] - 116s 245ms/step - loss: 1.1954 - accuracy: 0.4645 - val_loss: 1.1019 - val_accuracy: 0.5254\n",
            "Epoch 4/20\n",
            "473/473 [==============================] - 113s 238ms/step - loss: 1.1266 - accuracy: 0.5029 - val_loss: 1.0300 - val_accuracy: 0.5700\n",
            "Epoch 5/20\n",
            "473/473 [==============================] - 113s 240ms/step - loss: 1.0771 - accuracy: 0.5278 - val_loss: 1.0184 - val_accuracy: 0.5758\n",
            "Epoch 6/20\n",
            "473/473 [==============================] - 116s 245ms/step - loss: 1.0389 - accuracy: 0.5491 - val_loss: 1.0146 - val_accuracy: 0.5777\n",
            "Epoch 7/20\n",
            "473/473 [==============================] - 114s 242ms/step - loss: 1.0097 - accuracy: 0.5626 - val_loss: 0.9393 - val_accuracy: 0.6132\n",
            "Epoch 8/20\n",
            "473/473 [==============================] - 116s 244ms/step - loss: 0.9954 - accuracy: 0.5699 - val_loss: 0.8949 - val_accuracy: 0.6291\n",
            "Epoch 9/20\n",
            "473/473 [==============================] - 110s 232ms/step - loss: 0.9739 - accuracy: 0.5773 - val_loss: 0.9004 - val_accuracy: 0.6229\n",
            "Epoch 10/20\n",
            "473/473 [==============================] - 113s 239ms/step - loss: 0.9628 - accuracy: 0.5853 - val_loss: 0.8792 - val_accuracy: 0.6371\n",
            "Epoch 11/20\n",
            "473/473 [==============================] - 108s 228ms/step - loss: 0.9436 - accuracy: 0.5947 - val_loss: 0.8927 - val_accuracy: 0.6277\n",
            "Epoch 12/20\n",
            "473/473 [==============================] - 104s 220ms/step - loss: 0.9319 - accuracy: 0.5994 - val_loss: 0.8623 - val_accuracy: 0.6399\n",
            "Epoch 13/20\n",
            "473/473 [==============================] - 107s 226ms/step - loss: 0.9203 - accuracy: 0.6075 - val_loss: 0.8723 - val_accuracy: 0.6377\n",
            "Epoch 14/20\n",
            "473/473 [==============================] - 112s 238ms/step - loss: 0.9159 - accuracy: 0.6065 - val_loss: 0.8877 - val_accuracy: 0.6347\n",
            "Epoch 15/20\n",
            "473/473 [==============================] - 112s 237ms/step - loss: 0.9068 - accuracy: 0.6137 - val_loss: 0.8392 - val_accuracy: 0.6560\n",
            "Epoch 16/20\n",
            "473/473 [==============================] - 112s 237ms/step - loss: 0.8970 - accuracy: 0.6207 - val_loss: 0.8223 - val_accuracy: 0.6637\n",
            "Epoch 17/20\n",
            "473/473 [==============================] - 102s 215ms/step - loss: 0.8862 - accuracy: 0.6208 - val_loss: 0.8255 - val_accuracy: 0.6552\n",
            "Epoch 18/20\n",
            "473/473 [==============================] - 106s 224ms/step - loss: 0.8753 - accuracy: 0.6300 - val_loss: 0.8240 - val_accuracy: 0.6616\n",
            "Epoch 19/20\n",
            "473/473 [==============================] - 110s 232ms/step - loss: 0.8700 - accuracy: 0.6296 - val_loss: 0.8161 - val_accuracy: 0.6628\n",
            "Epoch 20/20\n",
            "473/473 [==============================] - 105s 222ms/step - loss: 0.8625 - accuracy: 0.6371 - val_loss: 0.8021 - val_accuracy: 0.6707\n"
          ]
        }
      ],
      "source": [
        "# Write your code to fit your model1. Use train_set as your training data and validation_set as your validation data. Train your model for 20 epochs.\n",
        "\n",
        "history_rgb = model1_rgb.fit(rgb_train_set, epochs=20, validation_data=rgb_validation_set)"
      ]
    },
    {
      "cell_type": "markdown",
      "metadata": {
        "id": "CR2yf3zH7uje"
      },
      "source": [
        "### **Evaluating the Model on the Test Set**"
      ]
    },
    {
      "cell_type": "code",
      "execution_count": null,
      "metadata": {
        "id": "3QK1vCR9Kmic",
        "colab": {
          "base_uri": "https://localhost:8080/"
        },
        "outputId": "a0fb0c00-b32d-45eb-b4e0-f70140a09f00"
      },
      "outputs": [
        {
          "output_type": "stream",
          "name": "stdout",
          "text": [
            "4/4 [==============================] - 0s 69ms/step - loss: 0.8677 - accuracy: 0.6562\n",
            "Test Loss: 0.8676772713661194\n",
            "Test Accuracy: 0.65625\n"
          ]
        }
      ],
      "source": [
        "# Write your code to evaluate your model on test data.\n",
        "test_loss, test_acc = model1.evaluate(test_set)\n",
        "\n",
        "print('Test Loss:', test_loss)\n",
        "print('Test Accuracy:', test_acc)"
      ]
    },
    {
      "cell_type": "code",
      "execution_count": null,
      "metadata": {
        "colab": {
          "base_uri": "https://localhost:8080/"
        },
        "id": "gffvQXr-70Hm",
        "outputId": "327659ed-d8ce-4756-9875-56931adf791a"
      },
      "outputs": [
        {
          "name": "stdout",
          "output_type": "stream",
          "text": [
            "4/4 [==============================] - 0s 62ms/step - loss: 0.7920 - accuracy: 0.6641\n",
            "Test Loss: 0.7920366525650024\n",
            "Test Accuracy: 0.6640625\n"
          ]
        }
      ],
      "source": [
        "# Write your code to evaluate your model on test data.\n",
        "rgb_test_loss, rgb_test_acc = model1_rgb.evaluate(rgb_test_set)\n",
        "\n",
        "print('Test Loss:', rgb_test_loss)\n",
        "print('Test Accuracy:', rgb_test_acc)"
      ]
    },
    {
      "cell_type": "markdown",
      "metadata": {
        "id": "SoqluqR-RMbk"
      },
      "source": [
        "**Observations and Insights:__**"
      ]
    },
    {
      "cell_type": "markdown",
      "metadata": {
        "id": "12efb6c8"
      },
      "source": [
        "### **Creating the second Convolutional Neural Network**"
      ]
    },
    {
      "cell_type": "markdown",
      "metadata": {
        "id": "ypwtou8Zp5EH"
      },
      "source": [
        "In the second Neural network, we will add a few more Convolutional blocks. We will also use Batch Normalization layers.\n",
        "\n",
        "* This time, each Convolutional block will have 1 Conv2D layer, followed by a BatchNormalization, LeakuRelU, and a MaxPooling2D layer. We are not adding any Dropout layer this time.\n",
        "* Add first Conv2D layer with **256 filters** and a **kernel size of 2**. Use the 'same' padding and provide the **input_shape = (48, 48, 3) if you are using 'rgb' color mode in your dataloader or else input shape = (48, 48, 1) if you're using 'grayscale' colormode**. Use **'relu' activation**.\n",
        "* Add your BatchNormalization layer followed by a LeakyRelU layer with Leaky ReLU parameter of **0.1**\n",
        "* Add MaxPooling2D layer with **pool size = 2**.\n",
        "* Add a second Conv2D layer with **128 filters** and a **kernel size of 2**. Use the **'same' padding** and **'relu' activation.**\n",
        "* Follow this up with a similar BatchNormalization, LeakyRelU, and Maxpooling2D layer like above to complete your second Convolutional Block.\n",
        "* Add a third Conv2D layer with **64 filters** and a **kernel size of 2**. Use the **'same' padding** and **'relu' activation.** Once again, follow it up with a BatchNormalization, LeakyRelU, and Maxpooling2D layer to complete your third Convolutional block.\n",
        "* Add a fourth block, with the Conv2D layer having **32 filters**.\n",
        "* After adding your convolutional blocks, add your Flatten layer.\n",
        "* Add your first Dense layer with **512 neurons**. Use **'relu' activation function**.\n",
        "* Add the second Dense Layer with **128 neurons** and use **'relu' activation** function.\n",
        "* Add your final Dense Layer with 4 neurons and **'softmax' activation function**\n",
        "* Print your model summary"
      ]
    },
    {
      "cell_type": "code",
      "execution_count": null,
      "metadata": {
        "colab": {
          "base_uri": "https://localhost:8080/"
        },
        "id": "7887b475",
        "outputId": "b3f8ca1b-7e61-4dbd-d0af-04c6bf799078"
      },
      "outputs": [
        {
          "output_type": "stream",
          "name": "stdout",
          "text": [
            "Model: \"Convolutional_Model_grayscale\"\n",
            "_________________________________________________________________\n",
            " Layer (type)                Output Shape              Param #   \n",
            "=================================================================\n",
            " conv2d (Conv2D)             (None, 48, 48, 256)       1280      \n",
            "                                                                 \n",
            " batch_normalization (BatchN  (None, 48, 48, 256)      1024      \n",
            " ormalization)                                                   \n",
            "                                                                 \n",
            " leaky_re_lu (LeakyReLU)     (None, 48, 48, 256)       0         \n",
            "                                                                 \n",
            " max_pooling2d (MaxPooling2D  (None, 24, 24, 256)      0         \n",
            " )                                                               \n",
            "                                                                 \n",
            " conv2d_1 (Conv2D)           (None, 24, 24, 128)       131200    \n",
            "                                                                 \n",
            " batch_normalization_1 (Batc  (None, 24, 24, 128)      512       \n",
            " hNormalization)                                                 \n",
            "                                                                 \n",
            " leaky_re_lu_1 (LeakyReLU)   (None, 24, 24, 128)       0         \n",
            "                                                                 \n",
            " max_pooling2d_1 (MaxPooling  (None, 12, 12, 128)      0         \n",
            " 2D)                                                             \n",
            "                                                                 \n",
            " conv2d_2 (Conv2D)           (None, 12, 12, 64)        32832     \n",
            "                                                                 \n",
            " batch_normalization_2 (Batc  (None, 12, 12, 64)       256       \n",
            " hNormalization)                                                 \n",
            "                                                                 \n",
            " leaky_re_lu_2 (LeakyReLU)   (None, 12, 12, 64)        0         \n",
            "                                                                 \n",
            " max_pooling2d_2 (MaxPooling  (None, 6, 6, 64)         0         \n",
            " 2D)                                                             \n",
            "                                                                 \n",
            " conv2d_3 (Conv2D)           (None, 6, 6, 32)          8224      \n",
            "                                                                 \n",
            " batch_normalization_3 (Batc  (None, 6, 6, 32)         128       \n",
            " hNormalization)                                                 \n",
            "                                                                 \n",
            " leaky_re_lu_3 (LeakyReLU)   (None, 6, 6, 32)          0         \n",
            "                                                                 \n",
            " max_pooling2d_3 (MaxPooling  (None, 3, 3, 32)         0         \n",
            " 2D)                                                             \n",
            "                                                                 \n",
            " flatten (Flatten)           (None, 288)               0         \n",
            "                                                                 \n",
            " dense (Dense)               (None, 512)               147968    \n",
            "                                                                 \n",
            " dense_1 (Dense)             (None, 128)               65664     \n",
            "                                                                 \n",
            " dense_2 (Dense)             (None, 4)                 516       \n",
            "                                                                 \n",
            "=================================================================\n",
            "Total params: 389,604\n",
            "Trainable params: 388,644\n",
            "Non-trainable params: 960\n",
            "_________________________________________________________________\n",
            "Model: \"Convolutional_Model_rgb\"\n",
            "_________________________________________________________________\n",
            " Layer (type)                Output Shape              Param #   \n",
            "=================================================================\n",
            " conv2d_4 (Conv2D)           (None, 48, 48, 256)       3328      \n",
            "                                                                 \n",
            " batch_normalization_4 (Batc  (None, 48, 48, 256)      1024      \n",
            " hNormalization)                                                 \n",
            "                                                                 \n",
            " leaky_re_lu_4 (LeakyReLU)   (None, 48, 48, 256)       0         \n",
            "                                                                 \n",
            " max_pooling2d_4 (MaxPooling  (None, 24, 24, 256)      0         \n",
            " 2D)                                                             \n",
            "                                                                 \n",
            " conv2d_5 (Conv2D)           (None, 24, 24, 128)       131200    \n",
            "                                                                 \n",
            " batch_normalization_5 (Batc  (None, 24, 24, 128)      512       \n",
            " hNormalization)                                                 \n",
            "                                                                 \n",
            " leaky_re_lu_5 (LeakyReLU)   (None, 24, 24, 128)       0         \n",
            "                                                                 \n",
            " max_pooling2d_5 (MaxPooling  (None, 12, 12, 128)      0         \n",
            " 2D)                                                             \n",
            "                                                                 \n",
            " conv2d_6 (Conv2D)           (None, 12, 12, 64)        32832     \n",
            "                                                                 \n",
            " batch_normalization_6 (Batc  (None, 12, 12, 64)       256       \n",
            " hNormalization)                                                 \n",
            "                                                                 \n",
            " leaky_re_lu_6 (LeakyReLU)   (None, 12, 12, 64)        0         \n",
            "                                                                 \n",
            " max_pooling2d_6 (MaxPooling  (None, 6, 6, 64)         0         \n",
            " 2D)                                                             \n",
            "                                                                 \n",
            " conv2d_7 (Conv2D)           (None, 6, 6, 32)          8224      \n",
            "                                                                 \n",
            " batch_normalization_7 (Batc  (None, 6, 6, 32)         128       \n",
            " hNormalization)                                                 \n",
            "                                                                 \n",
            " leaky_re_lu_7 (LeakyReLU)   (None, 6, 6, 32)          0         \n",
            "                                                                 \n",
            " max_pooling2d_7 (MaxPooling  (None, 3, 3, 32)         0         \n",
            " 2D)                                                             \n",
            "                                                                 \n",
            " flatten_1 (Flatten)         (None, 288)               0         \n",
            "                                                                 \n",
            " dense_3 (Dense)             (None, 512)               147968    \n",
            "                                                                 \n",
            " dense_4 (Dense)             (None, 128)               65664     \n",
            "                                                                 \n",
            " dense_5 (Dense)             (None, 4)                 516       \n",
            "                                                                 \n",
            "=================================================================\n",
            "Total params: 391,652\n",
            "Trainable params: 390,692\n",
            "Non-trainable params: 960\n",
            "_________________________________________________________________\n"
          ]
        }
      ],
      "source": [
        "def build_model(color_mode='grayscale'):\n",
        "    input_shape = (48, 48, 3) if color_mode=='rgb' else (48, 48, 1)\n",
        "\n",
        "    model = Sequential(name=\"Convolutional_Model_\" + color_mode)\n",
        "    # Add the first Convolutional block\n",
        "    model.add(Conv2D(256, (2, 2), padding='same', activation='relu', input_shape=input_shape))\n",
        "    model.add(BatchNormalization())\n",
        "    model.add(LeakyReLU(alpha=0.1))\n",
        "    model.add(MaxPooling2D(pool_size=(2, 2)))\n",
        "\n",
        "    # Add the second Convolutional block\n",
        "    model.add(Conv2D(128, (2, 2), padding='same', activation='relu'))\n",
        "    model.add(BatchNormalization())\n",
        "    model.add(LeakyReLU(alpha=0.1))\n",
        "    model.add(MaxPooling2D(pool_size=(2, 2)))\n",
        "\n",
        "    # Add the third Convolutional block\n",
        "    model.add(Conv2D(64, (2, 2), padding='same', activation='relu'))\n",
        "    model.add(BatchNormalization())\n",
        "    model.add(LeakyReLU(alpha=0.1))\n",
        "    model.add(MaxPooling2D(pool_size=(2, 2)))\n",
        "\n",
        "    # Add the fourth Convolutional block\n",
        "    model.add(Conv2D(32, (2, 2), padding='same', activation='relu'))\n",
        "    model.add(BatchNormalization())\n",
        "    model.add(LeakyReLU(alpha=0.1))\n",
        "    model.add(MaxPooling2D(pool_size=(2, 2)))\n",
        "\n",
        "    # Add the Flatten layer\n",
        "    model.add(Flatten())\n",
        "\n",
        "    # Adding the Dense layers\n",
        "    model.add(Dense(512, activation='relu'))\n",
        "    model.add(Dense(128, activation='relu'))\n",
        "\n",
        "    # Output layer\n",
        "    model.add(Dense(4, activation='softmax'))\n",
        "\n",
        "    return model\n",
        "\n",
        "# Build model\n",
        "model2 = build_model()\n",
        "\n",
        "# Print model summary\n",
        "model2.summary()\n",
        "\n",
        "model2_rgb = build_model(color_mode = 'rgb')\n",
        "model2_rgb.summary()"
      ]
    },
    {
      "cell_type": "markdown",
      "metadata": {
        "id": "T2d7wYiTk5uW"
      },
      "source": [
        "### **Compiling and Training the Model**\n",
        "\n",
        "**Hint:** Take reference from the code we used in the previous model for Compiling and Training the Model."
      ]
    },
    {
      "cell_type": "code",
      "execution_count": null,
      "metadata": {
        "id": "5f79add6"
      },
      "outputs": [],
      "source": [
        "from keras.callbacks import ModelCheckpoint, EarlyStopping, ReduceLROnPlateau\n",
        "\n",
        "checkpoint = ModelCheckpoint(\"./model2.h5\", monitor='val_loss', verbose = 1, save_best_only = True, mode = 'max')\n",
        "\n",
        "early_stopping = EarlyStopping(monitor = 'val_loss',\n",
        "                               min_delta = 0,\n",
        "                               patience = 3,\n",
        "                               verbose = 1,\n",
        "                               restore_best_weights = True)\n",
        "\n",
        "reduce_learningrate = ReduceLROnPlateau(monitor = 'val_loss',\n",
        "                                        factor = 0.2,\n",
        "                                        patience = 3,\n",
        "                                        verbose = 1,\n",
        "                                        min_delta = 0.0001)\n",
        "\n",
        "callbacks_list = [early_stopping, checkpoint, reduce_learningrate]\n",
        "\n",
        "epochs = 20"
      ]
    },
    {
      "cell_type": "code",
      "execution_count": null,
      "metadata": {
        "id": "kovNtiI5_w09"
      },
      "outputs": [],
      "source": [
        "# Write your code to compile your model2. Use categorical crossentropy as the loss function, Adam Optimizer with 0.001 learning rate, and set metrics as 'accuracy'.\n",
        "model2.compile(loss='categorical_crossentropy', optimizer=Adam(learning_rate=0.001), metrics=['accuracy'])"
      ]
    },
    {
      "cell_type": "code",
      "execution_count": null,
      "metadata": {
        "colab": {
          "base_uri": "https://localhost:8080/"
        },
        "id": "e2c3d909",
        "outputId": "e48f9f56-c210-4e7c-d850-ed7f9d63ab79"
      },
      "outputs": [
        {
          "output_type": "stream",
          "name": "stdout",
          "text": [
            "Epoch 1/20\n",
            "473/473 [==============================] - 625s 1s/step - loss: 1.2394 - accuracy: 0.4119 - val_loss: 1.3606 - val_accuracy: 0.3810\n",
            "Epoch 2/20\n",
            "473/473 [==============================] - 657s 1s/step - loss: 1.0579 - accuracy: 0.5282 - val_loss: 1.0775 - val_accuracy: 0.5373\n",
            "Epoch 3/20\n",
            "473/473 [==============================] - 655s 1s/step - loss: 0.9547 - accuracy: 0.5837 - val_loss: 0.9496 - val_accuracy: 0.5996\n",
            "Epoch 4/20\n",
            "473/473 [==============================] - 683s 1s/step - loss: 0.8897 - accuracy: 0.6158 - val_loss: 0.8780 - val_accuracy: 0.6261\n",
            "Epoch 5/20\n",
            "473/473 [==============================] - 685s 1s/step - loss: 0.8441 - accuracy: 0.6396 - val_loss: 0.8797 - val_accuracy: 0.6333\n",
            "Epoch 6/20\n",
            "473/473 [==============================] - 649s 1s/step - loss: 0.8061 - accuracy: 0.6597 - val_loss: 0.8343 - val_accuracy: 0.6602\n",
            "Epoch 7/20\n",
            "473/473 [==============================] - 642s 1s/step - loss: 0.7815 - accuracy: 0.6690 - val_loss: 0.8177 - val_accuracy: 0.6542\n",
            "Epoch 8/20\n",
            "473/473 [==============================] - 661s 1s/step - loss: 0.7588 - accuracy: 0.6771 - val_loss: 0.8402 - val_accuracy: 0.6476\n",
            "Epoch 9/20\n",
            "473/473 [==============================] - 623s 1s/step - loss: 0.7358 - accuracy: 0.6880 - val_loss: 0.8135 - val_accuracy: 0.6568\n",
            "Epoch 10/20\n",
            "473/473 [==============================] - 626s 1s/step - loss: 0.7140 - accuracy: 0.7014 - val_loss: 0.7889 - val_accuracy: 0.6839\n",
            "Epoch 11/20\n",
            "473/473 [==============================] - 640s 1s/step - loss: 0.6943 - accuracy: 0.7113 - val_loss: 0.8246 - val_accuracy: 0.6620\n",
            "Epoch 12/20\n",
            "473/473 [==============================] - 664s 1s/step - loss: 0.6917 - accuracy: 0.7112 - val_loss: 0.8169 - val_accuracy: 0.6864\n",
            "Epoch 13/20\n",
            "473/473 [==============================] - 635s 1s/step - loss: 0.6724 - accuracy: 0.7217 - val_loss: 0.8155 - val_accuracy: 0.6695\n",
            "Epoch 14/20\n",
            "473/473 [==============================] - 665s 1s/step - loss: 0.6513 - accuracy: 0.7296 - val_loss: 0.9528 - val_accuracy: 0.6279\n",
            "Epoch 15/20\n",
            "473/473 [==============================] - 627s 1s/step - loss: 0.6452 - accuracy: 0.7296 - val_loss: 0.7675 - val_accuracy: 0.6952\n",
            "Epoch 16/20\n",
            "473/473 [==============================] - 666s 1s/step - loss: 0.6264 - accuracy: 0.7383 - val_loss: 0.7895 - val_accuracy: 0.6833\n",
            "Epoch 17/20\n",
            "473/473 [==============================] - 668s 1s/step - loss: 0.6047 - accuracy: 0.7522 - val_loss: 0.7955 - val_accuracy: 0.6839\n",
            "Epoch 18/20\n",
            "473/473 [==============================] - 633s 1s/step - loss: 0.5948 - accuracy: 0.7518 - val_loss: 0.7939 - val_accuracy: 0.6924\n",
            "Epoch 19/20\n",
            "473/473 [==============================] - 668s 1s/step - loss: 0.5740 - accuracy: 0.7610 - val_loss: 0.8044 - val_accuracy: 0.6942\n",
            "Epoch 20/20\n",
            "473/473 [==============================] - 666s 1s/step - loss: 0.5639 - accuracy: 0.7698 - val_loss: 0.8070 - val_accuracy: 0.7022\n"
          ]
        }
      ],
      "source": [
        "history = model2.fit(train_set, validation_data=validation_set, epochs=20)"
      ]
    },
    {
      "cell_type": "code",
      "execution_count": null,
      "metadata": {
        "colab": {
          "base_uri": "https://localhost:8080/"
        },
        "id": "P1qrNJBxQMCD",
        "outputId": "f1f12ddc-2a46-4ad8-d18b-aebee05a6752"
      },
      "outputs": [
        {
          "output_type": "stream",
          "name": "stdout",
          "text": [
            "Epoch 1/20\n",
            "473/473 [==============================] - 634s 1s/step - loss: 1.2715 - accuracy: 0.3949 - val_loss: 1.2280 - val_accuracy: 0.4625\n",
            "Epoch 2/20\n",
            "473/473 [==============================] - 633s 1s/step - loss: 1.0630 - accuracy: 0.5284 - val_loss: 1.0797 - val_accuracy: 0.5126\n",
            "Epoch 3/20\n",
            "473/473 [==============================] - 635s 1s/step - loss: 0.9692 - accuracy: 0.5799 - val_loss: 0.9839 - val_accuracy: 0.5718\n",
            "Epoch 4/20\n",
            "473/473 [==============================] - 636s 1s/step - loss: 0.9085 - accuracy: 0.6074 - val_loss: 0.9195 - val_accuracy: 0.6190\n",
            "Epoch 5/20\n",
            "473/473 [==============================] - 638s 1s/step - loss: 0.8682 - accuracy: 0.6298 - val_loss: 0.8741 - val_accuracy: 0.6325\n",
            "Epoch 6/20\n",
            "473/473 [==============================] - 636s 1s/step - loss: 0.8262 - accuracy: 0.6497 - val_loss: 0.8672 - val_accuracy: 0.6345\n",
            "Epoch 7/20\n",
            "473/473 [==============================] - 601s 1s/step - loss: 0.7973 - accuracy: 0.6616 - val_loss: 0.9261 - val_accuracy: 0.6084\n",
            "Epoch 8/20\n",
            "473/473 [==============================] - 634s 1s/step - loss: 0.7875 - accuracy: 0.6643 - val_loss: 0.8588 - val_accuracy: 0.6464\n",
            "Epoch 9/20\n",
            "473/473 [==============================] - 596s 1s/step - loss: 0.7540 - accuracy: 0.6850 - val_loss: 0.8397 - val_accuracy: 0.6578\n",
            "Epoch 10/20\n",
            "473/473 [==============================] - 626s 1s/step - loss: 0.7313 - accuracy: 0.6933 - val_loss: 0.7791 - val_accuracy: 0.6729\n",
            "Epoch 11/20\n",
            "473/473 [==============================] - 593s 1s/step - loss: 0.7201 - accuracy: 0.7002 - val_loss: 0.8028 - val_accuracy: 0.6701\n",
            "Epoch 12/20\n",
            "473/473 [==============================] - 599s 1s/step - loss: 0.6999 - accuracy: 0.7092 - val_loss: 0.8067 - val_accuracy: 0.6653\n",
            "Epoch 13/20\n",
            "473/473 [==============================] - 589s 1s/step - loss: 0.6785 - accuracy: 0.7136 - val_loss: 0.8087 - val_accuracy: 0.6823\n",
            "Epoch 14/20\n",
            "473/473 [==============================] - 629s 1s/step - loss: 0.6640 - accuracy: 0.7208 - val_loss: 0.7881 - val_accuracy: 0.6888\n",
            "Epoch 15/20\n",
            "473/473 [==============================] - 590s 1s/step - loss: 0.6514 - accuracy: 0.7295 - val_loss: 0.7896 - val_accuracy: 0.6809\n",
            "Epoch 16/20\n",
            "473/473 [==============================] - 589s 1s/step - loss: 0.6376 - accuracy: 0.7349 - val_loss: 0.7887 - val_accuracy: 0.6799\n",
            "Epoch 17/20\n",
            "473/473 [==============================] - 626s 1s/step - loss: 0.6210 - accuracy: 0.7423 - val_loss: 0.8063 - val_accuracy: 0.6771\n",
            "Epoch 18/20\n",
            "473/473 [==============================] - 622s 1s/step - loss: 0.6071 - accuracy: 0.7479 - val_loss: 0.8615 - val_accuracy: 0.6693\n",
            "Epoch 19/20\n",
            "473/473 [==============================] - 629s 1s/step - loss: 0.6057 - accuracy: 0.7500 - val_loss: 0.8127 - val_accuracy: 0.6711\n",
            "Epoch 20/20\n",
            "473/473 [==============================] - 588s 1s/step - loss: 0.5818 - accuracy: 0.7590 - val_loss: 0.8255 - val_accuracy: 0.6641\n"
          ]
        }
      ],
      "source": [
        "# Write your code to compile your model2. Use categorical crossentropy as the loss function, Adam Optimizer with 0.001 learning rate, and set metrics as 'accuracy'.\n",
        "model2_rgb.compile(loss='categorical_crossentropy', optimizer=Adam(learning_rate=0.001), metrics=['accuracy'])\n",
        "history_rgb = model2_rgb.fit(rgb_train_set, validation_data=rgb_validation_set, epochs=20)"
      ]
    },
    {
      "cell_type": "markdown",
      "metadata": {
        "id": "VeiN9vSy744e"
      },
      "source": [
        "### **Evaluating the Model on the Test Set**"
      ]
    },
    {
      "cell_type": "code",
      "execution_count": null,
      "metadata": {
        "colab": {
          "base_uri": "https://localhost:8080/"
        },
        "id": "YBNeB-Em7xBy",
        "outputId": "9eb4a0a0-be57-4d39-aa8e-4ae24e396d0b"
      },
      "outputs": [
        {
          "output_type": "stream",
          "name": "stdout",
          "text": [
            "4/4 [==============================] - 2s 574ms/step - loss: 0.7585 - accuracy: 0.7188\n",
            "Test Loss: 0.758539617061615\n",
            "Test Accuracy: 0.71875\n"
          ]
        }
      ],
      "source": [
        "# Write your code to evaluate model's test performance\n",
        "# Write your code to evaluate your model on test data.\n",
        "test_loss, test_acc = model2.evaluate(test_set)\n",
        "\n",
        "print('Test Loss:', test_loss)\n",
        "print('Test Accuracy:', test_acc)"
      ]
    },
    {
      "cell_type": "code",
      "execution_count": null,
      "metadata": {
        "id": "P5pWyt2FCaNu",
        "colab": {
          "base_uri": "https://localhost:8080/"
        },
        "outputId": "30023047-22da-403c-b239-7381db29bd64"
      },
      "outputs": [
        {
          "output_type": "stream",
          "name": "stdout",
          "text": [
            "4/4 [==============================] - 1s 263ms/step - loss: 0.6914 - accuracy: 0.7344\n",
            "Test Loss: 0.6913654804229736\n",
            "Test Accuracy: 0.734375\n"
          ]
        }
      ],
      "source": [
        "# Write your code to evaluate your model on test data.\n",
        "rgb_test_loss, rgb_test_acc = model2_rgb.evaluate(rgb_test_set)\n",
        "\n",
        "print('Test Loss:', rgb_test_loss)\n",
        "print('Test Accuracy:', rgb_test_acc)"
      ]
    },
    {
      "cell_type": "markdown",
      "metadata": {
        "id": "MstKA9Op8XOA"
      },
      "source": [
        "**Observations and Insights:__**"
      ]
    },
    {
      "cell_type": "markdown",
      "metadata": {
        "id": "S1LQ64iTsSH0"
      },
      "source": [
        "## **Think About It:**\n",
        "\n",
        "* Did the models have a satisfactory performance? If not, then what are the possible reasons?\n",
        "* Which Color mode showed better overall performance? What are the possible reasons? Do you think having 'rgb' color mode is needed because the images are already black and white?"
      ]
    },
    {
      "cell_type": "markdown",
      "metadata": {
        "id": "boQi7epI3Lsu"
      },
      "source": [
        "## **Transfer Learning Architectures**\n",
        "\n",
        "In this section, we will create several Transfer Learning architectures. For the pre-trained models, we will select three popular architectures namely, VGG16, ResNet v2, and Efficient Net. The difference between these architectures and the previous architectures is that these will require 3 input channels while the earlier ones worked on 'grayscale' images. Therefore, we need to create new DataLoaders."
      ]
    },
    {
      "cell_type": "markdown",
      "metadata": {
        "id": "Tusr9gcYDpTT"
      },
      "source": [
        "### **Creating our Data Loaders for Transfer Learning Architectures**\n",
        "\n",
        "In this section, we are creating data loaders that we will use as inputs to our Neural Network. We will have to go with color_mode = 'rgb' as this is the required format for the transfer learning architectures."
      ]
    },
    {
      "cell_type": "code",
      "execution_count": 6,
      "metadata": {
        "id": "jDSH1sXqDpTT",
        "colab": {
          "base_uri": "https://localhost:8080/"
        },
        "outputId": "78f9d2a9-a228-4237-a552-51741d99c535"
      },
      "outputs": [
        {
          "output_type": "stream",
          "name": "stdout",
          "text": [
            "Found 15109 images belonging to 4 classes.\n",
            "Found 4977 images belonging to 4 classes.\n",
            "Found 128 images belonging to 4 classes.\n"
          ]
        }
      ],
      "source": [
        "batch_size  = 32\n",
        "img_size = 48\n",
        "\n",
        "datagen_train = ImageDataGenerator(horizontal_flip = True,\n",
        "                                    brightness_range = (0., 2.),\n",
        "                                    rescale = 1./255,\n",
        "                                    shear_range = 0.3)\n",
        "\n",
        "train_set = datagen_train.flow_from_directory(folder_path + \"train\",\n",
        "                                              target_size = (img_size, img_size),\n",
        "                                              color_mode = 'rgb',\n",
        "                                              batch_size = batch_size,\n",
        "                                              class_mode = 'categorical',\n",
        "                                              classes = ['happy', 'sad', 'neutral', 'surprise'],\n",
        "                                              shuffle = True)\n",
        "\n",
        "\n",
        "datagen_validation = ImageDataGenerator(horizontal_flip = True,\n",
        "                                        brightness_range=(0.,2.),\n",
        "                                        rescale=1./255,\n",
        "                                        shear_range=0.3)\n",
        "\n",
        "validation_set = datagen_validation.flow_from_directory(folder_path + \"validation\",\n",
        "                                                        target_size = (img_size, img_size),\n",
        "                                                        color_mode = 'rgb',\n",
        "                                                        batch_size = batch_size,\n",
        "                                                        class_mode = 'categorical',\n",
        "                                                        classes = ['happy', 'sad', 'neutral', 'surprise'],\n",
        "                                                        shuffle = True)\n",
        "\n",
        "\n",
        "datagen_test = ImageDataGenerator(horizontal_flip = True,\n",
        "                                  brightness_range=(0.,2.),\n",
        "                                  rescale=1./255,\n",
        "                                  shear_range=0.3)\n",
        "\n",
        "test_set = datagen_test.flow_from_directory(folder_path + \"test\",\n",
        "                                            target_size = (img_size, img_size),\n",
        "                                            color_mode = 'rgb',\n",
        "                                            batch_size = batch_size,\n",
        "                                            class_mode = 'categorical',\n",
        "                                            classes = ['happy', 'sad', 'neutral', 'surprise'],\n",
        "                                            shuffle = True)"
      ]
    },
    {
      "cell_type": "markdown",
      "metadata": {
        "id": "vaUYQdkf7pDG"
      },
      "source": [
        "## **VGG16 Model**"
      ]
    },
    {
      "cell_type": "markdown",
      "metadata": {
        "id": "ThCSNrWC4HW0"
      },
      "source": [
        "### **Importing the VGG16 Architecture**"
      ]
    },
    {
      "cell_type": "code",
      "execution_count": 7,
      "metadata": {
        "id": "7c83c83e",
        "colab": {
          "base_uri": "https://localhost:8080/"
        },
        "outputId": "d0c475a6-ade0-4a37-f38e-cb7655c30bd6"
      },
      "outputs": [
        {
          "output_type": "stream",
          "name": "stdout",
          "text": [
            "Downloading data from https://storage.googleapis.com/tensorflow/keras-applications/vgg16/vgg16_weights_tf_dim_ordering_tf_kernels_notop.h5\n",
            "58889256/58889256 [==============================] - 0s 0us/step\n",
            "Model: \"vgg16\"\n",
            "_________________________________________________________________\n",
            " Layer (type)                Output Shape              Param #   \n",
            "=================================================================\n",
            " input_1 (InputLayer)        [(None, 48, 48, 3)]       0         \n",
            "                                                                 \n",
            " block1_conv1 (Conv2D)       (None, 48, 48, 64)        1792      \n",
            "                                                                 \n",
            " block1_conv2 (Conv2D)       (None, 48, 48, 64)        36928     \n",
            "                                                                 \n",
            " block1_pool (MaxPooling2D)  (None, 24, 24, 64)        0         \n",
            "                                                                 \n",
            " block2_conv1 (Conv2D)       (None, 24, 24, 128)       73856     \n",
            "                                                                 \n",
            " block2_conv2 (Conv2D)       (None, 24, 24, 128)       147584    \n",
            "                                                                 \n",
            " block2_pool (MaxPooling2D)  (None, 12, 12, 128)       0         \n",
            "                                                                 \n",
            " block3_conv1 (Conv2D)       (None, 12, 12, 256)       295168    \n",
            "                                                                 \n",
            " block3_conv2 (Conv2D)       (None, 12, 12, 256)       590080    \n",
            "                                                                 \n",
            " block3_conv3 (Conv2D)       (None, 12, 12, 256)       590080    \n",
            "                                                                 \n",
            " block3_pool (MaxPooling2D)  (None, 6, 6, 256)         0         \n",
            "                                                                 \n",
            " block4_conv1 (Conv2D)       (None, 6, 6, 512)         1180160   \n",
            "                                                                 \n",
            " block4_conv2 (Conv2D)       (None, 6, 6, 512)         2359808   \n",
            "                                                                 \n",
            " block4_conv3 (Conv2D)       (None, 6, 6, 512)         2359808   \n",
            "                                                                 \n",
            " block4_pool (MaxPooling2D)  (None, 3, 3, 512)         0         \n",
            "                                                                 \n",
            " block5_conv1 (Conv2D)       (None, 3, 3, 512)         2359808   \n",
            "                                                                 \n",
            " block5_conv2 (Conv2D)       (None, 3, 3, 512)         2359808   \n",
            "                                                                 \n",
            " block5_conv3 (Conv2D)       (None, 3, 3, 512)         2359808   \n",
            "                                                                 \n",
            " block5_pool (MaxPooling2D)  (None, 1, 1, 512)         0         \n",
            "                                                                 \n",
            "=================================================================\n",
            "Total params: 14,714,688\n",
            "Trainable params: 14,714,688\n",
            "Non-trainable params: 0\n",
            "_________________________________________________________________\n"
          ]
        }
      ],
      "source": [
        "from tensorflow.keras.applications.vgg16 import VGG16\n",
        "from tensorflow.keras import Model\n",
        "\n",
        "vgg = VGG16(include_top = False, weights = 'imagenet', input_shape = (48, 48, 3))\n",
        "vgg.summary()"
      ]
    },
    {
      "cell_type": "markdown",
      "metadata": {
        "id": "X76HMyZX4edM"
      },
      "source": [
        "### **Model Building**\n",
        "\n",
        "* In this model, we will import till the **'block5_pool'** layer of the VGG16 model. You can scroll down in the model summary and look for 'block5_pool'. You can choose any other layer as well.\n",
        "* Then we will add a Flatten layer, which receives the output of the 'block5_pool' layer as its input.\n",
        "* We will add a few Dense layers and use 'relu' activation function on them.\n",
        "* You may use Dropout and BatchNormalization layers as well.\n",
        "* Then we will add our last dense layer, which must have 4 neurons and a 'softmax' activation function."
      ]
    },
    {
      "cell_type": "code",
      "execution_count": 8,
      "metadata": {
        "id": "8b123bc6"
      },
      "outputs": [],
      "source": [
        "transfer_layer = vgg.get_layer('block5_pool')\n",
        "vgg.trainable = False\n",
        "\n",
        "# Add classification layers on top of it\n",
        "\n",
        "# Flattenning the output from the 3rd block of the VGG16 model\n",
        "x = Flatten()(transfer_layer.output)\n",
        "\n",
        "# Adding a Dense layer with 256 neurons\n",
        "x = Dense(256, activation = 'relu')(x)\n",
        "\n",
        "# Add a Dense Layer with 128 neurons\n",
        "x = Dense(128, activation = 'relu')(x)\n",
        "\n",
        "# Add a DropOut layer with Drop out ratio of 0.3\n",
        "x = Dropout(0.3)(x)\n",
        "\n",
        "# Add a Dense Layer with 64 neurons\n",
        "x = Dense(64, activation = 'relu')(x)\n",
        "\n",
        "# Add a Batch Normalization layer\n",
        "x = BatchNormalization()(x)\n",
        "\n",
        "# Adding the final dense layer with 4 neurons and use 'softmax' activation\n",
        "pred = Dense(4, activation='softmax')(x)\n",
        "\n",
        "vggmodel = Model(vgg.input, pred) # Initializing the model"
      ]
    },
    {
      "cell_type": "markdown",
      "metadata": {
        "id": "t6vK7u7w8GsM"
      },
      "source": [
        "### **Compiling and Training the VGG16 Model**"
      ]
    },
    {
      "cell_type": "code",
      "execution_count": 10,
      "metadata": {
        "id": "86b249f1"
      },
      "outputs": [],
      "source": [
        "from keras.callbacks import ModelCheckpoint, EarlyStopping, ReduceLROnPlateau\n",
        "\n",
        "checkpoint = ModelCheckpoint(\"./vggmodel.h5\", monitor = 'val_loss', verbose = 1, save_best_only = True, mode = 'max')\n",
        "\n",
        "early_stopping = EarlyStopping(monitor = 'val_loss',\n",
        "                          min_delta = 0,\n",
        "                          patience = 3,\n",
        "                          verbose = 1,\n",
        "                          restore_best_weights = True\n",
        "                          )\n",
        "\n",
        "reduce_learningrate = ReduceLROnPlateau(monitor = 'val_loss',\n",
        "                              factor = 0.2,\n",
        "                              patience = 3,\n",
        "                              verbose = 1,\n",
        "                              min_delta = 0.0001)\n",
        "\n",
        "callbacks_list = [early_stopping, checkpoint, reduce_learningrate]\n",
        "\n",
        "epochs = 20"
      ]
    },
    {
      "cell_type": "code",
      "execution_count": 11,
      "metadata": {
        "id": "0PN6ghMOGGgf"
      },
      "outputs": [],
      "source": [
        "# Write your code to compile the vggmodel. Use categorical crossentropy as the loss function, Adam Optimizer with 0.001 learning rate, and set metrics to 'accuracy'.\n",
        "vggmodel.compile(loss='categorical_crossentropy', optimizer=Adam(learning_rate=0.001), metrics=['accuracy'])"
      ]
    },
    {
      "cell_type": "code",
      "execution_count": 12,
      "metadata": {
        "id": "893285ee",
        "colab": {
          "base_uri": "https://localhost:8080/"
        },
        "outputId": "c70107ae-e16f-453b-b128-4c90666707c6"
      },
      "outputs": [
        {
          "output_type": "stream",
          "name": "stdout",
          "text": [
            "Epoch 1/20\n",
            "473/473 [==============================] - 660s 1s/step - loss: 1.3208 - accuracy: 0.3880 - val_loss: 1.2415 - val_accuracy: 0.4217\n",
            "Epoch 2/20\n",
            "473/473 [==============================] - 659s 1s/step - loss: 1.2186 - accuracy: 0.4368 - val_loss: 1.2881 - val_accuracy: 0.4055\n",
            "Epoch 3/20\n",
            "473/473 [==============================] - 658s 1s/step - loss: 1.1935 - accuracy: 0.4595 - val_loss: 1.1810 - val_accuracy: 0.4647\n",
            "Epoch 4/20\n",
            "473/473 [==============================] - 656s 1s/step - loss: 1.1707 - accuracy: 0.4703 - val_loss: 1.1416 - val_accuracy: 0.4888\n",
            "Epoch 5/20\n",
            "473/473 [==============================] - 607s 1s/step - loss: 1.1588 - accuracy: 0.4713 - val_loss: 1.1607 - val_accuracy: 0.4836\n",
            "Epoch 6/20\n",
            "473/473 [==============================] - 661s 1s/step - loss: 1.1514 - accuracy: 0.4839 - val_loss: 1.1699 - val_accuracy: 0.4876\n",
            "Epoch 7/20\n",
            "473/473 [==============================] - 655s 1s/step - loss: 1.1383 - accuracy: 0.4961 - val_loss: 1.1257 - val_accuracy: 0.5073\n",
            "Epoch 8/20\n",
            "473/473 [==============================] - 661s 1s/step - loss: 1.1333 - accuracy: 0.4981 - val_loss: 1.1487 - val_accuracy: 0.4826\n",
            "Epoch 9/20\n",
            "473/473 [==============================] - 655s 1s/step - loss: 1.1235 - accuracy: 0.4996 - val_loss: 1.1668 - val_accuracy: 0.4728\n",
            "Epoch 10/20\n",
            "473/473 [==============================] - 602s 1s/step - loss: 1.1137 - accuracy: 0.5086 - val_loss: 1.1393 - val_accuracy: 0.4844\n",
            "Epoch 11/20\n",
            "473/473 [==============================] - 660s 1s/step - loss: 1.1087 - accuracy: 0.5063 - val_loss: 1.1562 - val_accuracy: 0.4722\n",
            "Epoch 12/20\n",
            "473/473 [==============================] - 659s 1s/step - loss: 1.1064 - accuracy: 0.5146 - val_loss: 1.1388 - val_accuracy: 0.4931\n",
            "Epoch 13/20\n",
            "473/473 [==============================] - 610s 1s/step - loss: 1.0942 - accuracy: 0.5125 - val_loss: 1.1261 - val_accuracy: 0.5003\n",
            "Epoch 14/20\n",
            "473/473 [==============================] - 610s 1s/step - loss: 1.0908 - accuracy: 0.5185 - val_loss: 1.1196 - val_accuracy: 0.5053\n",
            "Epoch 15/20\n",
            "473/473 [==============================] - 659s 1s/step - loss: 1.0864 - accuracy: 0.5213 - val_loss: 1.1372 - val_accuracy: 0.4876\n",
            "Epoch 16/20\n",
            "473/473 [==============================] - 660s 1s/step - loss: 1.0808 - accuracy: 0.5242 - val_loss: 1.1264 - val_accuracy: 0.4884\n",
            "Epoch 17/20\n",
            "473/473 [==============================] - 660s 1s/step - loss: 1.0766 - accuracy: 0.5286 - val_loss: 1.1067 - val_accuracy: 0.5170\n",
            "Epoch 18/20\n",
            "473/473 [==============================] - 658s 1s/step - loss: 1.0698 - accuracy: 0.5298 - val_loss: 1.1142 - val_accuracy: 0.4971\n",
            "Epoch 19/20\n",
            "473/473 [==============================] - 662s 1s/step - loss: 1.0655 - accuracy: 0.5362 - val_loss: 1.0948 - val_accuracy: 0.5216\n",
            "Epoch 20/20\n",
            "473/473 [==============================] - 661s 1s/step - loss: 1.0572 - accuracy: 0.5354 - val_loss: 1.1358 - val_accuracy: 0.4870\n"
          ]
        }
      ],
      "source": [
        "history = vggmodel.fit(train_set, validation_data = validation_set, epochs = epochs)"
      ]
    },
    {
      "cell_type": "markdown",
      "metadata": {
        "id": "Un-19jPckK07"
      },
      "source": [
        "### **Evaluating the VGG16 model**"
      ]
    },
    {
      "cell_type": "code",
      "execution_count": 13,
      "metadata": {
        "id": "t6Y_bSLCkcvr",
        "colab": {
          "base_uri": "https://localhost:8080/"
        },
        "outputId": "32b5ab0a-57aa-4af2-ef1a-71fa3594d762"
      },
      "outputs": [
        {
          "output_type": "stream",
          "name": "stdout",
          "text": [
            "4/4 [==============================] - 3s 822ms/step - loss: 1.1280 - accuracy: 0.5078\n",
            "Test Loss: 1.1279757022857666\n",
            "Test Accuracy: 0.5078125\n"
          ]
        }
      ],
      "source": [
        "# Write your code to evaluate model performance on the test set\n",
        "test_loss, test_acc = vggmodel.evaluate(test_set)\n",
        "\n",
        "print('Test Loss:', test_loss)\n",
        "print('Test Accuracy:', test_acc)"
      ]
    },
    {
      "cell_type": "markdown",
      "metadata": {
        "id": "tW6kPSky59Gv"
      },
      "source": [
        "**Think About It:**\n",
        "\n",
        "- What do you infer from the general trend in the training performance?\n",
        "- Is the training accuracy consistently improving?\n",
        "- Is the validation accuracy also improving similarly?"
      ]
    },
    {
      "cell_type": "markdown",
      "metadata": {
        "id": "YuTi6OAx8q_r"
      },
      "source": [
        "**Observations and Insights:__**"
      ]
    },
    {
      "cell_type": "markdown",
      "metadata": {
        "id": "AfC2Kx0v7Sa1"
      },
      "source": [
        "**Note: You can even go back and build your own architecture on top of the VGG16 Transfer layer and see if you can improve the performance**"
      ]
    },
    {
      "cell_type": "markdown",
      "metadata": {
        "id": "E0Mew4Cc7u7k"
      },
      "source": [
        "## **ResNet V2 Model**"
      ]
    },
    {
      "cell_type": "code",
      "execution_count": 14,
      "metadata": {
        "id": "568a5c9a",
        "scrolled": false,
        "colab": {
          "base_uri": "https://localhost:8080/"
        },
        "outputId": "64078dcb-dbee-4fdc-f1c3-9fc82e91d5d6"
      },
      "outputs": [
        {
          "output_type": "stream",
          "name": "stdout",
          "text": [
            "Downloading data from https://storage.googleapis.com/tensorflow/keras-applications/resnet/resnet101_weights_tf_dim_ordering_tf_kernels_notop.h5\n",
            "171446536/171446536 [==============================] - 1s 0us/step\n",
            "Model: \"resnet101\"\n",
            "__________________________________________________________________________________________________\n",
            " Layer (type)                   Output Shape         Param #     Connected to                     \n",
            "==================================================================================================\n",
            " input_2 (InputLayer)           [(None, 48, 48, 3)]  0           []                               \n",
            "                                                                                                  \n",
            " conv1_pad (ZeroPadding2D)      (None, 54, 54, 3)    0           ['input_2[0][0]']                \n",
            "                                                                                                  \n",
            " conv1_conv (Conv2D)            (None, 24, 24, 64)   9472        ['conv1_pad[0][0]']              \n",
            "                                                                                                  \n",
            " conv1_bn (BatchNormalization)  (None, 24, 24, 64)   256         ['conv1_conv[0][0]']             \n",
            "                                                                                                  \n",
            " conv1_relu (Activation)        (None, 24, 24, 64)   0           ['conv1_bn[0][0]']               \n",
            "                                                                                                  \n",
            " pool1_pad (ZeroPadding2D)      (None, 26, 26, 64)   0           ['conv1_relu[0][0]']             \n",
            "                                                                                                  \n",
            " pool1_pool (MaxPooling2D)      (None, 12, 12, 64)   0           ['pool1_pad[0][0]']              \n",
            "                                                                                                  \n",
            " conv2_block1_1_conv (Conv2D)   (None, 12, 12, 64)   4160        ['pool1_pool[0][0]']             \n",
            "                                                                                                  \n",
            " conv2_block1_1_bn (BatchNormal  (None, 12, 12, 64)  256         ['conv2_block1_1_conv[0][0]']    \n",
            " ization)                                                                                         \n",
            "                                                                                                  \n",
            " conv2_block1_1_relu (Activatio  (None, 12, 12, 64)  0           ['conv2_block1_1_bn[0][0]']      \n",
            " n)                                                                                               \n",
            "                                                                                                  \n",
            " conv2_block1_2_conv (Conv2D)   (None, 12, 12, 64)   36928       ['conv2_block1_1_relu[0][0]']    \n",
            "                                                                                                  \n",
            " conv2_block1_2_bn (BatchNormal  (None, 12, 12, 64)  256         ['conv2_block1_2_conv[0][0]']    \n",
            " ization)                                                                                         \n",
            "                                                                                                  \n",
            " conv2_block1_2_relu (Activatio  (None, 12, 12, 64)  0           ['conv2_block1_2_bn[0][0]']      \n",
            " n)                                                                                               \n",
            "                                                                                                  \n",
            " conv2_block1_0_conv (Conv2D)   (None, 12, 12, 256)  16640       ['pool1_pool[0][0]']             \n",
            "                                                                                                  \n",
            " conv2_block1_3_conv (Conv2D)   (None, 12, 12, 256)  16640       ['conv2_block1_2_relu[0][0]']    \n",
            "                                                                                                  \n",
            " conv2_block1_0_bn (BatchNormal  (None, 12, 12, 256)  1024       ['conv2_block1_0_conv[0][0]']    \n",
            " ization)                                                                                         \n",
            "                                                                                                  \n",
            " conv2_block1_3_bn (BatchNormal  (None, 12, 12, 256)  1024       ['conv2_block1_3_conv[0][0]']    \n",
            " ization)                                                                                         \n",
            "                                                                                                  \n",
            " conv2_block1_add (Add)         (None, 12, 12, 256)  0           ['conv2_block1_0_bn[0][0]',      \n",
            "                                                                  'conv2_block1_3_bn[0][0]']      \n",
            "                                                                                                  \n",
            " conv2_block1_out (Activation)  (None, 12, 12, 256)  0           ['conv2_block1_add[0][0]']       \n",
            "                                                                                                  \n",
            " conv2_block2_1_conv (Conv2D)   (None, 12, 12, 64)   16448       ['conv2_block1_out[0][0]']       \n",
            "                                                                                                  \n",
            " conv2_block2_1_bn (BatchNormal  (None, 12, 12, 64)  256         ['conv2_block2_1_conv[0][0]']    \n",
            " ization)                                                                                         \n",
            "                                                                                                  \n",
            " conv2_block2_1_relu (Activatio  (None, 12, 12, 64)  0           ['conv2_block2_1_bn[0][0]']      \n",
            " n)                                                                                               \n",
            "                                                                                                  \n",
            " conv2_block2_2_conv (Conv2D)   (None, 12, 12, 64)   36928       ['conv2_block2_1_relu[0][0]']    \n",
            "                                                                                                  \n",
            " conv2_block2_2_bn (BatchNormal  (None, 12, 12, 64)  256         ['conv2_block2_2_conv[0][0]']    \n",
            " ization)                                                                                         \n",
            "                                                                                                  \n",
            " conv2_block2_2_relu (Activatio  (None, 12, 12, 64)  0           ['conv2_block2_2_bn[0][0]']      \n",
            " n)                                                                                               \n",
            "                                                                                                  \n",
            " conv2_block2_3_conv (Conv2D)   (None, 12, 12, 256)  16640       ['conv2_block2_2_relu[0][0]']    \n",
            "                                                                                                  \n",
            " conv2_block2_3_bn (BatchNormal  (None, 12, 12, 256)  1024       ['conv2_block2_3_conv[0][0]']    \n",
            " ization)                                                                                         \n",
            "                                                                                                  \n",
            " conv2_block2_add (Add)         (None, 12, 12, 256)  0           ['conv2_block1_out[0][0]',       \n",
            "                                                                  'conv2_block2_3_bn[0][0]']      \n",
            "                                                                                                  \n",
            " conv2_block2_out (Activation)  (None, 12, 12, 256)  0           ['conv2_block2_add[0][0]']       \n",
            "                                                                                                  \n",
            " conv2_block3_1_conv (Conv2D)   (None, 12, 12, 64)   16448       ['conv2_block2_out[0][0]']       \n",
            "                                                                                                  \n",
            " conv2_block3_1_bn (BatchNormal  (None, 12, 12, 64)  256         ['conv2_block3_1_conv[0][0]']    \n",
            " ization)                                                                                         \n",
            "                                                                                                  \n",
            " conv2_block3_1_relu (Activatio  (None, 12, 12, 64)  0           ['conv2_block3_1_bn[0][0]']      \n",
            " n)                                                                                               \n",
            "                                                                                                  \n",
            " conv2_block3_2_conv (Conv2D)   (None, 12, 12, 64)   36928       ['conv2_block3_1_relu[0][0]']    \n",
            "                                                                                                  \n",
            " conv2_block3_2_bn (BatchNormal  (None, 12, 12, 64)  256         ['conv2_block3_2_conv[0][0]']    \n",
            " ization)                                                                                         \n",
            "                                                                                                  \n",
            " conv2_block3_2_relu (Activatio  (None, 12, 12, 64)  0           ['conv2_block3_2_bn[0][0]']      \n",
            " n)                                                                                               \n",
            "                                                                                                  \n",
            " conv2_block3_3_conv (Conv2D)   (None, 12, 12, 256)  16640       ['conv2_block3_2_relu[0][0]']    \n",
            "                                                                                                  \n",
            " conv2_block3_3_bn (BatchNormal  (None, 12, 12, 256)  1024       ['conv2_block3_3_conv[0][0]']    \n",
            " ization)                                                                                         \n",
            "                                                                                                  \n",
            " conv2_block3_add (Add)         (None, 12, 12, 256)  0           ['conv2_block2_out[0][0]',       \n",
            "                                                                  'conv2_block3_3_bn[0][0]']      \n",
            "                                                                                                  \n",
            " conv2_block3_out (Activation)  (None, 12, 12, 256)  0           ['conv2_block3_add[0][0]']       \n",
            "                                                                                                  \n",
            " conv3_block1_1_conv (Conv2D)   (None, 6, 6, 128)    32896       ['conv2_block3_out[0][0]']       \n",
            "                                                                                                  \n",
            " conv3_block1_1_bn (BatchNormal  (None, 6, 6, 128)   512         ['conv3_block1_1_conv[0][0]']    \n",
            " ization)                                                                                         \n",
            "                                                                                                  \n",
            " conv3_block1_1_relu (Activatio  (None, 6, 6, 128)   0           ['conv3_block1_1_bn[0][0]']      \n",
            " n)                                                                                               \n",
            "                                                                                                  \n",
            " conv3_block1_2_conv (Conv2D)   (None, 6, 6, 128)    147584      ['conv3_block1_1_relu[0][0]']    \n",
            "                                                                                                  \n",
            " conv3_block1_2_bn (BatchNormal  (None, 6, 6, 128)   512         ['conv3_block1_2_conv[0][0]']    \n",
            " ization)                                                                                         \n",
            "                                                                                                  \n",
            " conv3_block1_2_relu (Activatio  (None, 6, 6, 128)   0           ['conv3_block1_2_bn[0][0]']      \n",
            " n)                                                                                               \n",
            "                                                                                                  \n",
            " conv3_block1_0_conv (Conv2D)   (None, 6, 6, 512)    131584      ['conv2_block3_out[0][0]']       \n",
            "                                                                                                  \n",
            " conv3_block1_3_conv (Conv2D)   (None, 6, 6, 512)    66048       ['conv3_block1_2_relu[0][0]']    \n",
            "                                                                                                  \n",
            " conv3_block1_0_bn (BatchNormal  (None, 6, 6, 512)   2048        ['conv3_block1_0_conv[0][0]']    \n",
            " ization)                                                                                         \n",
            "                                                                                                  \n",
            " conv3_block1_3_bn (BatchNormal  (None, 6, 6, 512)   2048        ['conv3_block1_3_conv[0][0]']    \n",
            " ization)                                                                                         \n",
            "                                                                                                  \n",
            " conv3_block1_add (Add)         (None, 6, 6, 512)    0           ['conv3_block1_0_bn[0][0]',      \n",
            "                                                                  'conv3_block1_3_bn[0][0]']      \n",
            "                                                                                                  \n",
            " conv3_block1_out (Activation)  (None, 6, 6, 512)    0           ['conv3_block1_add[0][0]']       \n",
            "                                                                                                  \n",
            " conv3_block2_1_conv (Conv2D)   (None, 6, 6, 128)    65664       ['conv3_block1_out[0][0]']       \n",
            "                                                                                                  \n",
            " conv3_block2_1_bn (BatchNormal  (None, 6, 6, 128)   512         ['conv3_block2_1_conv[0][0]']    \n",
            " ization)                                                                                         \n",
            "                                                                                                  \n",
            " conv3_block2_1_relu (Activatio  (None, 6, 6, 128)   0           ['conv3_block2_1_bn[0][0]']      \n",
            " n)                                                                                               \n",
            "                                                                                                  \n",
            " conv3_block2_2_conv (Conv2D)   (None, 6, 6, 128)    147584      ['conv3_block2_1_relu[0][0]']    \n",
            "                                                                                                  \n",
            " conv3_block2_2_bn (BatchNormal  (None, 6, 6, 128)   512         ['conv3_block2_2_conv[0][0]']    \n",
            " ization)                                                                                         \n",
            "                                                                                                  \n",
            " conv3_block2_2_relu (Activatio  (None, 6, 6, 128)   0           ['conv3_block2_2_bn[0][0]']      \n",
            " n)                                                                                               \n",
            "                                                                                                  \n",
            " conv3_block2_3_conv (Conv2D)   (None, 6, 6, 512)    66048       ['conv3_block2_2_relu[0][0]']    \n",
            "                                                                                                  \n",
            " conv3_block2_3_bn (BatchNormal  (None, 6, 6, 512)   2048        ['conv3_block2_3_conv[0][0]']    \n",
            " ization)                                                                                         \n",
            "                                                                                                  \n",
            " conv3_block2_add (Add)         (None, 6, 6, 512)    0           ['conv3_block1_out[0][0]',       \n",
            "                                                                  'conv3_block2_3_bn[0][0]']      \n",
            "                                                                                                  \n",
            " conv3_block2_out (Activation)  (None, 6, 6, 512)    0           ['conv3_block2_add[0][0]']       \n",
            "                                                                                                  \n",
            " conv3_block3_1_conv (Conv2D)   (None, 6, 6, 128)    65664       ['conv3_block2_out[0][0]']       \n",
            "                                                                                                  \n",
            " conv3_block3_1_bn (BatchNormal  (None, 6, 6, 128)   512         ['conv3_block3_1_conv[0][0]']    \n",
            " ization)                                                                                         \n",
            "                                                                                                  \n",
            " conv3_block3_1_relu (Activatio  (None, 6, 6, 128)   0           ['conv3_block3_1_bn[0][0]']      \n",
            " n)                                                                                               \n",
            "                                                                                                  \n",
            " conv3_block3_2_conv (Conv2D)   (None, 6, 6, 128)    147584      ['conv3_block3_1_relu[0][0]']    \n",
            "                                                                                                  \n",
            " conv3_block3_2_bn (BatchNormal  (None, 6, 6, 128)   512         ['conv3_block3_2_conv[0][0]']    \n",
            " ization)                                                                                         \n",
            "                                                                                                  \n",
            " conv3_block3_2_relu (Activatio  (None, 6, 6, 128)   0           ['conv3_block3_2_bn[0][0]']      \n",
            " n)                                                                                               \n",
            "                                                                                                  \n",
            " conv3_block3_3_conv (Conv2D)   (None, 6, 6, 512)    66048       ['conv3_block3_2_relu[0][0]']    \n",
            "                                                                                                  \n",
            " conv3_block3_3_bn (BatchNormal  (None, 6, 6, 512)   2048        ['conv3_block3_3_conv[0][0]']    \n",
            " ization)                                                                                         \n",
            "                                                                                                  \n",
            " conv3_block3_add (Add)         (None, 6, 6, 512)    0           ['conv3_block2_out[0][0]',       \n",
            "                                                                  'conv3_block3_3_bn[0][0]']      \n",
            "                                                                                                  \n",
            " conv3_block3_out (Activation)  (None, 6, 6, 512)    0           ['conv3_block3_add[0][0]']       \n",
            "                                                                                                  \n",
            " conv3_block4_1_conv (Conv2D)   (None, 6, 6, 128)    65664       ['conv3_block3_out[0][0]']       \n",
            "                                                                                                  \n",
            " conv3_block4_1_bn (BatchNormal  (None, 6, 6, 128)   512         ['conv3_block4_1_conv[0][0]']    \n",
            " ization)                                                                                         \n",
            "                                                                                                  \n",
            " conv3_block4_1_relu (Activatio  (None, 6, 6, 128)   0           ['conv3_block4_1_bn[0][0]']      \n",
            " n)                                                                                               \n",
            "                                                                                                  \n",
            " conv3_block4_2_conv (Conv2D)   (None, 6, 6, 128)    147584      ['conv3_block4_1_relu[0][0]']    \n",
            "                                                                                                  \n",
            " conv3_block4_2_bn (BatchNormal  (None, 6, 6, 128)   512         ['conv3_block4_2_conv[0][0]']    \n",
            " ization)                                                                                         \n",
            "                                                                                                  \n",
            " conv3_block4_2_relu (Activatio  (None, 6, 6, 128)   0           ['conv3_block4_2_bn[0][0]']      \n",
            " n)                                                                                               \n",
            "                                                                                                  \n",
            " conv3_block4_3_conv (Conv2D)   (None, 6, 6, 512)    66048       ['conv3_block4_2_relu[0][0]']    \n",
            "                                                                                                  \n",
            " conv3_block4_3_bn (BatchNormal  (None, 6, 6, 512)   2048        ['conv3_block4_3_conv[0][0]']    \n",
            " ization)                                                                                         \n",
            "                                                                                                  \n",
            " conv3_block4_add (Add)         (None, 6, 6, 512)    0           ['conv3_block3_out[0][0]',       \n",
            "                                                                  'conv3_block4_3_bn[0][0]']      \n",
            "                                                                                                  \n",
            " conv3_block4_out (Activation)  (None, 6, 6, 512)    0           ['conv3_block4_add[0][0]']       \n",
            "                                                                                                  \n",
            " conv4_block1_1_conv (Conv2D)   (None, 3, 3, 256)    131328      ['conv3_block4_out[0][0]']       \n",
            "                                                                                                  \n",
            " conv4_block1_1_bn (BatchNormal  (None, 3, 3, 256)   1024        ['conv4_block1_1_conv[0][0]']    \n",
            " ization)                                                                                         \n",
            "                                                                                                  \n",
            " conv4_block1_1_relu (Activatio  (None, 3, 3, 256)   0           ['conv4_block1_1_bn[0][0]']      \n",
            " n)                                                                                               \n",
            "                                                                                                  \n",
            " conv4_block1_2_conv (Conv2D)   (None, 3, 3, 256)    590080      ['conv4_block1_1_relu[0][0]']    \n",
            "                                                                                                  \n",
            " conv4_block1_2_bn (BatchNormal  (None, 3, 3, 256)   1024        ['conv4_block1_2_conv[0][0]']    \n",
            " ization)                                                                                         \n",
            "                                                                                                  \n",
            " conv4_block1_2_relu (Activatio  (None, 3, 3, 256)   0           ['conv4_block1_2_bn[0][0]']      \n",
            " n)                                                                                               \n",
            "                                                                                                  \n",
            " conv4_block1_0_conv (Conv2D)   (None, 3, 3, 1024)   525312      ['conv3_block4_out[0][0]']       \n",
            "                                                                                                  \n",
            " conv4_block1_3_conv (Conv2D)   (None, 3, 3, 1024)   263168      ['conv4_block1_2_relu[0][0]']    \n",
            "                                                                                                  \n",
            " conv4_block1_0_bn (BatchNormal  (None, 3, 3, 1024)  4096        ['conv4_block1_0_conv[0][0]']    \n",
            " ization)                                                                                         \n",
            "                                                                                                  \n",
            " conv4_block1_3_bn (BatchNormal  (None, 3, 3, 1024)  4096        ['conv4_block1_3_conv[0][0]']    \n",
            " ization)                                                                                         \n",
            "                                                                                                  \n",
            " conv4_block1_add (Add)         (None, 3, 3, 1024)   0           ['conv4_block1_0_bn[0][0]',      \n",
            "                                                                  'conv4_block1_3_bn[0][0]']      \n",
            "                                                                                                  \n",
            " conv4_block1_out (Activation)  (None, 3, 3, 1024)   0           ['conv4_block1_add[0][0]']       \n",
            "                                                                                                  \n",
            " conv4_block2_1_conv (Conv2D)   (None, 3, 3, 256)    262400      ['conv4_block1_out[0][0]']       \n",
            "                                                                                                  \n",
            " conv4_block2_1_bn (BatchNormal  (None, 3, 3, 256)   1024        ['conv4_block2_1_conv[0][0]']    \n",
            " ization)                                                                                         \n",
            "                                                                                                  \n",
            " conv4_block2_1_relu (Activatio  (None, 3, 3, 256)   0           ['conv4_block2_1_bn[0][0]']      \n",
            " n)                                                                                               \n",
            "                                                                                                  \n",
            " conv4_block2_2_conv (Conv2D)   (None, 3, 3, 256)    590080      ['conv4_block2_1_relu[0][0]']    \n",
            "                                                                                                  \n",
            " conv4_block2_2_bn (BatchNormal  (None, 3, 3, 256)   1024        ['conv4_block2_2_conv[0][0]']    \n",
            " ization)                                                                                         \n",
            "                                                                                                  \n",
            " conv4_block2_2_relu (Activatio  (None, 3, 3, 256)   0           ['conv4_block2_2_bn[0][0]']      \n",
            " n)                                                                                               \n",
            "                                                                                                  \n",
            " conv4_block2_3_conv (Conv2D)   (None, 3, 3, 1024)   263168      ['conv4_block2_2_relu[0][0]']    \n",
            "                                                                                                  \n",
            " conv4_block2_3_bn (BatchNormal  (None, 3, 3, 1024)  4096        ['conv4_block2_3_conv[0][0]']    \n",
            " ization)                                                                                         \n",
            "                                                                                                  \n",
            " conv4_block2_add (Add)         (None, 3, 3, 1024)   0           ['conv4_block1_out[0][0]',       \n",
            "                                                                  'conv4_block2_3_bn[0][0]']      \n",
            "                                                                                                  \n",
            " conv4_block2_out (Activation)  (None, 3, 3, 1024)   0           ['conv4_block2_add[0][0]']       \n",
            "                                                                                                  \n",
            " conv4_block3_1_conv (Conv2D)   (None, 3, 3, 256)    262400      ['conv4_block2_out[0][0]']       \n",
            "                                                                                                  \n",
            " conv4_block3_1_bn (BatchNormal  (None, 3, 3, 256)   1024        ['conv4_block3_1_conv[0][0]']    \n",
            " ization)                                                                                         \n",
            "                                                                                                  \n",
            " conv4_block3_1_relu (Activatio  (None, 3, 3, 256)   0           ['conv4_block3_1_bn[0][0]']      \n",
            " n)                                                                                               \n",
            "                                                                                                  \n",
            " conv4_block3_2_conv (Conv2D)   (None, 3, 3, 256)    590080      ['conv4_block3_1_relu[0][0]']    \n",
            "                                                                                                  \n",
            " conv4_block3_2_bn (BatchNormal  (None, 3, 3, 256)   1024        ['conv4_block3_2_conv[0][0]']    \n",
            " ization)                                                                                         \n",
            "                                                                                                  \n",
            " conv4_block3_2_relu (Activatio  (None, 3, 3, 256)   0           ['conv4_block3_2_bn[0][0]']      \n",
            " n)                                                                                               \n",
            "                                                                                                  \n",
            " conv4_block3_3_conv (Conv2D)   (None, 3, 3, 1024)   263168      ['conv4_block3_2_relu[0][0]']    \n",
            "                                                                                                  \n",
            " conv4_block3_3_bn (BatchNormal  (None, 3, 3, 1024)  4096        ['conv4_block3_3_conv[0][0]']    \n",
            " ization)                                                                                         \n",
            "                                                                                                  \n",
            " conv4_block3_add (Add)         (None, 3, 3, 1024)   0           ['conv4_block2_out[0][0]',       \n",
            "                                                                  'conv4_block3_3_bn[0][0]']      \n",
            "                                                                                                  \n",
            " conv4_block3_out (Activation)  (None, 3, 3, 1024)   0           ['conv4_block3_add[0][0]']       \n",
            "                                                                                                  \n",
            " conv4_block4_1_conv (Conv2D)   (None, 3, 3, 256)    262400      ['conv4_block3_out[0][0]']       \n",
            "                                                                                                  \n",
            " conv4_block4_1_bn (BatchNormal  (None, 3, 3, 256)   1024        ['conv4_block4_1_conv[0][0]']    \n",
            " ization)                                                                                         \n",
            "                                                                                                  \n",
            " conv4_block4_1_relu (Activatio  (None, 3, 3, 256)   0           ['conv4_block4_1_bn[0][0]']      \n",
            " n)                                                                                               \n",
            "                                                                                                  \n",
            " conv4_block4_2_conv (Conv2D)   (None, 3, 3, 256)    590080      ['conv4_block4_1_relu[0][0]']    \n",
            "                                                                                                  \n",
            " conv4_block4_2_bn (BatchNormal  (None, 3, 3, 256)   1024        ['conv4_block4_2_conv[0][0]']    \n",
            " ization)                                                                                         \n",
            "                                                                                                  \n",
            " conv4_block4_2_relu (Activatio  (None, 3, 3, 256)   0           ['conv4_block4_2_bn[0][0]']      \n",
            " n)                                                                                               \n",
            "                                                                                                  \n",
            " conv4_block4_3_conv (Conv2D)   (None, 3, 3, 1024)   263168      ['conv4_block4_2_relu[0][0]']    \n",
            "                                                                                                  \n",
            " conv4_block4_3_bn (BatchNormal  (None, 3, 3, 1024)  4096        ['conv4_block4_3_conv[0][0]']    \n",
            " ization)                                                                                         \n",
            "                                                                                                  \n",
            " conv4_block4_add (Add)         (None, 3, 3, 1024)   0           ['conv4_block3_out[0][0]',       \n",
            "                                                                  'conv4_block4_3_bn[0][0]']      \n",
            "                                                                                                  \n",
            " conv4_block4_out (Activation)  (None, 3, 3, 1024)   0           ['conv4_block4_add[0][0]']       \n",
            "                                                                                                  \n",
            " conv4_block5_1_conv (Conv2D)   (None, 3, 3, 256)    262400      ['conv4_block4_out[0][0]']       \n",
            "                                                                                                  \n",
            " conv4_block5_1_bn (BatchNormal  (None, 3, 3, 256)   1024        ['conv4_block5_1_conv[0][0]']    \n",
            " ization)                                                                                         \n",
            "                                                                                                  \n",
            " conv4_block5_1_relu (Activatio  (None, 3, 3, 256)   0           ['conv4_block5_1_bn[0][0]']      \n",
            " n)                                                                                               \n",
            "                                                                                                  \n",
            " conv4_block5_2_conv (Conv2D)   (None, 3, 3, 256)    590080      ['conv4_block5_1_relu[0][0]']    \n",
            "                                                                                                  \n",
            " conv4_block5_2_bn (BatchNormal  (None, 3, 3, 256)   1024        ['conv4_block5_2_conv[0][0]']    \n",
            " ization)                                                                                         \n",
            "                                                                                                  \n",
            " conv4_block5_2_relu (Activatio  (None, 3, 3, 256)   0           ['conv4_block5_2_bn[0][0]']      \n",
            " n)                                                                                               \n",
            "                                                                                                  \n",
            " conv4_block5_3_conv (Conv2D)   (None, 3, 3, 1024)   263168      ['conv4_block5_2_relu[0][0]']    \n",
            "                                                                                                  \n",
            " conv4_block5_3_bn (BatchNormal  (None, 3, 3, 1024)  4096        ['conv4_block5_3_conv[0][0]']    \n",
            " ization)                                                                                         \n",
            "                                                                                                  \n",
            " conv4_block5_add (Add)         (None, 3, 3, 1024)   0           ['conv4_block4_out[0][0]',       \n",
            "                                                                  'conv4_block5_3_bn[0][0]']      \n",
            "                                                                                                  \n",
            " conv4_block5_out (Activation)  (None, 3, 3, 1024)   0           ['conv4_block5_add[0][0]']       \n",
            "                                                                                                  \n",
            " conv4_block6_1_conv (Conv2D)   (None, 3, 3, 256)    262400      ['conv4_block5_out[0][0]']       \n",
            "                                                                                                  \n",
            " conv4_block6_1_bn (BatchNormal  (None, 3, 3, 256)   1024        ['conv4_block6_1_conv[0][0]']    \n",
            " ization)                                                                                         \n",
            "                                                                                                  \n",
            " conv4_block6_1_relu (Activatio  (None, 3, 3, 256)   0           ['conv4_block6_1_bn[0][0]']      \n",
            " n)                                                                                               \n",
            "                                                                                                  \n",
            " conv4_block6_2_conv (Conv2D)   (None, 3, 3, 256)    590080      ['conv4_block6_1_relu[0][0]']    \n",
            "                                                                                                  \n",
            " conv4_block6_2_bn (BatchNormal  (None, 3, 3, 256)   1024        ['conv4_block6_2_conv[0][0]']    \n",
            " ization)                                                                                         \n",
            "                                                                                                  \n",
            " conv4_block6_2_relu (Activatio  (None, 3, 3, 256)   0           ['conv4_block6_2_bn[0][0]']      \n",
            " n)                                                                                               \n",
            "                                                                                                  \n",
            " conv4_block6_3_conv (Conv2D)   (None, 3, 3, 1024)   263168      ['conv4_block6_2_relu[0][0]']    \n",
            "                                                                                                  \n",
            " conv4_block6_3_bn (BatchNormal  (None, 3, 3, 1024)  4096        ['conv4_block6_3_conv[0][0]']    \n",
            " ization)                                                                                         \n",
            "                                                                                                  \n",
            " conv4_block6_add (Add)         (None, 3, 3, 1024)   0           ['conv4_block5_out[0][0]',       \n",
            "                                                                  'conv4_block6_3_bn[0][0]']      \n",
            "                                                                                                  \n",
            " conv4_block6_out (Activation)  (None, 3, 3, 1024)   0           ['conv4_block6_add[0][0]']       \n",
            "                                                                                                  \n",
            " conv4_block7_1_conv (Conv2D)   (None, 3, 3, 256)    262400      ['conv4_block6_out[0][0]']       \n",
            "                                                                                                  \n",
            " conv4_block7_1_bn (BatchNormal  (None, 3, 3, 256)   1024        ['conv4_block7_1_conv[0][0]']    \n",
            " ization)                                                                                         \n",
            "                                                                                                  \n",
            " conv4_block7_1_relu (Activatio  (None, 3, 3, 256)   0           ['conv4_block7_1_bn[0][0]']      \n",
            " n)                                                                                               \n",
            "                                                                                                  \n",
            " conv4_block7_2_conv (Conv2D)   (None, 3, 3, 256)    590080      ['conv4_block7_1_relu[0][0]']    \n",
            "                                                                                                  \n",
            " conv4_block7_2_bn (BatchNormal  (None, 3, 3, 256)   1024        ['conv4_block7_2_conv[0][0]']    \n",
            " ization)                                                                                         \n",
            "                                                                                                  \n",
            " conv4_block7_2_relu (Activatio  (None, 3, 3, 256)   0           ['conv4_block7_2_bn[0][0]']      \n",
            " n)                                                                                               \n",
            "                                                                                                  \n",
            " conv4_block7_3_conv (Conv2D)   (None, 3, 3, 1024)   263168      ['conv4_block7_2_relu[0][0]']    \n",
            "                                                                                                  \n",
            " conv4_block7_3_bn (BatchNormal  (None, 3, 3, 1024)  4096        ['conv4_block7_3_conv[0][0]']    \n",
            " ization)                                                                                         \n",
            "                                                                                                  \n",
            " conv4_block7_add (Add)         (None, 3, 3, 1024)   0           ['conv4_block6_out[0][0]',       \n",
            "                                                                  'conv4_block7_3_bn[0][0]']      \n",
            "                                                                                                  \n",
            " conv4_block7_out (Activation)  (None, 3, 3, 1024)   0           ['conv4_block7_add[0][0]']       \n",
            "                                                                                                  \n",
            " conv4_block8_1_conv (Conv2D)   (None, 3, 3, 256)    262400      ['conv4_block7_out[0][0]']       \n",
            "                                                                                                  \n",
            " conv4_block8_1_bn (BatchNormal  (None, 3, 3, 256)   1024        ['conv4_block8_1_conv[0][0]']    \n",
            " ization)                                                                                         \n",
            "                                                                                                  \n",
            " conv4_block8_1_relu (Activatio  (None, 3, 3, 256)   0           ['conv4_block8_1_bn[0][0]']      \n",
            " n)                                                                                               \n",
            "                                                                                                  \n",
            " conv4_block8_2_conv (Conv2D)   (None, 3, 3, 256)    590080      ['conv4_block8_1_relu[0][0]']    \n",
            "                                                                                                  \n",
            " conv4_block8_2_bn (BatchNormal  (None, 3, 3, 256)   1024        ['conv4_block8_2_conv[0][0]']    \n",
            " ization)                                                                                         \n",
            "                                                                                                  \n",
            " conv4_block8_2_relu (Activatio  (None, 3, 3, 256)   0           ['conv4_block8_2_bn[0][0]']      \n",
            " n)                                                                                               \n",
            "                                                                                                  \n",
            " conv4_block8_3_conv (Conv2D)   (None, 3, 3, 1024)   263168      ['conv4_block8_2_relu[0][0]']    \n",
            "                                                                                                  \n",
            " conv4_block8_3_bn (BatchNormal  (None, 3, 3, 1024)  4096        ['conv4_block8_3_conv[0][0]']    \n",
            " ization)                                                                                         \n",
            "                                                                                                  \n",
            " conv4_block8_add (Add)         (None, 3, 3, 1024)   0           ['conv4_block7_out[0][0]',       \n",
            "                                                                  'conv4_block8_3_bn[0][0]']      \n",
            "                                                                                                  \n",
            " conv4_block8_out (Activation)  (None, 3, 3, 1024)   0           ['conv4_block8_add[0][0]']       \n",
            "                                                                                                  \n",
            " conv4_block9_1_conv (Conv2D)   (None, 3, 3, 256)    262400      ['conv4_block8_out[0][0]']       \n",
            "                                                                                                  \n",
            " conv4_block9_1_bn (BatchNormal  (None, 3, 3, 256)   1024        ['conv4_block9_1_conv[0][0]']    \n",
            " ization)                                                                                         \n",
            "                                                                                                  \n",
            " conv4_block9_1_relu (Activatio  (None, 3, 3, 256)   0           ['conv4_block9_1_bn[0][0]']      \n",
            " n)                                                                                               \n",
            "                                                                                                  \n",
            " conv4_block9_2_conv (Conv2D)   (None, 3, 3, 256)    590080      ['conv4_block9_1_relu[0][0]']    \n",
            "                                                                                                  \n",
            " conv4_block9_2_bn (BatchNormal  (None, 3, 3, 256)   1024        ['conv4_block9_2_conv[0][0]']    \n",
            " ization)                                                                                         \n",
            "                                                                                                  \n",
            " conv4_block9_2_relu (Activatio  (None, 3, 3, 256)   0           ['conv4_block9_2_bn[0][0]']      \n",
            " n)                                                                                               \n",
            "                                                                                                  \n",
            " conv4_block9_3_conv (Conv2D)   (None, 3, 3, 1024)   263168      ['conv4_block9_2_relu[0][0]']    \n",
            "                                                                                                  \n",
            " conv4_block9_3_bn (BatchNormal  (None, 3, 3, 1024)  4096        ['conv4_block9_3_conv[0][0]']    \n",
            " ization)                                                                                         \n",
            "                                                                                                  \n",
            " conv4_block9_add (Add)         (None, 3, 3, 1024)   0           ['conv4_block8_out[0][0]',       \n",
            "                                                                  'conv4_block9_3_bn[0][0]']      \n",
            "                                                                                                  \n",
            " conv4_block9_out (Activation)  (None, 3, 3, 1024)   0           ['conv4_block9_add[0][0]']       \n",
            "                                                                                                  \n",
            " conv4_block10_1_conv (Conv2D)  (None, 3, 3, 256)    262400      ['conv4_block9_out[0][0]']       \n",
            "                                                                                                  \n",
            " conv4_block10_1_bn (BatchNorma  (None, 3, 3, 256)   1024        ['conv4_block10_1_conv[0][0]']   \n",
            " lization)                                                                                        \n",
            "                                                                                                  \n",
            " conv4_block10_1_relu (Activati  (None, 3, 3, 256)   0           ['conv4_block10_1_bn[0][0]']     \n",
            " on)                                                                                              \n",
            "                                                                                                  \n",
            " conv4_block10_2_conv (Conv2D)  (None, 3, 3, 256)    590080      ['conv4_block10_1_relu[0][0]']   \n",
            "                                                                                                  \n",
            " conv4_block10_2_bn (BatchNorma  (None, 3, 3, 256)   1024        ['conv4_block10_2_conv[0][0]']   \n",
            " lization)                                                                                        \n",
            "                                                                                                  \n",
            " conv4_block10_2_relu (Activati  (None, 3, 3, 256)   0           ['conv4_block10_2_bn[0][0]']     \n",
            " on)                                                                                              \n",
            "                                                                                                  \n",
            " conv4_block10_3_conv (Conv2D)  (None, 3, 3, 1024)   263168      ['conv4_block10_2_relu[0][0]']   \n",
            "                                                                                                  \n",
            " conv4_block10_3_bn (BatchNorma  (None, 3, 3, 1024)  4096        ['conv4_block10_3_conv[0][0]']   \n",
            " lization)                                                                                        \n",
            "                                                                                                  \n",
            " conv4_block10_add (Add)        (None, 3, 3, 1024)   0           ['conv4_block9_out[0][0]',       \n",
            "                                                                  'conv4_block10_3_bn[0][0]']     \n",
            "                                                                                                  \n",
            " conv4_block10_out (Activation)  (None, 3, 3, 1024)  0           ['conv4_block10_add[0][0]']      \n",
            "                                                                                                  \n",
            " conv4_block11_1_conv (Conv2D)  (None, 3, 3, 256)    262400      ['conv4_block10_out[0][0]']      \n",
            "                                                                                                  \n",
            " conv4_block11_1_bn (BatchNorma  (None, 3, 3, 256)   1024        ['conv4_block11_1_conv[0][0]']   \n",
            " lization)                                                                                        \n",
            "                                                                                                  \n",
            " conv4_block11_1_relu (Activati  (None, 3, 3, 256)   0           ['conv4_block11_1_bn[0][0]']     \n",
            " on)                                                                                              \n",
            "                                                                                                  \n",
            " conv4_block11_2_conv (Conv2D)  (None, 3, 3, 256)    590080      ['conv4_block11_1_relu[0][0]']   \n",
            "                                                                                                  \n",
            " conv4_block11_2_bn (BatchNorma  (None, 3, 3, 256)   1024        ['conv4_block11_2_conv[0][0]']   \n",
            " lization)                                                                                        \n",
            "                                                                                                  \n",
            " conv4_block11_2_relu (Activati  (None, 3, 3, 256)   0           ['conv4_block11_2_bn[0][0]']     \n",
            " on)                                                                                              \n",
            "                                                                                                  \n",
            " conv4_block11_3_conv (Conv2D)  (None, 3, 3, 1024)   263168      ['conv4_block11_2_relu[0][0]']   \n",
            "                                                                                                  \n",
            " conv4_block11_3_bn (BatchNorma  (None, 3, 3, 1024)  4096        ['conv4_block11_3_conv[0][0]']   \n",
            " lization)                                                                                        \n",
            "                                                                                                  \n",
            " conv4_block11_add (Add)        (None, 3, 3, 1024)   0           ['conv4_block10_out[0][0]',      \n",
            "                                                                  'conv4_block11_3_bn[0][0]']     \n",
            "                                                                                                  \n",
            " conv4_block11_out (Activation)  (None, 3, 3, 1024)  0           ['conv4_block11_add[0][0]']      \n",
            "                                                                                                  \n",
            " conv4_block12_1_conv (Conv2D)  (None, 3, 3, 256)    262400      ['conv4_block11_out[0][0]']      \n",
            "                                                                                                  \n",
            " conv4_block12_1_bn (BatchNorma  (None, 3, 3, 256)   1024        ['conv4_block12_1_conv[0][0]']   \n",
            " lization)                                                                                        \n",
            "                                                                                                  \n",
            " conv4_block12_1_relu (Activati  (None, 3, 3, 256)   0           ['conv4_block12_1_bn[0][0]']     \n",
            " on)                                                                                              \n",
            "                                                                                                  \n",
            " conv4_block12_2_conv (Conv2D)  (None, 3, 3, 256)    590080      ['conv4_block12_1_relu[0][0]']   \n",
            "                                                                                                  \n",
            " conv4_block12_2_bn (BatchNorma  (None, 3, 3, 256)   1024        ['conv4_block12_2_conv[0][0]']   \n",
            " lization)                                                                                        \n",
            "                                                                                                  \n",
            " conv4_block12_2_relu (Activati  (None, 3, 3, 256)   0           ['conv4_block12_2_bn[0][0]']     \n",
            " on)                                                                                              \n",
            "                                                                                                  \n",
            " conv4_block12_3_conv (Conv2D)  (None, 3, 3, 1024)   263168      ['conv4_block12_2_relu[0][0]']   \n",
            "                                                                                                  \n",
            " conv4_block12_3_bn (BatchNorma  (None, 3, 3, 1024)  4096        ['conv4_block12_3_conv[0][0]']   \n",
            " lization)                                                                                        \n",
            "                                                                                                  \n",
            " conv4_block12_add (Add)        (None, 3, 3, 1024)   0           ['conv4_block11_out[0][0]',      \n",
            "                                                                  'conv4_block12_3_bn[0][0]']     \n",
            "                                                                                                  \n",
            " conv4_block12_out (Activation)  (None, 3, 3, 1024)  0           ['conv4_block12_add[0][0]']      \n",
            "                                                                                                  \n",
            " conv4_block13_1_conv (Conv2D)  (None, 3, 3, 256)    262400      ['conv4_block12_out[0][0]']      \n",
            "                                                                                                  \n",
            " conv4_block13_1_bn (BatchNorma  (None, 3, 3, 256)   1024        ['conv4_block13_1_conv[0][0]']   \n",
            " lization)                                                                                        \n",
            "                                                                                                  \n",
            " conv4_block13_1_relu (Activati  (None, 3, 3, 256)   0           ['conv4_block13_1_bn[0][0]']     \n",
            " on)                                                                                              \n",
            "                                                                                                  \n",
            " conv4_block13_2_conv (Conv2D)  (None, 3, 3, 256)    590080      ['conv4_block13_1_relu[0][0]']   \n",
            "                                                                                                  \n",
            " conv4_block13_2_bn (BatchNorma  (None, 3, 3, 256)   1024        ['conv4_block13_2_conv[0][0]']   \n",
            " lization)                                                                                        \n",
            "                                                                                                  \n",
            " conv4_block13_2_relu (Activati  (None, 3, 3, 256)   0           ['conv4_block13_2_bn[0][0]']     \n",
            " on)                                                                                              \n",
            "                                                                                                  \n",
            " conv4_block13_3_conv (Conv2D)  (None, 3, 3, 1024)   263168      ['conv4_block13_2_relu[0][0]']   \n",
            "                                                                                                  \n",
            " conv4_block13_3_bn (BatchNorma  (None, 3, 3, 1024)  4096        ['conv4_block13_3_conv[0][0]']   \n",
            " lization)                                                                                        \n",
            "                                                                                                  \n",
            " conv4_block13_add (Add)        (None, 3, 3, 1024)   0           ['conv4_block12_out[0][0]',      \n",
            "                                                                  'conv4_block13_3_bn[0][0]']     \n",
            "                                                                                                  \n",
            " conv4_block13_out (Activation)  (None, 3, 3, 1024)  0           ['conv4_block13_add[0][0]']      \n",
            "                                                                                                  \n",
            " conv4_block14_1_conv (Conv2D)  (None, 3, 3, 256)    262400      ['conv4_block13_out[0][0]']      \n",
            "                                                                                                  \n",
            " conv4_block14_1_bn (BatchNorma  (None, 3, 3, 256)   1024        ['conv4_block14_1_conv[0][0]']   \n",
            " lization)                                                                                        \n",
            "                                                                                                  \n",
            " conv4_block14_1_relu (Activati  (None, 3, 3, 256)   0           ['conv4_block14_1_bn[0][0]']     \n",
            " on)                                                                                              \n",
            "                                                                                                  \n",
            " conv4_block14_2_conv (Conv2D)  (None, 3, 3, 256)    590080      ['conv4_block14_1_relu[0][0]']   \n",
            "                                                                                                  \n",
            " conv4_block14_2_bn (BatchNorma  (None, 3, 3, 256)   1024        ['conv4_block14_2_conv[0][0]']   \n",
            " lization)                                                                                        \n",
            "                                                                                                  \n",
            " conv4_block14_2_relu (Activati  (None, 3, 3, 256)   0           ['conv4_block14_2_bn[0][0]']     \n",
            " on)                                                                                              \n",
            "                                                                                                  \n",
            " conv4_block14_3_conv (Conv2D)  (None, 3, 3, 1024)   263168      ['conv4_block14_2_relu[0][0]']   \n",
            "                                                                                                  \n",
            " conv4_block14_3_bn (BatchNorma  (None, 3, 3, 1024)  4096        ['conv4_block14_3_conv[0][0]']   \n",
            " lization)                                                                                        \n",
            "                                                                                                  \n",
            " conv4_block14_add (Add)        (None, 3, 3, 1024)   0           ['conv4_block13_out[0][0]',      \n",
            "                                                                  'conv4_block14_3_bn[0][0]']     \n",
            "                                                                                                  \n",
            " conv4_block14_out (Activation)  (None, 3, 3, 1024)  0           ['conv4_block14_add[0][0]']      \n",
            "                                                                                                  \n",
            " conv4_block15_1_conv (Conv2D)  (None, 3, 3, 256)    262400      ['conv4_block14_out[0][0]']      \n",
            "                                                                                                  \n",
            " conv4_block15_1_bn (BatchNorma  (None, 3, 3, 256)   1024        ['conv4_block15_1_conv[0][0]']   \n",
            " lization)                                                                                        \n",
            "                                                                                                  \n",
            " conv4_block15_1_relu (Activati  (None, 3, 3, 256)   0           ['conv4_block15_1_bn[0][0]']     \n",
            " on)                                                                                              \n",
            "                                                                                                  \n",
            " conv4_block15_2_conv (Conv2D)  (None, 3, 3, 256)    590080      ['conv4_block15_1_relu[0][0]']   \n",
            "                                                                                                  \n",
            " conv4_block15_2_bn (BatchNorma  (None, 3, 3, 256)   1024        ['conv4_block15_2_conv[0][0]']   \n",
            " lization)                                                                                        \n",
            "                                                                                                  \n",
            " conv4_block15_2_relu (Activati  (None, 3, 3, 256)   0           ['conv4_block15_2_bn[0][0]']     \n",
            " on)                                                                                              \n",
            "                                                                                                  \n",
            " conv4_block15_3_conv (Conv2D)  (None, 3, 3, 1024)   263168      ['conv4_block15_2_relu[0][0]']   \n",
            "                                                                                                  \n",
            " conv4_block15_3_bn (BatchNorma  (None, 3, 3, 1024)  4096        ['conv4_block15_3_conv[0][0]']   \n",
            " lization)                                                                                        \n",
            "                                                                                                  \n",
            " conv4_block15_add (Add)        (None, 3, 3, 1024)   0           ['conv4_block14_out[0][0]',      \n",
            "                                                                  'conv4_block15_3_bn[0][0]']     \n",
            "                                                                                                  \n",
            " conv4_block15_out (Activation)  (None, 3, 3, 1024)  0           ['conv4_block15_add[0][0]']      \n",
            "                                                                                                  \n",
            " conv4_block16_1_conv (Conv2D)  (None, 3, 3, 256)    262400      ['conv4_block15_out[0][0]']      \n",
            "                                                                                                  \n",
            " conv4_block16_1_bn (BatchNorma  (None, 3, 3, 256)   1024        ['conv4_block16_1_conv[0][0]']   \n",
            " lization)                                                                                        \n",
            "                                                                                                  \n",
            " conv4_block16_1_relu (Activati  (None, 3, 3, 256)   0           ['conv4_block16_1_bn[0][0]']     \n",
            " on)                                                                                              \n",
            "                                                                                                  \n",
            " conv4_block16_2_conv (Conv2D)  (None, 3, 3, 256)    590080      ['conv4_block16_1_relu[0][0]']   \n",
            "                                                                                                  \n",
            " conv4_block16_2_bn (BatchNorma  (None, 3, 3, 256)   1024        ['conv4_block16_2_conv[0][0]']   \n",
            " lization)                                                                                        \n",
            "                                                                                                  \n",
            " conv4_block16_2_relu (Activati  (None, 3, 3, 256)   0           ['conv4_block16_2_bn[0][0]']     \n",
            " on)                                                                                              \n",
            "                                                                                                  \n",
            " conv4_block16_3_conv (Conv2D)  (None, 3, 3, 1024)   263168      ['conv4_block16_2_relu[0][0]']   \n",
            "                                                                                                  \n",
            " conv4_block16_3_bn (BatchNorma  (None, 3, 3, 1024)  4096        ['conv4_block16_3_conv[0][0]']   \n",
            " lization)                                                                                        \n",
            "                                                                                                  \n",
            " conv4_block16_add (Add)        (None, 3, 3, 1024)   0           ['conv4_block15_out[0][0]',      \n",
            "                                                                  'conv4_block16_3_bn[0][0]']     \n",
            "                                                                                                  \n",
            " conv4_block16_out (Activation)  (None, 3, 3, 1024)  0           ['conv4_block16_add[0][0]']      \n",
            "                                                                                                  \n",
            " conv4_block17_1_conv (Conv2D)  (None, 3, 3, 256)    262400      ['conv4_block16_out[0][0]']      \n",
            "                                                                                                  \n",
            " conv4_block17_1_bn (BatchNorma  (None, 3, 3, 256)   1024        ['conv4_block17_1_conv[0][0]']   \n",
            " lization)                                                                                        \n",
            "                                                                                                  \n",
            " conv4_block17_1_relu (Activati  (None, 3, 3, 256)   0           ['conv4_block17_1_bn[0][0]']     \n",
            " on)                                                                                              \n",
            "                                                                                                  \n",
            " conv4_block17_2_conv (Conv2D)  (None, 3, 3, 256)    590080      ['conv4_block17_1_relu[0][0]']   \n",
            "                                                                                                  \n",
            " conv4_block17_2_bn (BatchNorma  (None, 3, 3, 256)   1024        ['conv4_block17_2_conv[0][0]']   \n",
            " lization)                                                                                        \n",
            "                                                                                                  \n",
            " conv4_block17_2_relu (Activati  (None, 3, 3, 256)   0           ['conv4_block17_2_bn[0][0]']     \n",
            " on)                                                                                              \n",
            "                                                                                                  \n",
            " conv4_block17_3_conv (Conv2D)  (None, 3, 3, 1024)   263168      ['conv4_block17_2_relu[0][0]']   \n",
            "                                                                                                  \n",
            " conv4_block17_3_bn (BatchNorma  (None, 3, 3, 1024)  4096        ['conv4_block17_3_conv[0][0]']   \n",
            " lization)                                                                                        \n",
            "                                                                                                  \n",
            " conv4_block17_add (Add)        (None, 3, 3, 1024)   0           ['conv4_block16_out[0][0]',      \n",
            "                                                                  'conv4_block17_3_bn[0][0]']     \n",
            "                                                                                                  \n",
            " conv4_block17_out (Activation)  (None, 3, 3, 1024)  0           ['conv4_block17_add[0][0]']      \n",
            "                                                                                                  \n",
            " conv4_block18_1_conv (Conv2D)  (None, 3, 3, 256)    262400      ['conv4_block17_out[0][0]']      \n",
            "                                                                                                  \n",
            " conv4_block18_1_bn (BatchNorma  (None, 3, 3, 256)   1024        ['conv4_block18_1_conv[0][0]']   \n",
            " lization)                                                                                        \n",
            "                                                                                                  \n",
            " conv4_block18_1_relu (Activati  (None, 3, 3, 256)   0           ['conv4_block18_1_bn[0][0]']     \n",
            " on)                                                                                              \n",
            "                                                                                                  \n",
            " conv4_block18_2_conv (Conv2D)  (None, 3, 3, 256)    590080      ['conv4_block18_1_relu[0][0]']   \n",
            "                                                                                                  \n",
            " conv4_block18_2_bn (BatchNorma  (None, 3, 3, 256)   1024        ['conv4_block18_2_conv[0][0]']   \n",
            " lization)                                                                                        \n",
            "                                                                                                  \n",
            " conv4_block18_2_relu (Activati  (None, 3, 3, 256)   0           ['conv4_block18_2_bn[0][0]']     \n",
            " on)                                                                                              \n",
            "                                                                                                  \n",
            " conv4_block18_3_conv (Conv2D)  (None, 3, 3, 1024)   263168      ['conv4_block18_2_relu[0][0]']   \n",
            "                                                                                                  \n",
            " conv4_block18_3_bn (BatchNorma  (None, 3, 3, 1024)  4096        ['conv4_block18_3_conv[0][0]']   \n",
            " lization)                                                                                        \n",
            "                                                                                                  \n",
            " conv4_block18_add (Add)        (None, 3, 3, 1024)   0           ['conv4_block17_out[0][0]',      \n",
            "                                                                  'conv4_block18_3_bn[0][0]']     \n",
            "                                                                                                  \n",
            " conv4_block18_out (Activation)  (None, 3, 3, 1024)  0           ['conv4_block18_add[0][0]']      \n",
            "                                                                                                  \n",
            " conv4_block19_1_conv (Conv2D)  (None, 3, 3, 256)    262400      ['conv4_block18_out[0][0]']      \n",
            "                                                                                                  \n",
            " conv4_block19_1_bn (BatchNorma  (None, 3, 3, 256)   1024        ['conv4_block19_1_conv[0][0]']   \n",
            " lization)                                                                                        \n",
            "                                                                                                  \n",
            " conv4_block19_1_relu (Activati  (None, 3, 3, 256)   0           ['conv4_block19_1_bn[0][0]']     \n",
            " on)                                                                                              \n",
            "                                                                                                  \n",
            " conv4_block19_2_conv (Conv2D)  (None, 3, 3, 256)    590080      ['conv4_block19_1_relu[0][0]']   \n",
            "                                                                                                  \n",
            " conv4_block19_2_bn (BatchNorma  (None, 3, 3, 256)   1024        ['conv4_block19_2_conv[0][0]']   \n",
            " lization)                                                                                        \n",
            "                                                                                                  \n",
            " conv4_block19_2_relu (Activati  (None, 3, 3, 256)   0           ['conv4_block19_2_bn[0][0]']     \n",
            " on)                                                                                              \n",
            "                                                                                                  \n",
            " conv4_block19_3_conv (Conv2D)  (None, 3, 3, 1024)   263168      ['conv4_block19_2_relu[0][0]']   \n",
            "                                                                                                  \n",
            " conv4_block19_3_bn (BatchNorma  (None, 3, 3, 1024)  4096        ['conv4_block19_3_conv[0][0]']   \n",
            " lization)                                                                                        \n",
            "                                                                                                  \n",
            " conv4_block19_add (Add)        (None, 3, 3, 1024)   0           ['conv4_block18_out[0][0]',      \n",
            "                                                                  'conv4_block19_3_bn[0][0]']     \n",
            "                                                                                                  \n",
            " conv4_block19_out (Activation)  (None, 3, 3, 1024)  0           ['conv4_block19_add[0][0]']      \n",
            "                                                                                                  \n",
            " conv4_block20_1_conv (Conv2D)  (None, 3, 3, 256)    262400      ['conv4_block19_out[0][0]']      \n",
            "                                                                                                  \n",
            " conv4_block20_1_bn (BatchNorma  (None, 3, 3, 256)   1024        ['conv4_block20_1_conv[0][0]']   \n",
            " lization)                                                                                        \n",
            "                                                                                                  \n",
            " conv4_block20_1_relu (Activati  (None, 3, 3, 256)   0           ['conv4_block20_1_bn[0][0]']     \n",
            " on)                                                                                              \n",
            "                                                                                                  \n",
            " conv4_block20_2_conv (Conv2D)  (None, 3, 3, 256)    590080      ['conv4_block20_1_relu[0][0]']   \n",
            "                                                                                                  \n",
            " conv4_block20_2_bn (BatchNorma  (None, 3, 3, 256)   1024        ['conv4_block20_2_conv[0][0]']   \n",
            " lization)                                                                                        \n",
            "                                                                                                  \n",
            " conv4_block20_2_relu (Activati  (None, 3, 3, 256)   0           ['conv4_block20_2_bn[0][0]']     \n",
            " on)                                                                                              \n",
            "                                                                                                  \n",
            " conv4_block20_3_conv (Conv2D)  (None, 3, 3, 1024)   263168      ['conv4_block20_2_relu[0][0]']   \n",
            "                                                                                                  \n",
            " conv4_block20_3_bn (BatchNorma  (None, 3, 3, 1024)  4096        ['conv4_block20_3_conv[0][0]']   \n",
            " lization)                                                                                        \n",
            "                                                                                                  \n",
            " conv4_block20_add (Add)        (None, 3, 3, 1024)   0           ['conv4_block19_out[0][0]',      \n",
            "                                                                  'conv4_block20_3_bn[0][0]']     \n",
            "                                                                                                  \n",
            " conv4_block20_out (Activation)  (None, 3, 3, 1024)  0           ['conv4_block20_add[0][0]']      \n",
            "                                                                                                  \n",
            " conv4_block21_1_conv (Conv2D)  (None, 3, 3, 256)    262400      ['conv4_block20_out[0][0]']      \n",
            "                                                                                                  \n",
            " conv4_block21_1_bn (BatchNorma  (None, 3, 3, 256)   1024        ['conv4_block21_1_conv[0][0]']   \n",
            " lization)                                                                                        \n",
            "                                                                                                  \n",
            " conv4_block21_1_relu (Activati  (None, 3, 3, 256)   0           ['conv4_block21_1_bn[0][0]']     \n",
            " on)                                                                                              \n",
            "                                                                                                  \n",
            " conv4_block21_2_conv (Conv2D)  (None, 3, 3, 256)    590080      ['conv4_block21_1_relu[0][0]']   \n",
            "                                                                                                  \n",
            " conv4_block21_2_bn (BatchNorma  (None, 3, 3, 256)   1024        ['conv4_block21_2_conv[0][0]']   \n",
            " lization)                                                                                        \n",
            "                                                                                                  \n",
            " conv4_block21_2_relu (Activati  (None, 3, 3, 256)   0           ['conv4_block21_2_bn[0][0]']     \n",
            " on)                                                                                              \n",
            "                                                                                                  \n",
            " conv4_block21_3_conv (Conv2D)  (None, 3, 3, 1024)   263168      ['conv4_block21_2_relu[0][0]']   \n",
            "                                                                                                  \n",
            " conv4_block21_3_bn (BatchNorma  (None, 3, 3, 1024)  4096        ['conv4_block21_3_conv[0][0]']   \n",
            " lization)                                                                                        \n",
            "                                                                                                  \n",
            " conv4_block21_add (Add)        (None, 3, 3, 1024)   0           ['conv4_block20_out[0][0]',      \n",
            "                                                                  'conv4_block21_3_bn[0][0]']     \n",
            "                                                                                                  \n",
            " conv4_block21_out (Activation)  (None, 3, 3, 1024)  0           ['conv4_block21_add[0][0]']      \n",
            "                                                                                                  \n",
            " conv4_block22_1_conv (Conv2D)  (None, 3, 3, 256)    262400      ['conv4_block21_out[0][0]']      \n",
            "                                                                                                  \n",
            " conv4_block22_1_bn (BatchNorma  (None, 3, 3, 256)   1024        ['conv4_block22_1_conv[0][0]']   \n",
            " lization)                                                                                        \n",
            "                                                                                                  \n",
            " conv4_block22_1_relu (Activati  (None, 3, 3, 256)   0           ['conv4_block22_1_bn[0][0]']     \n",
            " on)                                                                                              \n",
            "                                                                                                  \n",
            " conv4_block22_2_conv (Conv2D)  (None, 3, 3, 256)    590080      ['conv4_block22_1_relu[0][0]']   \n",
            "                                                                                                  \n",
            " conv4_block22_2_bn (BatchNorma  (None, 3, 3, 256)   1024        ['conv4_block22_2_conv[0][0]']   \n",
            " lization)                                                                                        \n",
            "                                                                                                  \n",
            " conv4_block22_2_relu (Activati  (None, 3, 3, 256)   0           ['conv4_block22_2_bn[0][0]']     \n",
            " on)                                                                                              \n",
            "                                                                                                  \n",
            " conv4_block22_3_conv (Conv2D)  (None, 3, 3, 1024)   263168      ['conv4_block22_2_relu[0][0]']   \n",
            "                                                                                                  \n",
            " conv4_block22_3_bn (BatchNorma  (None, 3, 3, 1024)  4096        ['conv4_block22_3_conv[0][0]']   \n",
            " lization)                                                                                        \n",
            "                                                                                                  \n",
            " conv4_block22_add (Add)        (None, 3, 3, 1024)   0           ['conv4_block21_out[0][0]',      \n",
            "                                                                  'conv4_block22_3_bn[0][0]']     \n",
            "                                                                                                  \n",
            " conv4_block22_out (Activation)  (None, 3, 3, 1024)  0           ['conv4_block22_add[0][0]']      \n",
            "                                                                                                  \n",
            " conv4_block23_1_conv (Conv2D)  (None, 3, 3, 256)    262400      ['conv4_block22_out[0][0]']      \n",
            "                                                                                                  \n",
            " conv4_block23_1_bn (BatchNorma  (None, 3, 3, 256)   1024        ['conv4_block23_1_conv[0][0]']   \n",
            " lization)                                                                                        \n",
            "                                                                                                  \n",
            " conv4_block23_1_relu (Activati  (None, 3, 3, 256)   0           ['conv4_block23_1_bn[0][0]']     \n",
            " on)                                                                                              \n",
            "                                                                                                  \n",
            " conv4_block23_2_conv (Conv2D)  (None, 3, 3, 256)    590080      ['conv4_block23_1_relu[0][0]']   \n",
            "                                                                                                  \n",
            " conv4_block23_2_bn (BatchNorma  (None, 3, 3, 256)   1024        ['conv4_block23_2_conv[0][0]']   \n",
            " lization)                                                                                        \n",
            "                                                                                                  \n",
            " conv4_block23_2_relu (Activati  (None, 3, 3, 256)   0           ['conv4_block23_2_bn[0][0]']     \n",
            " on)                                                                                              \n",
            "                                                                                                  \n",
            " conv4_block23_3_conv (Conv2D)  (None, 3, 3, 1024)   263168      ['conv4_block23_2_relu[0][0]']   \n",
            "                                                                                                  \n",
            " conv4_block23_3_bn (BatchNorma  (None, 3, 3, 1024)  4096        ['conv4_block23_3_conv[0][0]']   \n",
            " lization)                                                                                        \n",
            "                                                                                                  \n",
            " conv4_block23_add (Add)        (None, 3, 3, 1024)   0           ['conv4_block22_out[0][0]',      \n",
            "                                                                  'conv4_block23_3_bn[0][0]']     \n",
            "                                                                                                  \n",
            " conv4_block23_out (Activation)  (None, 3, 3, 1024)  0           ['conv4_block23_add[0][0]']      \n",
            "                                                                                                  \n",
            " conv5_block1_1_conv (Conv2D)   (None, 2, 2, 512)    524800      ['conv4_block23_out[0][0]']      \n",
            "                                                                                                  \n",
            " conv5_block1_1_bn (BatchNormal  (None, 2, 2, 512)   2048        ['conv5_block1_1_conv[0][0]']    \n",
            " ization)                                                                                         \n",
            "                                                                                                  \n",
            " conv5_block1_1_relu (Activatio  (None, 2, 2, 512)   0           ['conv5_block1_1_bn[0][0]']      \n",
            " n)                                                                                               \n",
            "                                                                                                  \n",
            " conv5_block1_2_conv (Conv2D)   (None, 2, 2, 512)    2359808     ['conv5_block1_1_relu[0][0]']    \n",
            "                                                                                                  \n",
            " conv5_block1_2_bn (BatchNormal  (None, 2, 2, 512)   2048        ['conv5_block1_2_conv[0][0]']    \n",
            " ization)                                                                                         \n",
            "                                                                                                  \n",
            " conv5_block1_2_relu (Activatio  (None, 2, 2, 512)   0           ['conv5_block1_2_bn[0][0]']      \n",
            " n)                                                                                               \n",
            "                                                                                                  \n",
            " conv5_block1_0_conv (Conv2D)   (None, 2, 2, 2048)   2099200     ['conv4_block23_out[0][0]']      \n",
            "                                                                                                  \n",
            " conv5_block1_3_conv (Conv2D)   (None, 2, 2, 2048)   1050624     ['conv5_block1_2_relu[0][0]']    \n",
            "                                                                                                  \n",
            " conv5_block1_0_bn (BatchNormal  (None, 2, 2, 2048)  8192        ['conv5_block1_0_conv[0][0]']    \n",
            " ization)                                                                                         \n",
            "                                                                                                  \n",
            " conv5_block1_3_bn (BatchNormal  (None, 2, 2, 2048)  8192        ['conv5_block1_3_conv[0][0]']    \n",
            " ization)                                                                                         \n",
            "                                                                                                  \n",
            " conv5_block1_add (Add)         (None, 2, 2, 2048)   0           ['conv5_block1_0_bn[0][0]',      \n",
            "                                                                  'conv5_block1_3_bn[0][0]']      \n",
            "                                                                                                  \n",
            " conv5_block1_out (Activation)  (None, 2, 2, 2048)   0           ['conv5_block1_add[0][0]']       \n",
            "                                                                                                  \n",
            " conv5_block2_1_conv (Conv2D)   (None, 2, 2, 512)    1049088     ['conv5_block1_out[0][0]']       \n",
            "                                                                                                  \n",
            " conv5_block2_1_bn (BatchNormal  (None, 2, 2, 512)   2048        ['conv5_block2_1_conv[0][0]']    \n",
            " ization)                                                                                         \n",
            "                                                                                                  \n",
            " conv5_block2_1_relu (Activatio  (None, 2, 2, 512)   0           ['conv5_block2_1_bn[0][0]']      \n",
            " n)                                                                                               \n",
            "                                                                                                  \n",
            " conv5_block2_2_conv (Conv2D)   (None, 2, 2, 512)    2359808     ['conv5_block2_1_relu[0][0]']    \n",
            "                                                                                                  \n",
            " conv5_block2_2_bn (BatchNormal  (None, 2, 2, 512)   2048        ['conv5_block2_2_conv[0][0]']    \n",
            " ization)                                                                                         \n",
            "                                                                                                  \n",
            " conv5_block2_2_relu (Activatio  (None, 2, 2, 512)   0           ['conv5_block2_2_bn[0][0]']      \n",
            " n)                                                                                               \n",
            "                                                                                                  \n",
            " conv5_block2_3_conv (Conv2D)   (None, 2, 2, 2048)   1050624     ['conv5_block2_2_relu[0][0]']    \n",
            "                                                                                                  \n",
            " conv5_block2_3_bn (BatchNormal  (None, 2, 2, 2048)  8192        ['conv5_block2_3_conv[0][0]']    \n",
            " ization)                                                                                         \n",
            "                                                                                                  \n",
            " conv5_block2_add (Add)         (None, 2, 2, 2048)   0           ['conv5_block1_out[0][0]',       \n",
            "                                                                  'conv5_block2_3_bn[0][0]']      \n",
            "                                                                                                  \n",
            " conv5_block2_out (Activation)  (None, 2, 2, 2048)   0           ['conv5_block2_add[0][0]']       \n",
            "                                                                                                  \n",
            " conv5_block3_1_conv (Conv2D)   (None, 2, 2, 512)    1049088     ['conv5_block2_out[0][0]']       \n",
            "                                                                                                  \n",
            " conv5_block3_1_bn (BatchNormal  (None, 2, 2, 512)   2048        ['conv5_block3_1_conv[0][0]']    \n",
            " ization)                                                                                         \n",
            "                                                                                                  \n",
            " conv5_block3_1_relu (Activatio  (None, 2, 2, 512)   0           ['conv5_block3_1_bn[0][0]']      \n",
            " n)                                                                                               \n",
            "                                                                                                  \n",
            " conv5_block3_2_conv (Conv2D)   (None, 2, 2, 512)    2359808     ['conv5_block3_1_relu[0][0]']    \n",
            "                                                                                                  \n",
            " conv5_block3_2_bn (BatchNormal  (None, 2, 2, 512)   2048        ['conv5_block3_2_conv[0][0]']    \n",
            " ization)                                                                                         \n",
            "                                                                                                  \n",
            " conv5_block3_2_relu (Activatio  (None, 2, 2, 512)   0           ['conv5_block3_2_bn[0][0]']      \n",
            " n)                                                                                               \n",
            "                                                                                                  \n",
            " conv5_block3_3_conv (Conv2D)   (None, 2, 2, 2048)   1050624     ['conv5_block3_2_relu[0][0]']    \n",
            "                                                                                                  \n",
            " conv5_block3_3_bn (BatchNormal  (None, 2, 2, 2048)  8192        ['conv5_block3_3_conv[0][0]']    \n",
            " ization)                                                                                         \n",
            "                                                                                                  \n",
            " conv5_block3_add (Add)         (None, 2, 2, 2048)   0           ['conv5_block2_out[0][0]',       \n",
            "                                                                  'conv5_block3_3_bn[0][0]']      \n",
            "                                                                                                  \n",
            " conv5_block3_out (Activation)  (None, 2, 2, 2048)   0           ['conv5_block3_add[0][0]']       \n",
            "                                                                                                  \n",
            "==================================================================================================\n",
            "Total params: 42,658,176\n",
            "Trainable params: 42,552,832\n",
            "Non-trainable params: 105,344\n",
            "__________________________________________________________________________________________________\n"
          ]
        }
      ],
      "source": [
        "import tensorflow as tf\n",
        "import tensorflow.keras.applications as ap\n",
        "from tensorflow.keras import Model\n",
        "\n",
        "Resnet = ap.ResNet101(include_top = False, weights = \"imagenet\", input_shape=(48,48,3))\n",
        "Resnet.summary()"
      ]
    },
    {
      "cell_type": "markdown",
      "metadata": {
        "id": "ay4RedCQlL4O"
      },
      "source": [
        "### **Model Building**\n",
        "\n",
        "* In this model, we will import till the **'conv5_block3_add'** layer of the ResNet model. You can scroll down in the model summary and look for 'conv5_block3_add'. You can choose any other layer as well.\n",
        "* Then we will add a Flatten layer, which receives the output of the 'conv5_block3_add' layer as its input.\n",
        "* We will add a few Dense layers and use 'relu' activation function on them.\n",
        "* You may use Dropout and BatchNormalization layers as well.\n",
        "* Then we will add our last dense layer, which must have 4 neurons and a 'softmax' activation function."
      ]
    },
    {
      "cell_type": "code",
      "execution_count": 17,
      "metadata": {
        "id": "911d3335"
      },
      "outputs": [],
      "source": [
        "transfer_layer_Resnet = Resnet.get_layer('conv5_block3_add')\n",
        "Resnet.trainable=False\n",
        "\n",
        "# Add classification layers on top of it\n",
        "\n",
        "# Flattenning the output from the 3rd block of the VGG16 model\n",
        "x = Flatten()(transfer_layer_Resnet.output)\n",
        "\n",
        "# Add a Dense layer with 256 neurons\n",
        "x = Dense(256, activation = 'relu')(x)\n",
        "\n",
        "# Add a Dense Layer with 128 neurons\n",
        "x = Dense(128, activation = 'relu')(x)\n",
        "\n",
        "# Add a DropOut layer with Drop out ratio of 0.3\n",
        "x = Dropout(0.3)(x)\n",
        "\n",
        "# Add a Dense Layer with 64 neurons\n",
        "x = Dense(64, activation = 'relu')(x)\n",
        "\n",
        "# Add a Batch Normalization layer\n",
        "x = BatchNormalization()(x)\n",
        "\n",
        "# Add the final dense layer with 4 neurons and use a 'softmax' activation\n",
        "pred = Dense(4, activation = 'softmax')(x)\n",
        "\n",
        "resnetmodel = Model(Resnet.input, pred) # Initializing the model"
      ]
    },
    {
      "cell_type": "markdown",
      "metadata": {
        "id": "Tmtcd1ZElpJy"
      },
      "source": [
        "### **Compiling and Training the Model**"
      ]
    },
    {
      "cell_type": "code",
      "execution_count": 18,
      "metadata": {
        "id": "fe959789"
      },
      "outputs": [],
      "source": [
        "from keras.callbacks import ModelCheckpoint, EarlyStopping, ReduceLROnPlateau\n",
        "\n",
        "checkpoint = ModelCheckpoint(\"./Resnetmodel.h5\", monitor = 'val_acc', verbose = 1, save_best_only = True, mode = 'max')\n",
        "\n",
        "early_stopping = EarlyStopping(monitor = 'val_loss',\n",
        "                          min_delta = 0,\n",
        "                          patience = 3,\n",
        "                          verbose = 1,\n",
        "                          restore_best_weights = True)  # Write your code here. You may play around with the hyperparameters if you wish.\n",
        "\n",
        "\n",
        "reduce_learningrate = ReduceLROnPlateau(monitor = 'val_loss',\n",
        "                              factor = 0.2,\n",
        "                              patience = 3,\n",
        "                              verbose = 1,\n",
        "                              min_delta = 0.0001) # Write your code here. You may play around with the hyperparameters if you wish.\n",
        "\n",
        "callbacks_list = [early_stopping, checkpoint, reduce_learningrate]\n",
        "\n",
        "epochs = 10"
      ]
    },
    {
      "cell_type": "code",
      "execution_count": 19,
      "metadata": {
        "id": "641VUEtvGaLW"
      },
      "outputs": [],
      "source": [
        "# Write your code to compile your resnetmodel. Use categorical crossentropy as your loss function, Adam Optimizer with 0.001 learning rate, and set your metrics to 'accuracy'.\n",
        "resnetmodel.compile(optimizer=Adam(learning_rate=0.001), loss='categorical_crossentropy', metrics=['accuracy'])"
      ]
    },
    {
      "cell_type": "code",
      "execution_count": 20,
      "metadata": {
        "id": "mBZRmTFLIRtS",
        "colab": {
          "base_uri": "https://localhost:8080/"
        },
        "outputId": "bff007ea-e279-4ee2-c2f0-db4873d753d1"
      },
      "outputs": [
        {
          "output_type": "stream",
          "name": "stdout",
          "text": [
            "Epoch 1/10\n",
            "473/473 [==============================] - 428s 886ms/step - loss: 1.4736 - accuracy: 0.2555 - val_loss: 1.4846 - val_accuracy: 0.1601\n",
            "Epoch 2/10\n",
            "473/473 [==============================] - 453s 958ms/step - loss: 1.4066 - accuracy: 0.2620 - val_loss: 1.3616 - val_accuracy: 0.3667\n",
            "Epoch 3/10\n",
            "473/473 [==============================] - 421s 890ms/step - loss: 1.3998 - accuracy: 0.2579 - val_loss: 1.4121 - val_accuracy: 0.2443\n",
            "Epoch 4/10\n",
            "473/473 [==============================] - 471s 996ms/step - loss: 1.3972 - accuracy: 0.2606 - val_loss: 1.3697 - val_accuracy: 0.3667\n",
            "Epoch 5/10\n",
            "473/473 [==============================] - 411s 868ms/step - loss: 1.3918 - accuracy: 0.2632 - val_loss: 1.3587 - val_accuracy: 0.3667\n",
            "Epoch 6/10\n",
            "473/473 [==============================] - 408s 863ms/step - loss: 1.3904 - accuracy: 0.2610 - val_loss: 1.3735 - val_accuracy: 0.2443\n",
            "Epoch 7/10\n",
            "473/473 [==============================] - 456s 965ms/step - loss: 1.3903 - accuracy: 0.2606 - val_loss: 1.3691 - val_accuracy: 0.3667\n",
            "Epoch 8/10\n",
            "473/473 [==============================] - 455s 963ms/step - loss: 1.3905 - accuracy: 0.2556 - val_loss: 1.3756 - val_accuracy: 0.2443\n",
            "Epoch 9/10\n",
            "473/473 [==============================] - 456s 965ms/step - loss: 1.3886 - accuracy: 0.2593 - val_loss: 1.3728 - val_accuracy: 0.2443\n",
            "Epoch 10/10\n",
            "473/473 [==============================] - 464s 981ms/step - loss: 1.3896 - accuracy: 0.2640 - val_loss: 1.3674 - val_accuracy: 0.3667\n"
          ]
        }
      ],
      "source": [
        "history = resnetmodel.fit(train_set, validation_data=validation_set, epochs=epochs)"
      ]
    },
    {
      "cell_type": "markdown",
      "metadata": {
        "id": "McHEzBlhxw39"
      },
      "source": [
        "### **Evaluating the ResNet Model**"
      ]
    },
    {
      "cell_type": "code",
      "source": [
        "from google.colab import drive\n",
        "drive.mount('/content/drive')"
      ],
      "metadata": {
        "id": "7Rtg4pLLJbqD"
      },
      "execution_count": null,
      "outputs": []
    },
    {
      "cell_type": "code",
      "execution_count": 21,
      "metadata": {
        "id": "IEl6IQf0xwci",
        "colab": {
          "base_uri": "https://localhost:8080/"
        },
        "outputId": "5809b73c-86d6-4957-b2ac-649b67f0ae8f"
      },
      "outputs": [
        {
          "output_type": "stream",
          "name": "stdout",
          "text": [
            "4/4 [==============================] - 4s 969ms/step - loss: 1.4053 - accuracy: 0.2500\n",
            "Test Loss: 1.4053454399108887\n",
            "\n",
            "Test accuracy: 0.25\n"
          ]
        }
      ],
      "source": [
        "# Write your code to evaluate model performance on the test set\n",
        "test_loss, test_accuracy = resnetmodel.evaluate(test_set)\n",
        "\n",
        "print('Test Loss:', test_loss)\n",
        "print('\\nTest accuracy:', test_accuracy)"
      ]
    },
    {
      "cell_type": "markdown",
      "metadata": {
        "id": "3htKZRdomiOY"
      },
      "source": [
        "**Observations and Insights:__**\n",
        "\n",
        "**Note: You can even go back and build your own architecture on top of the ResNet Transfer layer and see if you can improve the performance.**"
      ]
    },
    {
      "cell_type": "markdown",
      "metadata": {
        "id": "FmnDG4ZbncoR"
      },
      "source": [
        "## **EfficientNet Model**"
      ]
    },
    {
      "cell_type": "code",
      "execution_count": 2,
      "metadata": {
        "id": "613c7a71",
        "colab": {
          "base_uri": "https://localhost:8080/"
        },
        "outputId": "47e8a929-25a4-49e0-9f2d-d0af21190456"
      },
      "outputs": [
        {
          "output_type": "stream",
          "name": "stdout",
          "text": [
            "Downloading data from https://storage.googleapis.com/tensorflow/keras-applications/efficientnet_v2/efficientnetv2-b2_notop.h5\n",
            "35839040/35839040 [==============================] - 2s 0us/step\n",
            "Model: \"efficientnetv2-b2\"\n",
            "__________________________________________________________________________________________________\n",
            " Layer (type)                   Output Shape         Param #     Connected to                     \n",
            "==================================================================================================\n",
            " input_1 (InputLayer)           [(None, 48, 48, 3)]  0           []                               \n",
            "                                                                                                  \n",
            " rescaling (Rescaling)          (None, 48, 48, 3)    0           ['input_1[0][0]']                \n",
            "                                                                                                  \n",
            " normalization (Normalization)  (None, 48, 48, 3)    0           ['rescaling[0][0]']              \n",
            "                                                                                                  \n",
            " stem_conv (Conv2D)             (None, 24, 24, 32)   864         ['normalization[0][0]']          \n",
            "                                                                                                  \n",
            " stem_bn (BatchNormalization)   (None, 24, 24, 32)   128         ['stem_conv[0][0]']              \n",
            "                                                                                                  \n",
            " stem_activation (Activation)   (None, 24, 24, 32)   0           ['stem_bn[0][0]']                \n",
            "                                                                                                  \n",
            " block1a_project_conv (Conv2D)  (None, 24, 24, 16)   4608        ['stem_activation[0][0]']        \n",
            "                                                                                                  \n",
            " block1a_project_bn (BatchNorma  (None, 24, 24, 16)  64          ['block1a_project_conv[0][0]']   \n",
            " lization)                                                                                        \n",
            "                                                                                                  \n",
            " block1a_project_activation (Ac  (None, 24, 24, 16)  0           ['block1a_project_bn[0][0]']     \n",
            " tivation)                                                                                        \n",
            "                                                                                                  \n",
            " block1b_project_conv (Conv2D)  (None, 24, 24, 16)   2304        ['block1a_project_activation[0][0\n",
            "                                                                 ]']                              \n",
            "                                                                                                  \n",
            " block1b_project_bn (BatchNorma  (None, 24, 24, 16)  64          ['block1b_project_conv[0][0]']   \n",
            " lization)                                                                                        \n",
            "                                                                                                  \n",
            " block1b_project_activation (Ac  (None, 24, 24, 16)  0           ['block1b_project_bn[0][0]']     \n",
            " tivation)                                                                                        \n",
            "                                                                                                  \n",
            " block1b_drop (Dropout)         (None, 24, 24, 16)   0           ['block1b_project_activation[0][0\n",
            "                                                                 ]']                              \n",
            "                                                                                                  \n",
            " block1b_add (Add)              (None, 24, 24, 16)   0           ['block1b_drop[0][0]',           \n",
            "                                                                  'block1a_project_activation[0][0\n",
            "                                                                 ]']                              \n",
            "                                                                                                  \n",
            " block2a_expand_conv (Conv2D)   (None, 12, 12, 64)   9216        ['block1b_add[0][0]']            \n",
            "                                                                                                  \n",
            " block2a_expand_bn (BatchNormal  (None, 12, 12, 64)  256         ['block2a_expand_conv[0][0]']    \n",
            " ization)                                                                                         \n",
            "                                                                                                  \n",
            " block2a_expand_activation (Act  (None, 12, 12, 64)  0           ['block2a_expand_bn[0][0]']      \n",
            " ivation)                                                                                         \n",
            "                                                                                                  \n",
            " block2a_project_conv (Conv2D)  (None, 12, 12, 32)   2048        ['block2a_expand_activation[0][0]\n",
            "                                                                 ']                               \n",
            "                                                                                                  \n",
            " block2a_project_bn (BatchNorma  (None, 12, 12, 32)  128         ['block2a_project_conv[0][0]']   \n",
            " lization)                                                                                        \n",
            "                                                                                                  \n",
            " block2b_expand_conv (Conv2D)   (None, 12, 12, 128)  36864       ['block2a_project_bn[0][0]']     \n",
            "                                                                                                  \n",
            " block2b_expand_bn (BatchNormal  (None, 12, 12, 128)  512        ['block2b_expand_conv[0][0]']    \n",
            " ization)                                                                                         \n",
            "                                                                                                  \n",
            " block2b_expand_activation (Act  (None, 12, 12, 128)  0          ['block2b_expand_bn[0][0]']      \n",
            " ivation)                                                                                         \n",
            "                                                                                                  \n",
            " block2b_project_conv (Conv2D)  (None, 12, 12, 32)   4096        ['block2b_expand_activation[0][0]\n",
            "                                                                 ']                               \n",
            "                                                                                                  \n",
            " block2b_project_bn (BatchNorma  (None, 12, 12, 32)  128         ['block2b_project_conv[0][0]']   \n",
            " lization)                                                                                        \n",
            "                                                                                                  \n",
            " block2b_drop (Dropout)         (None, 12, 12, 32)   0           ['block2b_project_bn[0][0]']     \n",
            "                                                                                                  \n",
            " block2b_add (Add)              (None, 12, 12, 32)   0           ['block2b_drop[0][0]',           \n",
            "                                                                  'block2a_project_bn[0][0]']     \n",
            "                                                                                                  \n",
            " block2c_expand_conv (Conv2D)   (None, 12, 12, 128)  36864       ['block2b_add[0][0]']            \n",
            "                                                                                                  \n",
            " block2c_expand_bn (BatchNormal  (None, 12, 12, 128)  512        ['block2c_expand_conv[0][0]']    \n",
            " ization)                                                                                         \n",
            "                                                                                                  \n",
            " block2c_expand_activation (Act  (None, 12, 12, 128)  0          ['block2c_expand_bn[0][0]']      \n",
            " ivation)                                                                                         \n",
            "                                                                                                  \n",
            " block2c_project_conv (Conv2D)  (None, 12, 12, 32)   4096        ['block2c_expand_activation[0][0]\n",
            "                                                                 ']                               \n",
            "                                                                                                  \n",
            " block2c_project_bn (BatchNorma  (None, 12, 12, 32)  128         ['block2c_project_conv[0][0]']   \n",
            " lization)                                                                                        \n",
            "                                                                                                  \n",
            " block2c_drop (Dropout)         (None, 12, 12, 32)   0           ['block2c_project_bn[0][0]']     \n",
            "                                                                                                  \n",
            " block2c_add (Add)              (None, 12, 12, 32)   0           ['block2c_drop[0][0]',           \n",
            "                                                                  'block2b_add[0][0]']            \n",
            "                                                                                                  \n",
            " block3a_expand_conv (Conv2D)   (None, 6, 6, 128)    36864       ['block2c_add[0][0]']            \n",
            "                                                                                                  \n",
            " block3a_expand_bn (BatchNormal  (None, 6, 6, 128)   512         ['block3a_expand_conv[0][0]']    \n",
            " ization)                                                                                         \n",
            "                                                                                                  \n",
            " block3a_expand_activation (Act  (None, 6, 6, 128)   0           ['block3a_expand_bn[0][0]']      \n",
            " ivation)                                                                                         \n",
            "                                                                                                  \n",
            " block3a_project_conv (Conv2D)  (None, 6, 6, 56)     7168        ['block3a_expand_activation[0][0]\n",
            "                                                                 ']                               \n",
            "                                                                                                  \n",
            " block3a_project_bn (BatchNorma  (None, 6, 6, 56)    224         ['block3a_project_conv[0][0]']   \n",
            " lization)                                                                                        \n",
            "                                                                                                  \n",
            " block3b_expand_conv (Conv2D)   (None, 6, 6, 224)    112896      ['block3a_project_bn[0][0]']     \n",
            "                                                                                                  \n",
            " block3b_expand_bn (BatchNormal  (None, 6, 6, 224)   896         ['block3b_expand_conv[0][0]']    \n",
            " ization)                                                                                         \n",
            "                                                                                                  \n",
            " block3b_expand_activation (Act  (None, 6, 6, 224)   0           ['block3b_expand_bn[0][0]']      \n",
            " ivation)                                                                                         \n",
            "                                                                                                  \n",
            " block3b_project_conv (Conv2D)  (None, 6, 6, 56)     12544       ['block3b_expand_activation[0][0]\n",
            "                                                                 ']                               \n",
            "                                                                                                  \n",
            " block3b_project_bn (BatchNorma  (None, 6, 6, 56)    224         ['block3b_project_conv[0][0]']   \n",
            " lization)                                                                                        \n",
            "                                                                                                  \n",
            " block3b_drop (Dropout)         (None, 6, 6, 56)     0           ['block3b_project_bn[0][0]']     \n",
            "                                                                                                  \n",
            " block3b_add (Add)              (None, 6, 6, 56)     0           ['block3b_drop[0][0]',           \n",
            "                                                                  'block3a_project_bn[0][0]']     \n",
            "                                                                                                  \n",
            " block3c_expand_conv (Conv2D)   (None, 6, 6, 224)    112896      ['block3b_add[0][0]']            \n",
            "                                                                                                  \n",
            " block3c_expand_bn (BatchNormal  (None, 6, 6, 224)   896         ['block3c_expand_conv[0][0]']    \n",
            " ization)                                                                                         \n",
            "                                                                                                  \n",
            " block3c_expand_activation (Act  (None, 6, 6, 224)   0           ['block3c_expand_bn[0][0]']      \n",
            " ivation)                                                                                         \n",
            "                                                                                                  \n",
            " block3c_project_conv (Conv2D)  (None, 6, 6, 56)     12544       ['block3c_expand_activation[0][0]\n",
            "                                                                 ']                               \n",
            "                                                                                                  \n",
            " block3c_project_bn (BatchNorma  (None, 6, 6, 56)    224         ['block3c_project_conv[0][0]']   \n",
            " lization)                                                                                        \n",
            "                                                                                                  \n",
            " block3c_drop (Dropout)         (None, 6, 6, 56)     0           ['block3c_project_bn[0][0]']     \n",
            "                                                                                                  \n",
            " block3c_add (Add)              (None, 6, 6, 56)     0           ['block3c_drop[0][0]',           \n",
            "                                                                  'block3b_add[0][0]']            \n",
            "                                                                                                  \n",
            " block4a_expand_conv (Conv2D)   (None, 6, 6, 224)    12544       ['block3c_add[0][0]']            \n",
            "                                                                                                  \n",
            " block4a_expand_bn (BatchNormal  (None, 6, 6, 224)   896         ['block4a_expand_conv[0][0]']    \n",
            " ization)                                                                                         \n",
            "                                                                                                  \n",
            " block4a_expand_activation (Act  (None, 6, 6, 224)   0           ['block4a_expand_bn[0][0]']      \n",
            " ivation)                                                                                         \n",
            "                                                                                                  \n",
            " block4a_dwconv2 (DepthwiseConv  (None, 3, 3, 224)   2016        ['block4a_expand_activation[0][0]\n",
            " 2D)                                                             ']                               \n",
            "                                                                                                  \n",
            " block4a_bn (BatchNormalization  (None, 3, 3, 224)   896         ['block4a_dwconv2[0][0]']        \n",
            " )                                                                                                \n",
            "                                                                                                  \n",
            " block4a_activation (Activation  (None, 3, 3, 224)   0           ['block4a_bn[0][0]']             \n",
            " )                                                                                                \n",
            "                                                                                                  \n",
            " block4a_se_squeeze (GlobalAver  (None, 224)         0           ['block4a_activation[0][0]']     \n",
            " agePooling2D)                                                                                    \n",
            "                                                                                                  \n",
            " block4a_se_reshape (Reshape)   (None, 1, 1, 224)    0           ['block4a_se_squeeze[0][0]']     \n",
            "                                                                                                  \n",
            " block4a_se_reduce (Conv2D)     (None, 1, 1, 14)     3150        ['block4a_se_reshape[0][0]']     \n",
            "                                                                                                  \n",
            " block4a_se_expand (Conv2D)     (None, 1, 1, 224)    3360        ['block4a_se_reduce[0][0]']      \n",
            "                                                                                                  \n",
            " block4a_se_excite (Multiply)   (None, 3, 3, 224)    0           ['block4a_activation[0][0]',     \n",
            "                                                                  'block4a_se_expand[0][0]']      \n",
            "                                                                                                  \n",
            " block4a_project_conv (Conv2D)  (None, 3, 3, 104)    23296       ['block4a_se_excite[0][0]']      \n",
            "                                                                                                  \n",
            " block4a_project_bn (BatchNorma  (None, 3, 3, 104)   416         ['block4a_project_conv[0][0]']   \n",
            " lization)                                                                                        \n",
            "                                                                                                  \n",
            " block4b_expand_conv (Conv2D)   (None, 3, 3, 416)    43264       ['block4a_project_bn[0][0]']     \n",
            "                                                                                                  \n",
            " block4b_expand_bn (BatchNormal  (None, 3, 3, 416)   1664        ['block4b_expand_conv[0][0]']    \n",
            " ization)                                                                                         \n",
            "                                                                                                  \n",
            " block4b_expand_activation (Act  (None, 3, 3, 416)   0           ['block4b_expand_bn[0][0]']      \n",
            " ivation)                                                                                         \n",
            "                                                                                                  \n",
            " block4b_dwconv2 (DepthwiseConv  (None, 3, 3, 416)   3744        ['block4b_expand_activation[0][0]\n",
            " 2D)                                                             ']                               \n",
            "                                                                                                  \n",
            " block4b_bn (BatchNormalization  (None, 3, 3, 416)   1664        ['block4b_dwconv2[0][0]']        \n",
            " )                                                                                                \n",
            "                                                                                                  \n",
            " block4b_activation (Activation  (None, 3, 3, 416)   0           ['block4b_bn[0][0]']             \n",
            " )                                                                                                \n",
            "                                                                                                  \n",
            " block4b_se_squeeze (GlobalAver  (None, 416)         0           ['block4b_activation[0][0]']     \n",
            " agePooling2D)                                                                                    \n",
            "                                                                                                  \n",
            " block4b_se_reshape (Reshape)   (None, 1, 1, 416)    0           ['block4b_se_squeeze[0][0]']     \n",
            "                                                                                                  \n",
            " block4b_se_reduce (Conv2D)     (None, 1, 1, 26)     10842       ['block4b_se_reshape[0][0]']     \n",
            "                                                                                                  \n",
            " block4b_se_expand (Conv2D)     (None, 1, 1, 416)    11232       ['block4b_se_reduce[0][0]']      \n",
            "                                                                                                  \n",
            " block4b_se_excite (Multiply)   (None, 3, 3, 416)    0           ['block4b_activation[0][0]',     \n",
            "                                                                  'block4b_se_expand[0][0]']      \n",
            "                                                                                                  \n",
            " block4b_project_conv (Conv2D)  (None, 3, 3, 104)    43264       ['block4b_se_excite[0][0]']      \n",
            "                                                                                                  \n",
            " block4b_project_bn (BatchNorma  (None, 3, 3, 104)   416         ['block4b_project_conv[0][0]']   \n",
            " lization)                                                                                        \n",
            "                                                                                                  \n",
            " block4b_drop (Dropout)         (None, 3, 3, 104)    0           ['block4b_project_bn[0][0]']     \n",
            "                                                                                                  \n",
            " block4b_add (Add)              (None, 3, 3, 104)    0           ['block4b_drop[0][0]',           \n",
            "                                                                  'block4a_project_bn[0][0]']     \n",
            "                                                                                                  \n",
            " block4c_expand_conv (Conv2D)   (None, 3, 3, 416)    43264       ['block4b_add[0][0]']            \n",
            "                                                                                                  \n",
            " block4c_expand_bn (BatchNormal  (None, 3, 3, 416)   1664        ['block4c_expand_conv[0][0]']    \n",
            " ization)                                                                                         \n",
            "                                                                                                  \n",
            " block4c_expand_activation (Act  (None, 3, 3, 416)   0           ['block4c_expand_bn[0][0]']      \n",
            " ivation)                                                                                         \n",
            "                                                                                                  \n",
            " block4c_dwconv2 (DepthwiseConv  (None, 3, 3, 416)   3744        ['block4c_expand_activation[0][0]\n",
            " 2D)                                                             ']                               \n",
            "                                                                                                  \n",
            " block4c_bn (BatchNormalization  (None, 3, 3, 416)   1664        ['block4c_dwconv2[0][0]']        \n",
            " )                                                                                                \n",
            "                                                                                                  \n",
            " block4c_activation (Activation  (None, 3, 3, 416)   0           ['block4c_bn[0][0]']             \n",
            " )                                                                                                \n",
            "                                                                                                  \n",
            " block4c_se_squeeze (GlobalAver  (None, 416)         0           ['block4c_activation[0][0]']     \n",
            " agePooling2D)                                                                                    \n",
            "                                                                                                  \n",
            " block4c_se_reshape (Reshape)   (None, 1, 1, 416)    0           ['block4c_se_squeeze[0][0]']     \n",
            "                                                                                                  \n",
            " block4c_se_reduce (Conv2D)     (None, 1, 1, 26)     10842       ['block4c_se_reshape[0][0]']     \n",
            "                                                                                                  \n",
            " block4c_se_expand (Conv2D)     (None, 1, 1, 416)    11232       ['block4c_se_reduce[0][0]']      \n",
            "                                                                                                  \n",
            " block4c_se_excite (Multiply)   (None, 3, 3, 416)    0           ['block4c_activation[0][0]',     \n",
            "                                                                  'block4c_se_expand[0][0]']      \n",
            "                                                                                                  \n",
            " block4c_project_conv (Conv2D)  (None, 3, 3, 104)    43264       ['block4c_se_excite[0][0]']      \n",
            "                                                                                                  \n",
            " block4c_project_bn (BatchNorma  (None, 3, 3, 104)   416         ['block4c_project_conv[0][0]']   \n",
            " lization)                                                                                        \n",
            "                                                                                                  \n",
            " block4c_drop (Dropout)         (None, 3, 3, 104)    0           ['block4c_project_bn[0][0]']     \n",
            "                                                                                                  \n",
            " block4c_add (Add)              (None, 3, 3, 104)    0           ['block4c_drop[0][0]',           \n",
            "                                                                  'block4b_add[0][0]']            \n",
            "                                                                                                  \n",
            " block4d_expand_conv (Conv2D)   (None, 3, 3, 416)    43264       ['block4c_add[0][0]']            \n",
            "                                                                                                  \n",
            " block4d_expand_bn (BatchNormal  (None, 3, 3, 416)   1664        ['block4d_expand_conv[0][0]']    \n",
            " ization)                                                                                         \n",
            "                                                                                                  \n",
            " block4d_expand_activation (Act  (None, 3, 3, 416)   0           ['block4d_expand_bn[0][0]']      \n",
            " ivation)                                                                                         \n",
            "                                                                                                  \n",
            " block4d_dwconv2 (DepthwiseConv  (None, 3, 3, 416)   3744        ['block4d_expand_activation[0][0]\n",
            " 2D)                                                             ']                               \n",
            "                                                                                                  \n",
            " block4d_bn (BatchNormalization  (None, 3, 3, 416)   1664        ['block4d_dwconv2[0][0]']        \n",
            " )                                                                                                \n",
            "                                                                                                  \n",
            " block4d_activation (Activation  (None, 3, 3, 416)   0           ['block4d_bn[0][0]']             \n",
            " )                                                                                                \n",
            "                                                                                                  \n",
            " block4d_se_squeeze (GlobalAver  (None, 416)         0           ['block4d_activation[0][0]']     \n",
            " agePooling2D)                                                                                    \n",
            "                                                                                                  \n",
            " block4d_se_reshape (Reshape)   (None, 1, 1, 416)    0           ['block4d_se_squeeze[0][0]']     \n",
            "                                                                                                  \n",
            " block4d_se_reduce (Conv2D)     (None, 1, 1, 26)     10842       ['block4d_se_reshape[0][0]']     \n",
            "                                                                                                  \n",
            " block4d_se_expand (Conv2D)     (None, 1, 1, 416)    11232       ['block4d_se_reduce[0][0]']      \n",
            "                                                                                                  \n",
            " block4d_se_excite (Multiply)   (None, 3, 3, 416)    0           ['block4d_activation[0][0]',     \n",
            "                                                                  'block4d_se_expand[0][0]']      \n",
            "                                                                                                  \n",
            " block4d_project_conv (Conv2D)  (None, 3, 3, 104)    43264       ['block4d_se_excite[0][0]']      \n",
            "                                                                                                  \n",
            " block4d_project_bn (BatchNorma  (None, 3, 3, 104)   416         ['block4d_project_conv[0][0]']   \n",
            " lization)                                                                                        \n",
            "                                                                                                  \n",
            " block4d_drop (Dropout)         (None, 3, 3, 104)    0           ['block4d_project_bn[0][0]']     \n",
            "                                                                                                  \n",
            " block4d_add (Add)              (None, 3, 3, 104)    0           ['block4d_drop[0][0]',           \n",
            "                                                                  'block4c_add[0][0]']            \n",
            "                                                                                                  \n",
            " block5a_expand_conv (Conv2D)   (None, 3, 3, 624)    64896       ['block4d_add[0][0]']            \n",
            "                                                                                                  \n",
            " block5a_expand_bn (BatchNormal  (None, 3, 3, 624)   2496        ['block5a_expand_conv[0][0]']    \n",
            " ization)                                                                                         \n",
            "                                                                                                  \n",
            " block5a_expand_activation (Act  (None, 3, 3, 624)   0           ['block5a_expand_bn[0][0]']      \n",
            " ivation)                                                                                         \n",
            "                                                                                                  \n",
            " block5a_dwconv2 (DepthwiseConv  (None, 3, 3, 624)   5616        ['block5a_expand_activation[0][0]\n",
            " 2D)                                                             ']                               \n",
            "                                                                                                  \n",
            " block5a_bn (BatchNormalization  (None, 3, 3, 624)   2496        ['block5a_dwconv2[0][0]']        \n",
            " )                                                                                                \n",
            "                                                                                                  \n",
            " block5a_activation (Activation  (None, 3, 3, 624)   0           ['block5a_bn[0][0]']             \n",
            " )                                                                                                \n",
            "                                                                                                  \n",
            " block5a_se_squeeze (GlobalAver  (None, 624)         0           ['block5a_activation[0][0]']     \n",
            " agePooling2D)                                                                                    \n",
            "                                                                                                  \n",
            " block5a_se_reshape (Reshape)   (None, 1, 1, 624)    0           ['block5a_se_squeeze[0][0]']     \n",
            "                                                                                                  \n",
            " block5a_se_reduce (Conv2D)     (None, 1, 1, 26)     16250       ['block5a_se_reshape[0][0]']     \n",
            "                                                                                                  \n",
            " block5a_se_expand (Conv2D)     (None, 1, 1, 624)    16848       ['block5a_se_reduce[0][0]']      \n",
            "                                                                                                  \n",
            " block5a_se_excite (Multiply)   (None, 3, 3, 624)    0           ['block5a_activation[0][0]',     \n",
            "                                                                  'block5a_se_expand[0][0]']      \n",
            "                                                                                                  \n",
            " block5a_project_conv (Conv2D)  (None, 3, 3, 120)    74880       ['block5a_se_excite[0][0]']      \n",
            "                                                                                                  \n",
            " block5a_project_bn (BatchNorma  (None, 3, 3, 120)   480         ['block5a_project_conv[0][0]']   \n",
            " lization)                                                                                        \n",
            "                                                                                                  \n",
            " block5b_expand_conv (Conv2D)   (None, 3, 3, 720)    86400       ['block5a_project_bn[0][0]']     \n",
            "                                                                                                  \n",
            " block5b_expand_bn (BatchNormal  (None, 3, 3, 720)   2880        ['block5b_expand_conv[0][0]']    \n",
            " ization)                                                                                         \n",
            "                                                                                                  \n",
            " block5b_expand_activation (Act  (None, 3, 3, 720)   0           ['block5b_expand_bn[0][0]']      \n",
            " ivation)                                                                                         \n",
            "                                                                                                  \n",
            " block5b_dwconv2 (DepthwiseConv  (None, 3, 3, 720)   6480        ['block5b_expand_activation[0][0]\n",
            " 2D)                                                             ']                               \n",
            "                                                                                                  \n",
            " block5b_bn (BatchNormalization  (None, 3, 3, 720)   2880        ['block5b_dwconv2[0][0]']        \n",
            " )                                                                                                \n",
            "                                                                                                  \n",
            " block5b_activation (Activation  (None, 3, 3, 720)   0           ['block5b_bn[0][0]']             \n",
            " )                                                                                                \n",
            "                                                                                                  \n",
            " block5b_se_squeeze (GlobalAver  (None, 720)         0           ['block5b_activation[0][0]']     \n",
            " agePooling2D)                                                                                    \n",
            "                                                                                                  \n",
            " block5b_se_reshape (Reshape)   (None, 1, 1, 720)    0           ['block5b_se_squeeze[0][0]']     \n",
            "                                                                                                  \n",
            " block5b_se_reduce (Conv2D)     (None, 1, 1, 30)     21630       ['block5b_se_reshape[0][0]']     \n",
            "                                                                                                  \n",
            " block5b_se_expand (Conv2D)     (None, 1, 1, 720)    22320       ['block5b_se_reduce[0][0]']      \n",
            "                                                                                                  \n",
            " block5b_se_excite (Multiply)   (None, 3, 3, 720)    0           ['block5b_activation[0][0]',     \n",
            "                                                                  'block5b_se_expand[0][0]']      \n",
            "                                                                                                  \n",
            " block5b_project_conv (Conv2D)  (None, 3, 3, 120)    86400       ['block5b_se_excite[0][0]']      \n",
            "                                                                                                  \n",
            " block5b_project_bn (BatchNorma  (None, 3, 3, 120)   480         ['block5b_project_conv[0][0]']   \n",
            " lization)                                                                                        \n",
            "                                                                                                  \n",
            " block5b_drop (Dropout)         (None, 3, 3, 120)    0           ['block5b_project_bn[0][0]']     \n",
            "                                                                                                  \n",
            " block5b_add (Add)              (None, 3, 3, 120)    0           ['block5b_drop[0][0]',           \n",
            "                                                                  'block5a_project_bn[0][0]']     \n",
            "                                                                                                  \n",
            " block5c_expand_conv (Conv2D)   (None, 3, 3, 720)    86400       ['block5b_add[0][0]']            \n",
            "                                                                                                  \n",
            " block5c_expand_bn (BatchNormal  (None, 3, 3, 720)   2880        ['block5c_expand_conv[0][0]']    \n",
            " ization)                                                                                         \n",
            "                                                                                                  \n",
            " block5c_expand_activation (Act  (None, 3, 3, 720)   0           ['block5c_expand_bn[0][0]']      \n",
            " ivation)                                                                                         \n",
            "                                                                                                  \n",
            " block5c_dwconv2 (DepthwiseConv  (None, 3, 3, 720)   6480        ['block5c_expand_activation[0][0]\n",
            " 2D)                                                             ']                               \n",
            "                                                                                                  \n",
            " block5c_bn (BatchNormalization  (None, 3, 3, 720)   2880        ['block5c_dwconv2[0][0]']        \n",
            " )                                                                                                \n",
            "                                                                                                  \n",
            " block5c_activation (Activation  (None, 3, 3, 720)   0           ['block5c_bn[0][0]']             \n",
            " )                                                                                                \n",
            "                                                                                                  \n",
            " block5c_se_squeeze (GlobalAver  (None, 720)         0           ['block5c_activation[0][0]']     \n",
            " agePooling2D)                                                                                    \n",
            "                                                                                                  \n",
            " block5c_se_reshape (Reshape)   (None, 1, 1, 720)    0           ['block5c_se_squeeze[0][0]']     \n",
            "                                                                                                  \n",
            " block5c_se_reduce (Conv2D)     (None, 1, 1, 30)     21630       ['block5c_se_reshape[0][0]']     \n",
            "                                                                                                  \n",
            " block5c_se_expand (Conv2D)     (None, 1, 1, 720)    22320       ['block5c_se_reduce[0][0]']      \n",
            "                                                                                                  \n",
            " block5c_se_excite (Multiply)   (None, 3, 3, 720)    0           ['block5c_activation[0][0]',     \n",
            "                                                                  'block5c_se_expand[0][0]']      \n",
            "                                                                                                  \n",
            " block5c_project_conv (Conv2D)  (None, 3, 3, 120)    86400       ['block5c_se_excite[0][0]']      \n",
            "                                                                                                  \n",
            " block5c_project_bn (BatchNorma  (None, 3, 3, 120)   480         ['block5c_project_conv[0][0]']   \n",
            " lization)                                                                                        \n",
            "                                                                                                  \n",
            " block5c_drop (Dropout)         (None, 3, 3, 120)    0           ['block5c_project_bn[0][0]']     \n",
            "                                                                                                  \n",
            " block5c_add (Add)              (None, 3, 3, 120)    0           ['block5c_drop[0][0]',           \n",
            "                                                                  'block5b_add[0][0]']            \n",
            "                                                                                                  \n",
            " block5d_expand_conv (Conv2D)   (None, 3, 3, 720)    86400       ['block5c_add[0][0]']            \n",
            "                                                                                                  \n",
            " block5d_expand_bn (BatchNormal  (None, 3, 3, 720)   2880        ['block5d_expand_conv[0][0]']    \n",
            " ization)                                                                                         \n",
            "                                                                                                  \n",
            " block5d_expand_activation (Act  (None, 3, 3, 720)   0           ['block5d_expand_bn[0][0]']      \n",
            " ivation)                                                                                         \n",
            "                                                                                                  \n",
            " block5d_dwconv2 (DepthwiseConv  (None, 3, 3, 720)   6480        ['block5d_expand_activation[0][0]\n",
            " 2D)                                                             ']                               \n",
            "                                                                                                  \n",
            " block5d_bn (BatchNormalization  (None, 3, 3, 720)   2880        ['block5d_dwconv2[0][0]']        \n",
            " )                                                                                                \n",
            "                                                                                                  \n",
            " block5d_activation (Activation  (None, 3, 3, 720)   0           ['block5d_bn[0][0]']             \n",
            " )                                                                                                \n",
            "                                                                                                  \n",
            " block5d_se_squeeze (GlobalAver  (None, 720)         0           ['block5d_activation[0][0]']     \n",
            " agePooling2D)                                                                                    \n",
            "                                                                                                  \n",
            " block5d_se_reshape (Reshape)   (None, 1, 1, 720)    0           ['block5d_se_squeeze[0][0]']     \n",
            "                                                                                                  \n",
            " block5d_se_reduce (Conv2D)     (None, 1, 1, 30)     21630       ['block5d_se_reshape[0][0]']     \n",
            "                                                                                                  \n",
            " block5d_se_expand (Conv2D)     (None, 1, 1, 720)    22320       ['block5d_se_reduce[0][0]']      \n",
            "                                                                                                  \n",
            " block5d_se_excite (Multiply)   (None, 3, 3, 720)    0           ['block5d_activation[0][0]',     \n",
            "                                                                  'block5d_se_expand[0][0]']      \n",
            "                                                                                                  \n",
            " block5d_project_conv (Conv2D)  (None, 3, 3, 120)    86400       ['block5d_se_excite[0][0]']      \n",
            "                                                                                                  \n",
            " block5d_project_bn (BatchNorma  (None, 3, 3, 120)   480         ['block5d_project_conv[0][0]']   \n",
            " lization)                                                                                        \n",
            "                                                                                                  \n",
            " block5d_drop (Dropout)         (None, 3, 3, 120)    0           ['block5d_project_bn[0][0]']     \n",
            "                                                                                                  \n",
            " block5d_add (Add)              (None, 3, 3, 120)    0           ['block5d_drop[0][0]',           \n",
            "                                                                  'block5c_add[0][0]']            \n",
            "                                                                                                  \n",
            " block5e_expand_conv (Conv2D)   (None, 3, 3, 720)    86400       ['block5d_add[0][0]']            \n",
            "                                                                                                  \n",
            " block5e_expand_bn (BatchNormal  (None, 3, 3, 720)   2880        ['block5e_expand_conv[0][0]']    \n",
            " ization)                                                                                         \n",
            "                                                                                                  \n",
            " block5e_expand_activation (Act  (None, 3, 3, 720)   0           ['block5e_expand_bn[0][0]']      \n",
            " ivation)                                                                                         \n",
            "                                                                                                  \n",
            " block5e_dwconv2 (DepthwiseConv  (None, 3, 3, 720)   6480        ['block5e_expand_activation[0][0]\n",
            " 2D)                                                             ']                               \n",
            "                                                                                                  \n",
            " block5e_bn (BatchNormalization  (None, 3, 3, 720)   2880        ['block5e_dwconv2[0][0]']        \n",
            " )                                                                                                \n",
            "                                                                                                  \n",
            " block5e_activation (Activation  (None, 3, 3, 720)   0           ['block5e_bn[0][0]']             \n",
            " )                                                                                                \n",
            "                                                                                                  \n",
            " block5e_se_squeeze (GlobalAver  (None, 720)         0           ['block5e_activation[0][0]']     \n",
            " agePooling2D)                                                                                    \n",
            "                                                                                                  \n",
            " block5e_se_reshape (Reshape)   (None, 1, 1, 720)    0           ['block5e_se_squeeze[0][0]']     \n",
            "                                                                                                  \n",
            " block5e_se_reduce (Conv2D)     (None, 1, 1, 30)     21630       ['block5e_se_reshape[0][0]']     \n",
            "                                                                                                  \n",
            " block5e_se_expand (Conv2D)     (None, 1, 1, 720)    22320       ['block5e_se_reduce[0][0]']      \n",
            "                                                                                                  \n",
            " block5e_se_excite (Multiply)   (None, 3, 3, 720)    0           ['block5e_activation[0][0]',     \n",
            "                                                                  'block5e_se_expand[0][0]']      \n",
            "                                                                                                  \n",
            " block5e_project_conv (Conv2D)  (None, 3, 3, 120)    86400       ['block5e_se_excite[0][0]']      \n",
            "                                                                                                  \n",
            " block5e_project_bn (BatchNorma  (None, 3, 3, 120)   480         ['block5e_project_conv[0][0]']   \n",
            " lization)                                                                                        \n",
            "                                                                                                  \n",
            " block5e_drop (Dropout)         (None, 3, 3, 120)    0           ['block5e_project_bn[0][0]']     \n",
            "                                                                                                  \n",
            " block5e_add (Add)              (None, 3, 3, 120)    0           ['block5e_drop[0][0]',           \n",
            "                                                                  'block5d_add[0][0]']            \n",
            "                                                                                                  \n",
            " block5f_expand_conv (Conv2D)   (None, 3, 3, 720)    86400       ['block5e_add[0][0]']            \n",
            "                                                                                                  \n",
            " block5f_expand_bn (BatchNormal  (None, 3, 3, 720)   2880        ['block5f_expand_conv[0][0]']    \n",
            " ization)                                                                                         \n",
            "                                                                                                  \n",
            " block5f_expand_activation (Act  (None, 3, 3, 720)   0           ['block5f_expand_bn[0][0]']      \n",
            " ivation)                                                                                         \n",
            "                                                                                                  \n",
            " block5f_dwconv2 (DepthwiseConv  (None, 3, 3, 720)   6480        ['block5f_expand_activation[0][0]\n",
            " 2D)                                                             ']                               \n",
            "                                                                                                  \n",
            " block5f_bn (BatchNormalization  (None, 3, 3, 720)   2880        ['block5f_dwconv2[0][0]']        \n",
            " )                                                                                                \n",
            "                                                                                                  \n",
            " block5f_activation (Activation  (None, 3, 3, 720)   0           ['block5f_bn[0][0]']             \n",
            " )                                                                                                \n",
            "                                                                                                  \n",
            " block5f_se_squeeze (GlobalAver  (None, 720)         0           ['block5f_activation[0][0]']     \n",
            " agePooling2D)                                                                                    \n",
            "                                                                                                  \n",
            " block5f_se_reshape (Reshape)   (None, 1, 1, 720)    0           ['block5f_se_squeeze[0][0]']     \n",
            "                                                                                                  \n",
            " block5f_se_reduce (Conv2D)     (None, 1, 1, 30)     21630       ['block5f_se_reshape[0][0]']     \n",
            "                                                                                                  \n",
            " block5f_se_expand (Conv2D)     (None, 1, 1, 720)    22320       ['block5f_se_reduce[0][0]']      \n",
            "                                                                                                  \n",
            " block5f_se_excite (Multiply)   (None, 3, 3, 720)    0           ['block5f_activation[0][0]',     \n",
            "                                                                  'block5f_se_expand[0][0]']      \n",
            "                                                                                                  \n",
            " block5f_project_conv (Conv2D)  (None, 3, 3, 120)    86400       ['block5f_se_excite[0][0]']      \n",
            "                                                                                                  \n",
            " block5f_project_bn (BatchNorma  (None, 3, 3, 120)   480         ['block5f_project_conv[0][0]']   \n",
            " lization)                                                                                        \n",
            "                                                                                                  \n",
            " block5f_drop (Dropout)         (None, 3, 3, 120)    0           ['block5f_project_bn[0][0]']     \n",
            "                                                                                                  \n",
            " block5f_add (Add)              (None, 3, 3, 120)    0           ['block5f_drop[0][0]',           \n",
            "                                                                  'block5e_add[0][0]']            \n",
            "                                                                                                  \n",
            " block6a_expand_conv (Conv2D)   (None, 3, 3, 720)    86400       ['block5f_add[0][0]']            \n",
            "                                                                                                  \n",
            " block6a_expand_bn (BatchNormal  (None, 3, 3, 720)   2880        ['block6a_expand_conv[0][0]']    \n",
            " ization)                                                                                         \n",
            "                                                                                                  \n",
            " block6a_expand_activation (Act  (None, 3, 3, 720)   0           ['block6a_expand_bn[0][0]']      \n",
            " ivation)                                                                                         \n",
            "                                                                                                  \n",
            " block6a_dwconv2 (DepthwiseConv  (None, 2, 2, 720)   6480        ['block6a_expand_activation[0][0]\n",
            " 2D)                                                             ']                               \n",
            "                                                                                                  \n",
            " block6a_bn (BatchNormalization  (None, 2, 2, 720)   2880        ['block6a_dwconv2[0][0]']        \n",
            " )                                                                                                \n",
            "                                                                                                  \n",
            " block6a_activation (Activation  (None, 2, 2, 720)   0           ['block6a_bn[0][0]']             \n",
            " )                                                                                                \n",
            "                                                                                                  \n",
            " block6a_se_squeeze (GlobalAver  (None, 720)         0           ['block6a_activation[0][0]']     \n",
            " agePooling2D)                                                                                    \n",
            "                                                                                                  \n",
            " block6a_se_reshape (Reshape)   (None, 1, 1, 720)    0           ['block6a_se_squeeze[0][0]']     \n",
            "                                                                                                  \n",
            " block6a_se_reduce (Conv2D)     (None, 1, 1, 30)     21630       ['block6a_se_reshape[0][0]']     \n",
            "                                                                                                  \n",
            " block6a_se_expand (Conv2D)     (None, 1, 1, 720)    22320       ['block6a_se_reduce[0][0]']      \n",
            "                                                                                                  \n",
            " block6a_se_excite (Multiply)   (None, 2, 2, 720)    0           ['block6a_activation[0][0]',     \n",
            "                                                                  'block6a_se_expand[0][0]']      \n",
            "                                                                                                  \n",
            " block6a_project_conv (Conv2D)  (None, 2, 2, 208)    149760      ['block6a_se_excite[0][0]']      \n",
            "                                                                                                  \n",
            " block6a_project_bn (BatchNorma  (None, 2, 2, 208)   832         ['block6a_project_conv[0][0]']   \n",
            " lization)                                                                                        \n",
            "                                                                                                  \n",
            " block6b_expand_conv (Conv2D)   (None, 2, 2, 1248)   259584      ['block6a_project_bn[0][0]']     \n",
            "                                                                                                  \n",
            " block6b_expand_bn (BatchNormal  (None, 2, 2, 1248)  4992        ['block6b_expand_conv[0][0]']    \n",
            " ization)                                                                                         \n",
            "                                                                                                  \n",
            " block6b_expand_activation (Act  (None, 2, 2, 1248)  0           ['block6b_expand_bn[0][0]']      \n",
            " ivation)                                                                                         \n",
            "                                                                                                  \n",
            " block6b_dwconv2 (DepthwiseConv  (None, 2, 2, 1248)  11232       ['block6b_expand_activation[0][0]\n",
            " 2D)                                                             ']                               \n",
            "                                                                                                  \n",
            " block6b_bn (BatchNormalization  (None, 2, 2, 1248)  4992        ['block6b_dwconv2[0][0]']        \n",
            " )                                                                                                \n",
            "                                                                                                  \n",
            " block6b_activation (Activation  (None, 2, 2, 1248)  0           ['block6b_bn[0][0]']             \n",
            " )                                                                                                \n",
            "                                                                                                  \n",
            " block6b_se_squeeze (GlobalAver  (None, 1248)        0           ['block6b_activation[0][0]']     \n",
            " agePooling2D)                                                                                    \n",
            "                                                                                                  \n",
            " block6b_se_reshape (Reshape)   (None, 1, 1, 1248)   0           ['block6b_se_squeeze[0][0]']     \n",
            "                                                                                                  \n",
            " block6b_se_reduce (Conv2D)     (None, 1, 1, 52)     64948       ['block6b_se_reshape[0][0]']     \n",
            "                                                                                                  \n",
            " block6b_se_expand (Conv2D)     (None, 1, 1, 1248)   66144       ['block6b_se_reduce[0][0]']      \n",
            "                                                                                                  \n",
            " block6b_se_excite (Multiply)   (None, 2, 2, 1248)   0           ['block6b_activation[0][0]',     \n",
            "                                                                  'block6b_se_expand[0][0]']      \n",
            "                                                                                                  \n",
            " block6b_project_conv (Conv2D)  (None, 2, 2, 208)    259584      ['block6b_se_excite[0][0]']      \n",
            "                                                                                                  \n",
            " block6b_project_bn (BatchNorma  (None, 2, 2, 208)   832         ['block6b_project_conv[0][0]']   \n",
            " lization)                                                                                        \n",
            "                                                                                                  \n",
            " block6b_drop (Dropout)         (None, 2, 2, 208)    0           ['block6b_project_bn[0][0]']     \n",
            "                                                                                                  \n",
            " block6b_add (Add)              (None, 2, 2, 208)    0           ['block6b_drop[0][0]',           \n",
            "                                                                  'block6a_project_bn[0][0]']     \n",
            "                                                                                                  \n",
            " block6c_expand_conv (Conv2D)   (None, 2, 2, 1248)   259584      ['block6b_add[0][0]']            \n",
            "                                                                                                  \n",
            " block6c_expand_bn (BatchNormal  (None, 2, 2, 1248)  4992        ['block6c_expand_conv[0][0]']    \n",
            " ization)                                                                                         \n",
            "                                                                                                  \n",
            " block6c_expand_activation (Act  (None, 2, 2, 1248)  0           ['block6c_expand_bn[0][0]']      \n",
            " ivation)                                                                                         \n",
            "                                                                                                  \n",
            " block6c_dwconv2 (DepthwiseConv  (None, 2, 2, 1248)  11232       ['block6c_expand_activation[0][0]\n",
            " 2D)                                                             ']                               \n",
            "                                                                                                  \n",
            " block6c_bn (BatchNormalization  (None, 2, 2, 1248)  4992        ['block6c_dwconv2[0][0]']        \n",
            " )                                                                                                \n",
            "                                                                                                  \n",
            " block6c_activation (Activation  (None, 2, 2, 1248)  0           ['block6c_bn[0][0]']             \n",
            " )                                                                                                \n",
            "                                                                                                  \n",
            " block6c_se_squeeze (GlobalAver  (None, 1248)        0           ['block6c_activation[0][0]']     \n",
            " agePooling2D)                                                                                    \n",
            "                                                                                                  \n",
            " block6c_se_reshape (Reshape)   (None, 1, 1, 1248)   0           ['block6c_se_squeeze[0][0]']     \n",
            "                                                                                                  \n",
            " block6c_se_reduce (Conv2D)     (None, 1, 1, 52)     64948       ['block6c_se_reshape[0][0]']     \n",
            "                                                                                                  \n",
            " block6c_se_expand (Conv2D)     (None, 1, 1, 1248)   66144       ['block6c_se_reduce[0][0]']      \n",
            "                                                                                                  \n",
            " block6c_se_excite (Multiply)   (None, 2, 2, 1248)   0           ['block6c_activation[0][0]',     \n",
            "                                                                  'block6c_se_expand[0][0]']      \n",
            "                                                                                                  \n",
            " block6c_project_conv (Conv2D)  (None, 2, 2, 208)    259584      ['block6c_se_excite[0][0]']      \n",
            "                                                                                                  \n",
            " block6c_project_bn (BatchNorma  (None, 2, 2, 208)   832         ['block6c_project_conv[0][0]']   \n",
            " lization)                                                                                        \n",
            "                                                                                                  \n",
            " block6c_drop (Dropout)         (None, 2, 2, 208)    0           ['block6c_project_bn[0][0]']     \n",
            "                                                                                                  \n",
            " block6c_add (Add)              (None, 2, 2, 208)    0           ['block6c_drop[0][0]',           \n",
            "                                                                  'block6b_add[0][0]']            \n",
            "                                                                                                  \n",
            " block6d_expand_conv (Conv2D)   (None, 2, 2, 1248)   259584      ['block6c_add[0][0]']            \n",
            "                                                                                                  \n",
            " block6d_expand_bn (BatchNormal  (None, 2, 2, 1248)  4992        ['block6d_expand_conv[0][0]']    \n",
            " ization)                                                                                         \n",
            "                                                                                                  \n",
            " block6d_expand_activation (Act  (None, 2, 2, 1248)  0           ['block6d_expand_bn[0][0]']      \n",
            " ivation)                                                                                         \n",
            "                                                                                                  \n",
            " block6d_dwconv2 (DepthwiseConv  (None, 2, 2, 1248)  11232       ['block6d_expand_activation[0][0]\n",
            " 2D)                                                             ']                               \n",
            "                                                                                                  \n",
            " block6d_bn (BatchNormalization  (None, 2, 2, 1248)  4992        ['block6d_dwconv2[0][0]']        \n",
            " )                                                                                                \n",
            "                                                                                                  \n",
            " block6d_activation (Activation  (None, 2, 2, 1248)  0           ['block6d_bn[0][0]']             \n",
            " )                                                                                                \n",
            "                                                                                                  \n",
            " block6d_se_squeeze (GlobalAver  (None, 1248)        0           ['block6d_activation[0][0]']     \n",
            " agePooling2D)                                                                                    \n",
            "                                                                                                  \n",
            " block6d_se_reshape (Reshape)   (None, 1, 1, 1248)   0           ['block6d_se_squeeze[0][0]']     \n",
            "                                                                                                  \n",
            " block6d_se_reduce (Conv2D)     (None, 1, 1, 52)     64948       ['block6d_se_reshape[0][0]']     \n",
            "                                                                                                  \n",
            " block6d_se_expand (Conv2D)     (None, 1, 1, 1248)   66144       ['block6d_se_reduce[0][0]']      \n",
            "                                                                                                  \n",
            " block6d_se_excite (Multiply)   (None, 2, 2, 1248)   0           ['block6d_activation[0][0]',     \n",
            "                                                                  'block6d_se_expand[0][0]']      \n",
            "                                                                                                  \n",
            " block6d_project_conv (Conv2D)  (None, 2, 2, 208)    259584      ['block6d_se_excite[0][0]']      \n",
            "                                                                                                  \n",
            " block6d_project_bn (BatchNorma  (None, 2, 2, 208)   832         ['block6d_project_conv[0][0]']   \n",
            " lization)                                                                                        \n",
            "                                                                                                  \n",
            " block6d_drop (Dropout)         (None, 2, 2, 208)    0           ['block6d_project_bn[0][0]']     \n",
            "                                                                                                  \n",
            " block6d_add (Add)              (None, 2, 2, 208)    0           ['block6d_drop[0][0]',           \n",
            "                                                                  'block6c_add[0][0]']            \n",
            "                                                                                                  \n",
            " block6e_expand_conv (Conv2D)   (None, 2, 2, 1248)   259584      ['block6d_add[0][0]']            \n",
            "                                                                                                  \n",
            " block6e_expand_bn (BatchNormal  (None, 2, 2, 1248)  4992        ['block6e_expand_conv[0][0]']    \n",
            " ization)                                                                                         \n",
            "                                                                                                  \n",
            " block6e_expand_activation (Act  (None, 2, 2, 1248)  0           ['block6e_expand_bn[0][0]']      \n",
            " ivation)                                                                                         \n",
            "                                                                                                  \n",
            " block6e_dwconv2 (DepthwiseConv  (None, 2, 2, 1248)  11232       ['block6e_expand_activation[0][0]\n",
            " 2D)                                                             ']                               \n",
            "                                                                                                  \n",
            " block6e_bn (BatchNormalization  (None, 2, 2, 1248)  4992        ['block6e_dwconv2[0][0]']        \n",
            " )                                                                                                \n",
            "                                                                                                  \n",
            " block6e_activation (Activation  (None, 2, 2, 1248)  0           ['block6e_bn[0][0]']             \n",
            " )                                                                                                \n",
            "                                                                                                  \n",
            " block6e_se_squeeze (GlobalAver  (None, 1248)        0           ['block6e_activation[0][0]']     \n",
            " agePooling2D)                                                                                    \n",
            "                                                                                                  \n",
            " block6e_se_reshape (Reshape)   (None, 1, 1, 1248)   0           ['block6e_se_squeeze[0][0]']     \n",
            "                                                                                                  \n",
            " block6e_se_reduce (Conv2D)     (None, 1, 1, 52)     64948       ['block6e_se_reshape[0][0]']     \n",
            "                                                                                                  \n",
            " block6e_se_expand (Conv2D)     (None, 1, 1, 1248)   66144       ['block6e_se_reduce[0][0]']      \n",
            "                                                                                                  \n",
            " block6e_se_excite (Multiply)   (None, 2, 2, 1248)   0           ['block6e_activation[0][0]',     \n",
            "                                                                  'block6e_se_expand[0][0]']      \n",
            "                                                                                                  \n",
            " block6e_project_conv (Conv2D)  (None, 2, 2, 208)    259584      ['block6e_se_excite[0][0]']      \n",
            "                                                                                                  \n",
            " block6e_project_bn (BatchNorma  (None, 2, 2, 208)   832         ['block6e_project_conv[0][0]']   \n",
            " lization)                                                                                        \n",
            "                                                                                                  \n",
            " block6e_drop (Dropout)         (None, 2, 2, 208)    0           ['block6e_project_bn[0][0]']     \n",
            "                                                                                                  \n",
            " block6e_add (Add)              (None, 2, 2, 208)    0           ['block6e_drop[0][0]',           \n",
            "                                                                  'block6d_add[0][0]']            \n",
            "                                                                                                  \n",
            " block6f_expand_conv (Conv2D)   (None, 2, 2, 1248)   259584      ['block6e_add[0][0]']            \n",
            "                                                                                                  \n",
            " block6f_expand_bn (BatchNormal  (None, 2, 2, 1248)  4992        ['block6f_expand_conv[0][0]']    \n",
            " ization)                                                                                         \n",
            "                                                                                                  \n",
            " block6f_expand_activation (Act  (None, 2, 2, 1248)  0           ['block6f_expand_bn[0][0]']      \n",
            " ivation)                                                                                         \n",
            "                                                                                                  \n",
            " block6f_dwconv2 (DepthwiseConv  (None, 2, 2, 1248)  11232       ['block6f_expand_activation[0][0]\n",
            " 2D)                                                             ']                               \n",
            "                                                                                                  \n",
            " block6f_bn (BatchNormalization  (None, 2, 2, 1248)  4992        ['block6f_dwconv2[0][0]']        \n",
            " )                                                                                                \n",
            "                                                                                                  \n",
            " block6f_activation (Activation  (None, 2, 2, 1248)  0           ['block6f_bn[0][0]']             \n",
            " )                                                                                                \n",
            "                                                                                                  \n",
            " block6f_se_squeeze (GlobalAver  (None, 1248)        0           ['block6f_activation[0][0]']     \n",
            " agePooling2D)                                                                                    \n",
            "                                                                                                  \n",
            " block6f_se_reshape (Reshape)   (None, 1, 1, 1248)   0           ['block6f_se_squeeze[0][0]']     \n",
            "                                                                                                  \n",
            " block6f_se_reduce (Conv2D)     (None, 1, 1, 52)     64948       ['block6f_se_reshape[0][0]']     \n",
            "                                                                                                  \n",
            " block6f_se_expand (Conv2D)     (None, 1, 1, 1248)   66144       ['block6f_se_reduce[0][0]']      \n",
            "                                                                                                  \n",
            " block6f_se_excite (Multiply)   (None, 2, 2, 1248)   0           ['block6f_activation[0][0]',     \n",
            "                                                                  'block6f_se_expand[0][0]']      \n",
            "                                                                                                  \n",
            " block6f_project_conv (Conv2D)  (None, 2, 2, 208)    259584      ['block6f_se_excite[0][0]']      \n",
            "                                                                                                  \n",
            " block6f_project_bn (BatchNorma  (None, 2, 2, 208)   832         ['block6f_project_conv[0][0]']   \n",
            " lization)                                                                                        \n",
            "                                                                                                  \n",
            " block6f_drop (Dropout)         (None, 2, 2, 208)    0           ['block6f_project_bn[0][0]']     \n",
            "                                                                                                  \n",
            " block6f_add (Add)              (None, 2, 2, 208)    0           ['block6f_drop[0][0]',           \n",
            "                                                                  'block6e_add[0][0]']            \n",
            "                                                                                                  \n",
            " block6g_expand_conv (Conv2D)   (None, 2, 2, 1248)   259584      ['block6f_add[0][0]']            \n",
            "                                                                                                  \n",
            " block6g_expand_bn (BatchNormal  (None, 2, 2, 1248)  4992        ['block6g_expand_conv[0][0]']    \n",
            " ization)                                                                                         \n",
            "                                                                                                  \n",
            " block6g_expand_activation (Act  (None, 2, 2, 1248)  0           ['block6g_expand_bn[0][0]']      \n",
            " ivation)                                                                                         \n",
            "                                                                                                  \n",
            " block6g_dwconv2 (DepthwiseConv  (None, 2, 2, 1248)  11232       ['block6g_expand_activation[0][0]\n",
            " 2D)                                                             ']                               \n",
            "                                                                                                  \n",
            " block6g_bn (BatchNormalization  (None, 2, 2, 1248)  4992        ['block6g_dwconv2[0][0]']        \n",
            " )                                                                                                \n",
            "                                                                                                  \n",
            " block6g_activation (Activation  (None, 2, 2, 1248)  0           ['block6g_bn[0][0]']             \n",
            " )                                                                                                \n",
            "                                                                                                  \n",
            " block6g_se_squeeze (GlobalAver  (None, 1248)        0           ['block6g_activation[0][0]']     \n",
            " agePooling2D)                                                                                    \n",
            "                                                                                                  \n",
            " block6g_se_reshape (Reshape)   (None, 1, 1, 1248)   0           ['block6g_se_squeeze[0][0]']     \n",
            "                                                                                                  \n",
            " block6g_se_reduce (Conv2D)     (None, 1, 1, 52)     64948       ['block6g_se_reshape[0][0]']     \n",
            "                                                                                                  \n",
            " block6g_se_expand (Conv2D)     (None, 1, 1, 1248)   66144       ['block6g_se_reduce[0][0]']      \n",
            "                                                                                                  \n",
            " block6g_se_excite (Multiply)   (None, 2, 2, 1248)   0           ['block6g_activation[0][0]',     \n",
            "                                                                  'block6g_se_expand[0][0]']      \n",
            "                                                                                                  \n",
            " block6g_project_conv (Conv2D)  (None, 2, 2, 208)    259584      ['block6g_se_excite[0][0]']      \n",
            "                                                                                                  \n",
            " block6g_project_bn (BatchNorma  (None, 2, 2, 208)   832         ['block6g_project_conv[0][0]']   \n",
            " lization)                                                                                        \n",
            "                                                                                                  \n",
            " block6g_drop (Dropout)         (None, 2, 2, 208)    0           ['block6g_project_bn[0][0]']     \n",
            "                                                                                                  \n",
            " block6g_add (Add)              (None, 2, 2, 208)    0           ['block6g_drop[0][0]',           \n",
            "                                                                  'block6f_add[0][0]']            \n",
            "                                                                                                  \n",
            " block6h_expand_conv (Conv2D)   (None, 2, 2, 1248)   259584      ['block6g_add[0][0]']            \n",
            "                                                                                                  \n",
            " block6h_expand_bn (BatchNormal  (None, 2, 2, 1248)  4992        ['block6h_expand_conv[0][0]']    \n",
            " ization)                                                                                         \n",
            "                                                                                                  \n",
            " block6h_expand_activation (Act  (None, 2, 2, 1248)  0           ['block6h_expand_bn[0][0]']      \n",
            " ivation)                                                                                         \n",
            "                                                                                                  \n",
            " block6h_dwconv2 (DepthwiseConv  (None, 2, 2, 1248)  11232       ['block6h_expand_activation[0][0]\n",
            " 2D)                                                             ']                               \n",
            "                                                                                                  \n",
            " block6h_bn (BatchNormalization  (None, 2, 2, 1248)  4992        ['block6h_dwconv2[0][0]']        \n",
            " )                                                                                                \n",
            "                                                                                                  \n",
            " block6h_activation (Activation  (None, 2, 2, 1248)  0           ['block6h_bn[0][0]']             \n",
            " )                                                                                                \n",
            "                                                                                                  \n",
            " block6h_se_squeeze (GlobalAver  (None, 1248)        0           ['block6h_activation[0][0]']     \n",
            " agePooling2D)                                                                                    \n",
            "                                                                                                  \n",
            " block6h_se_reshape (Reshape)   (None, 1, 1, 1248)   0           ['block6h_se_squeeze[0][0]']     \n",
            "                                                                                                  \n",
            " block6h_se_reduce (Conv2D)     (None, 1, 1, 52)     64948       ['block6h_se_reshape[0][0]']     \n",
            "                                                                                                  \n",
            " block6h_se_expand (Conv2D)     (None, 1, 1, 1248)   66144       ['block6h_se_reduce[0][0]']      \n",
            "                                                                                                  \n",
            " block6h_se_excite (Multiply)   (None, 2, 2, 1248)   0           ['block6h_activation[0][0]',     \n",
            "                                                                  'block6h_se_expand[0][0]']      \n",
            "                                                                                                  \n",
            " block6h_project_conv (Conv2D)  (None, 2, 2, 208)    259584      ['block6h_se_excite[0][0]']      \n",
            "                                                                                                  \n",
            " block6h_project_bn (BatchNorma  (None, 2, 2, 208)   832         ['block6h_project_conv[0][0]']   \n",
            " lization)                                                                                        \n",
            "                                                                                                  \n",
            " block6h_drop (Dropout)         (None, 2, 2, 208)    0           ['block6h_project_bn[0][0]']     \n",
            "                                                                                                  \n",
            " block6h_add (Add)              (None, 2, 2, 208)    0           ['block6h_drop[0][0]',           \n",
            "                                                                  'block6g_add[0][0]']            \n",
            "                                                                                                  \n",
            " block6i_expand_conv (Conv2D)   (None, 2, 2, 1248)   259584      ['block6h_add[0][0]']            \n",
            "                                                                                                  \n",
            " block6i_expand_bn (BatchNormal  (None, 2, 2, 1248)  4992        ['block6i_expand_conv[0][0]']    \n",
            " ization)                                                                                         \n",
            "                                                                                                  \n",
            " block6i_expand_activation (Act  (None, 2, 2, 1248)  0           ['block6i_expand_bn[0][0]']      \n",
            " ivation)                                                                                         \n",
            "                                                                                                  \n",
            " block6i_dwconv2 (DepthwiseConv  (None, 2, 2, 1248)  11232       ['block6i_expand_activation[0][0]\n",
            " 2D)                                                             ']                               \n",
            "                                                                                                  \n",
            " block6i_bn (BatchNormalization  (None, 2, 2, 1248)  4992        ['block6i_dwconv2[0][0]']        \n",
            " )                                                                                                \n",
            "                                                                                                  \n",
            " block6i_activation (Activation  (None, 2, 2, 1248)  0           ['block6i_bn[0][0]']             \n",
            " )                                                                                                \n",
            "                                                                                                  \n",
            " block6i_se_squeeze (GlobalAver  (None, 1248)        0           ['block6i_activation[0][0]']     \n",
            " agePooling2D)                                                                                    \n",
            "                                                                                                  \n",
            " block6i_se_reshape (Reshape)   (None, 1, 1, 1248)   0           ['block6i_se_squeeze[0][0]']     \n",
            "                                                                                                  \n",
            " block6i_se_reduce (Conv2D)     (None, 1, 1, 52)     64948       ['block6i_se_reshape[0][0]']     \n",
            "                                                                                                  \n",
            " block6i_se_expand (Conv2D)     (None, 1, 1, 1248)   66144       ['block6i_se_reduce[0][0]']      \n",
            "                                                                                                  \n",
            " block6i_se_excite (Multiply)   (None, 2, 2, 1248)   0           ['block6i_activation[0][0]',     \n",
            "                                                                  'block6i_se_expand[0][0]']      \n",
            "                                                                                                  \n",
            " block6i_project_conv (Conv2D)  (None, 2, 2, 208)    259584      ['block6i_se_excite[0][0]']      \n",
            "                                                                                                  \n",
            " block6i_project_bn (BatchNorma  (None, 2, 2, 208)   832         ['block6i_project_conv[0][0]']   \n",
            " lization)                                                                                        \n",
            "                                                                                                  \n",
            " block6i_drop (Dropout)         (None, 2, 2, 208)    0           ['block6i_project_bn[0][0]']     \n",
            "                                                                                                  \n",
            " block6i_add (Add)              (None, 2, 2, 208)    0           ['block6i_drop[0][0]',           \n",
            "                                                                  'block6h_add[0][0]']            \n",
            "                                                                                                  \n",
            " block6j_expand_conv (Conv2D)   (None, 2, 2, 1248)   259584      ['block6i_add[0][0]']            \n",
            "                                                                                                  \n",
            " block6j_expand_bn (BatchNormal  (None, 2, 2, 1248)  4992        ['block6j_expand_conv[0][0]']    \n",
            " ization)                                                                                         \n",
            "                                                                                                  \n",
            " block6j_expand_activation (Act  (None, 2, 2, 1248)  0           ['block6j_expand_bn[0][0]']      \n",
            " ivation)                                                                                         \n",
            "                                                                                                  \n",
            " block6j_dwconv2 (DepthwiseConv  (None, 2, 2, 1248)  11232       ['block6j_expand_activation[0][0]\n",
            " 2D)                                                             ']                               \n",
            "                                                                                                  \n",
            " block6j_bn (BatchNormalization  (None, 2, 2, 1248)  4992        ['block6j_dwconv2[0][0]']        \n",
            " )                                                                                                \n",
            "                                                                                                  \n",
            " block6j_activation (Activation  (None, 2, 2, 1248)  0           ['block6j_bn[0][0]']             \n",
            " )                                                                                                \n",
            "                                                                                                  \n",
            " block6j_se_squeeze (GlobalAver  (None, 1248)        0           ['block6j_activation[0][0]']     \n",
            " agePooling2D)                                                                                    \n",
            "                                                                                                  \n",
            " block6j_se_reshape (Reshape)   (None, 1, 1, 1248)   0           ['block6j_se_squeeze[0][0]']     \n",
            "                                                                                                  \n",
            " block6j_se_reduce (Conv2D)     (None, 1, 1, 52)     64948       ['block6j_se_reshape[0][0]']     \n",
            "                                                                                                  \n",
            " block6j_se_expand (Conv2D)     (None, 1, 1, 1248)   66144       ['block6j_se_reduce[0][0]']      \n",
            "                                                                                                  \n",
            " block6j_se_excite (Multiply)   (None, 2, 2, 1248)   0           ['block6j_activation[0][0]',     \n",
            "                                                                  'block6j_se_expand[0][0]']      \n",
            "                                                                                                  \n",
            " block6j_project_conv (Conv2D)  (None, 2, 2, 208)    259584      ['block6j_se_excite[0][0]']      \n",
            "                                                                                                  \n",
            " block6j_project_bn (BatchNorma  (None, 2, 2, 208)   832         ['block6j_project_conv[0][0]']   \n",
            " lization)                                                                                        \n",
            "                                                                                                  \n",
            " block6j_drop (Dropout)         (None, 2, 2, 208)    0           ['block6j_project_bn[0][0]']     \n",
            "                                                                                                  \n",
            " block6j_add (Add)              (None, 2, 2, 208)    0           ['block6j_drop[0][0]',           \n",
            "                                                                  'block6i_add[0][0]']            \n",
            "                                                                                                  \n",
            " top_conv (Conv2D)              (None, 2, 2, 1408)   292864      ['block6j_add[0][0]']            \n",
            "                                                                                                  \n",
            " top_bn (BatchNormalization)    (None, 2, 2, 1408)   5632        ['top_conv[0][0]']               \n",
            "                                                                                                  \n",
            " top_activation (Activation)    (None, 2, 2, 1408)   0           ['top_bn[0][0]']                 \n",
            "                                                                                                  \n",
            "==================================================================================================\n",
            "Total params: 8,769,374\n",
            "Trainable params: 8,687,086\n",
            "Non-trainable params: 82,288\n",
            "__________________________________________________________________________________________________\n"
          ]
        }
      ],
      "source": [
        "import tensorflow as tf\n",
        "import tensorflow.keras.applications as ap\n",
        "from tensorflow.keras import Model\n",
        "EfficientNet = ap.EfficientNetV2B2(include_top=False,weights=\"imagenet\", input_shape= (48, 48, 3))\n",
        "\n",
        "EfficientNet.summary()"
      ]
    },
    {
      "cell_type": "markdown",
      "metadata": {
        "id": "6kDNE8pVngqC"
      },
      "source": [
        "### **Model Building**\n",
        "\n",
        "**Build your own Architecture on top of the transfer layer. Be sure to have a Flatten layer after your transfer layer and also make sure you have 4 neurons and softmax activation function in your last dense layer**"
      ]
    },
    {
      "cell_type": "code",
      "execution_count": null,
      "metadata": {
        "id": "2b27a6e1"
      },
      "outputs": [],
      "source": [
        "transfer_layer_EfficientNet = EfficientNet.get_layer('block6e_expand_activation')\n",
        "EfficientNet.trainable = False\n",
        "\n",
        "# Add your Flatten layer.\n",
        "x = Flatten()(transfer_layer_EfficientNet.output)\n",
        "\n",
        "# Add your Dense layers and/or BatchNormalization and Dropout layers\n",
        "x = Dense(256, activation='relu')(x)\n",
        "x = BatchNormalization()(x)\n",
        "x = Dropout(0.2)(x)\n",
        "\n",
        "x = Dense(128, activation='relu')(x)\n",
        "x = BatchNormalization()(x)\n",
        "x = Dropout(0.2)(x)\n",
        "\n",
        "# Add your final Dense layer with 4 neurons and softmax activation function.\n",
        "pred = Dense(4, activation='softmax')(x)\n",
        "\n",
        "Efficientnetmodel = Model(EfficientNet.input, pred)"
      ]
    },
    {
      "cell_type": "markdown",
      "metadata": {
        "id": "hVv4Df_In32Y"
      },
      "source": [
        "### **Compiling and Training the Model**"
      ]
    },
    {
      "cell_type": "code",
      "execution_count": null,
      "metadata": {
        "id": "dc326cd3"
      },
      "outputs": [],
      "source": [
        "from keras.callbacks import ModelCheckpoint, EarlyStopping, ReduceLROnPlateau\n",
        "\n",
        "checkpoint = ModelCheckpoint(\"./Efficientnetmodel.h5\", monitor='val_acc', verbose=1, save_best_only=True, mode='max')\n",
        "\n",
        "early_stopping = _________  # Write your code here. You may play around with the hyperparameters if you wish.\n",
        "\n",
        "reduce_learningrate = _________  # Write your code here. You may play around with the hyperparameters if you wish.\n",
        "\n",
        "callbacks_list = [early_stopping,checkpoint,reduce_learningrate]\n",
        "\n",
        "epochs = 10"
      ]
    },
    {
      "cell_type": "code",
      "execution_count": null,
      "metadata": {
        "id": "U13gspW8I-e3"
      },
      "outputs": [],
      "source": [
        "# Write your code to compile your Efficientnetmodel. Use categorical crossentropy as your loss function, Adam Optimizer with 0.001 learning rate, and set your metrics to 'accuracy'."
      ]
    },
    {
      "cell_type": "code",
      "execution_count": null,
      "metadata": {
        "id": "Doy0fkOwIew_"
      },
      "outputs": [],
      "source": [
        "history = # Write your code to fit your model. Use train_set as your training data and validation_set as your validation data. Train your model for 20 epochs."
      ]
    },
    {
      "cell_type": "markdown",
      "metadata": {
        "id": "2xjrzYpgoQnN"
      },
      "source": [
        "### **Evaluating the EfficientnetNet Model**"
      ]
    },
    {
      "cell_type": "code",
      "execution_count": null,
      "metadata": {
        "id": "WJVFenvnoQnN"
      },
      "outputs": [],
      "source": [
        "# Write your code to evaluate the model performance on the test set"
      ]
    },
    {
      "cell_type": "markdown",
      "metadata": {
        "id": "kWlk14FOoQnN"
      },
      "source": [
        "**Observations and Insights:__**\n",
        "\n",
        "**Note: You can even go back and build your own architecture on top of the VGG16 Transfer layer and see if you can improve the performance.**"
      ]
    },
    {
      "cell_type": "markdown",
      "metadata": {
        "id": "fk6QAcv5odNF"
      },
      "source": [
        "**Think About It:**\n",
        "\n",
        "* What is your overall performance of these Transfer Learning Architectures? Can we draw a comparison of these models' performances. Are we satisfied with the accuracies that we have received?\n",
        "* Do you think our issue lies with 'rgb' color_mode?"
      ]
    },
    {
      "cell_type": "markdown",
      "metadata": {
        "id": "-EH3atQP8q_v"
      },
      "source": [
        "Now that we have tried multiple pre-trained models, let's build a complex CNN architecture and see if we can get better performance."
      ]
    },
    {
      "cell_type": "markdown",
      "metadata": {
        "id": "SjKlBaZDpWoV"
      },
      "source": [
        "## **Building a Complex Neural Network Architecture**"
      ]
    },
    {
      "cell_type": "markdown",
      "metadata": {
        "id": "-bMFUj3Fpe75"
      },
      "source": [
        "In this section, we will build a more complex Convolutional Neural Network Model that has close to as many parameters as we had in our Transfer Learning Models. However, we will have only 1 input channel for our input images."
      ]
    },
    {
      "cell_type": "markdown",
      "metadata": {
        "id": "ejGfyYSbtx-F"
      },
      "source": [
        "## **Creating our Data Loaders**\n",
        "\n",
        "In this section, we are creating data loaders which we will use as inputs to the more Complicated Convolutional Neural Network. We will go ahead with color_mode = 'grayscale'."
      ]
    },
    {
      "cell_type": "code",
      "execution_count": null,
      "metadata": {
        "id": "xj1hM5_ttx-F"
      },
      "outputs": [],
      "source": [
        "batch_size  = 32\n",
        "img_size = 48\n",
        "\n",
        "datagen_train = ImageDataGenerator(horizontal_flip = True,\n",
        "                                    brightness_range = (0., 2.),\n",
        "                                    rescale = 1./255,\n",
        "                                    shear_range = 0.3)\n",
        "\n",
        "train_set = datagen_train.flow_from_directory(folder_path + \"train\",\n",
        "                                              target_size = (img_size, img_size),\n",
        "                                              color_mode = 'grayscale',\n",
        "                                              batch_size = batch_size,\n",
        "                                              class_mode = 'categorical',\n",
        "                                              classes = ['happy', 'sad', 'neutral', 'surprise'],\n",
        "                                              shuffle = True)\n",
        "\n",
        "\n",
        "datagen_validation = # Write your code here\n",
        "\n",
        "validation_set = # Write your code here\n",
        "\n",
        "datagen_test = # Write your code here\n",
        "\n",
        "test_set = # Write your code here"
      ]
    },
    {
      "cell_type": "markdown",
      "metadata": {
        "id": "Ft5U6f1Wie2R"
      },
      "source": [
        "### **Model Building**\n",
        "\n",
        "* In this network, we plan to have 5 Convolutional Blocks\n",
        "* Add first Conv2D layer with **64 filters** and a **kernel size of 2**. Use the 'same' padding and provide the **input shape = (48, 48, 1)**. Use **'relu' activation**.\n",
        "* Add your BatchNormalization layer followed by a LeakyRelU layer with Leaky ReLU parameter of **0.1**\n",
        "* Add MaxPooling2D layer with **pool size = 2**.\n",
        "* Add a Dropout layer with a Dropout Ratio of **0.2**. This completes the first Convolutional block.\n",
        "* Add a second Conv2D layer with **128 filters** and a **kernel size of 2**. Use the **'same' padding** and **'relu' activation.**\n",
        "* Follow this up with a similar BatchNormalization, LeakyRelU, Maxpooling2D, and Dropout layer like above to complete your second Convolutional Block.\n",
        "* Add a third Conv2D layer with **512 filters** and a **kernel size of 2**. Use the **'same' padding** and **'relu' activation.** Once again, follow it up with a BatchNormalization, LeakyRelU, Maxpooling2D, and Dropout layer to complete your third Convolutional block.\n",
        "* Add a fourth block, with the Conv2D layer having **512 filters**.\n",
        "* Add the fifth block, having **128 filters**.\n",
        "* Then add your Flatten layer, followed by your Dense layers.\n",
        "* Add your first Dense layer with **256 neurons** followed by a BatchNormalization layer, a **'relu'** Activation, and a Dropout layer. This forms your first Fully Connected block\n",
        "* Add your second Dense layer with **512 neurons**, again followed by a BatchNormalization layer, **relu** activation, and a Dropout layer.\n",
        "* Add your final Dense layer with 4 neurons.\n",
        "* Compile your model with the optimizer of your choice."
      ]
    },
    {
      "cell_type": "code",
      "execution_count": null,
      "metadata": {
        "id": "37f9194d"
      },
      "outputs": [],
      "source": [
        "no_of_classes = 4\n",
        "\n",
        "model3 = Sequential()\n",
        "\n",
        "# Add 1st CNN Block\n",
        "____________\n",
        "\n",
        "# Add 2nd CNN Block\n",
        "____________\n",
        "\n",
        "# Add 3rd CNN Block\n",
        "____________\n",
        "\n",
        "# Add 4th CNN Block\n",
        "____________\n",
        "\n",
        "# Add 5th CNN Block\n",
        "____________\n",
        "\n",
        "model3.add(Flatten())\n",
        "\n",
        "# First fully connected layer\n",
        "____________\n",
        "\n",
        "# Second fully connected layer\n",
        "____________\n",
        "\n",
        "model3.add(Dense(no_of_classes, activation = 'softmax'))"
      ]
    },
    {
      "cell_type": "markdown",
      "metadata": {
        "id": "fyc0B--hwTHS"
      },
      "source": [
        "### **Compiling and Training the Model**"
      ]
    },
    {
      "cell_type": "code",
      "execution_count": null,
      "metadata": {
        "id": "0edabf52"
      },
      "outputs": [],
      "source": [
        "from keras.callbacks import ModelCheckpoint, ReduceLROnPlateau, CSVLogger\n",
        "\n",
        "epochs = 35\n",
        "\n",
        "steps_per_epoch = train_set.n//train_set.batch_size\n",
        "validation_steps = validation_set.n//validation_set.batch_size\n",
        "\n",
        "checkpoint = ModelCheckpoint(\"model3.h5\", monitor = 'val_accuracy',\n",
        "                            save_weights_only = True, model = 'max', verbose = 1)\n",
        "\n",
        "reduce_lr = ReduceLROnPlateau(monitor = 'val_loss', factor = 0.1, patience = 2, min_lr = 0.0001 , model = 'auto')\n",
        "\n",
        "callbacks = [checkpoint, reduce_lr]"
      ]
    },
    {
      "cell_type": "code",
      "execution_count": null,
      "metadata": {
        "id": "IYDJwZWmKSK6"
      },
      "outputs": [],
      "source": [
        "# Write your code to compile your model3. Use categorical crossentropy as the loss function, Adam Optimizer with 0.003 learning rate, and set metrics to 'accuracy'."
      ]
    },
    {
      "cell_type": "code",
      "execution_count": null,
      "metadata": {
        "id": "_tB9HX5sKjUL"
      },
      "outputs": [],
      "source": [
        "history = # Write your code to fit your model. Use train_set as the training data and validation_set as the validation data. Train your model for 35 epochs."
      ]
    },
    {
      "cell_type": "markdown",
      "metadata": {
        "id": "BbAqrAQQVjIR"
      },
      "source": [
        "### **Evaluating the Model on Test Set**"
      ]
    },
    {
      "cell_type": "code",
      "execution_count": null,
      "metadata": {
        "id": "uO26AYRuVm7F"
      },
      "outputs": [],
      "source": [
        "# Write your code to evaluate the model performance on the test set"
      ]
    },
    {
      "cell_type": "markdown",
      "metadata": {
        "id": "81uYGSmHwxfD"
      },
      "source": [
        "**Observations and Insights:__**"
      ]
    },
    {
      "cell_type": "markdown",
      "metadata": {
        "id": "GNWc6agwxJ_z"
      },
      "source": [
        "### **Plotting the Confusion Matrix for the chosen final model**"
      ]
    },
    {
      "cell_type": "code",
      "execution_count": null,
      "metadata": {
        "id": "SFTRyIk-yjoQ"
      },
      "outputs": [],
      "source": [
        "# Plot the confusion matrix and generate a classification report for the model\n",
        "from sklearn.metrics import classification_report\n",
        "from sklearn.metrics import confusion_matrix\n",
        "test_set = datagen_test.flow_from_directory(folder_path + \"test\",\n",
        "                                                              target_size = (img_size,img_size),\n",
        "                                                              color_mode = 'grayscale',\n",
        "                                                              batch_size = 128,\n",
        "                                                              class_mode = 'categorical',\n",
        "                                                              classes = ['happy', 'sad', 'neutral', 'surprise'],\n",
        "                                                              shuffle = True)\n",
        "test_images, test_labels = next(test_set)\n",
        "\n",
        "# Write the name of your chosen model in the blank\n",
        "pred = ________.predict(test_images)\n",
        "pred = np.argmax(pred, axis = 1)\n",
        "y_true = np.argmax(test_labels, axis = 1)\n",
        "\n",
        "# Printing the classification report\n",
        "_____________\n",
        "\n",
        "# Plotting the heatmap using confusion matrix\n",
        "cm = confusion_matrix(y_true, pred)\n",
        "plt.figure(figsize = (8, 5))\n",
        "sns.heatmap(cm, annot = True,  fmt = '.0f', xticklabels = ['happy', 'sad', 'neutral', 'surprise'], yticklabels = ['happy', 'sad', 'neutral', 'surprise'])\n",
        "plt.ylabel('Actual')\n",
        "plt.xlabel('Predicted')\n",
        "plt.show()"
      ]
    },
    {
      "cell_type": "markdown",
      "metadata": {
        "id": "LGgvpOrP8q_x"
      },
      "source": [
        "**Observations and Insights:__**"
      ]
    },
    {
      "cell_type": "markdown",
      "metadata": {
        "id": "6s_baiF_KllW"
      },
      "source": [
        "## **Conclusion:____________**"
      ]
    },
    {
      "cell_type": "markdown",
      "metadata": {
        "id": "MEZPA_mN0tUo"
      },
      "source": [
        "### **Insights**\n",
        "\n",
        "### **Refined insights**:\n",
        "- What are the most meaningful insights from the data relevant to the problem?\n",
        "\n",
        "### **Comparison of various techniques and their relative performance**:\n",
        "- How do different techniques perform? Which one is performing relatively better? Is there scope to improve the performance further?\n",
        "\n",
        "### **Proposal for the final solution design**:\n",
        "- What model do you propose to be adopted? Why is this the best solution to adopt?"
      ]
    }
  ],
  "metadata": {
    "colab": {
      "provenance": []
    },
    "kernelspec": {
      "display_name": "Python 3 (ipykernel)",
      "language": "python",
      "name": "python3"
    },
    "language_info": {
      "codemirror_mode": {
        "name": "ipython",
        "version": 3
      },
      "file_extension": ".py",
      "mimetype": "text/x-python",
      "name": "python",
      "nbconvert_exporter": "python",
      "pygments_lexer": "ipython3",
      "version": "3.9.7"
    }
  },
  "nbformat": 4,
  "nbformat_minor": 0
}